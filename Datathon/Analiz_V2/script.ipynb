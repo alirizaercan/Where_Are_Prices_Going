{
 "cells": [
  {
   "cell_type": "code",
   "execution_count": 6,
   "metadata": {},
   "outputs": [
    {
     "name": "stdout",
     "output_type": "stream",
     "text": [
      "Empty DataFrame\n",
      "Columns: [Tarih, Benzin (TL/LT)]\n",
      "Index: []\n"
     ]
    }
   ],
   "source": [
    "import csv\n",
    "import json\n",
    "\n",
    "def csv_to_json(csv_file, json_file):\n",
    "    # CSV dosyasını oku ve JSON dosyasına yaz\n",
    "    with open(csv_file, 'r') as csv_input:\n",
    "        csv_reader = csv.DictReader(csv_input)\n",
    "        data = [row for row in csv_reader]\n",
    "\n",
    "        with open(json_file, 'w') as json_output:\n",
    "            json_output.write(json.dumps(data, indent=2))\n",
    "\n",
    "# Kullanım örneği\n",
    "csv_to_json('son_hali.csv', 'ornek.json')"
   ]
  }
 ],
 "metadata": {
  "kernelspec": {
   "display_name": "Python 3",
   "language": "python",
   "name": "python3"
  },
  "language_info": {
   "codemirror_mode": {
    "name": "ipython",
    "version": 3
   },
   "file_extension": ".py",
   "mimetype": "text/x-python",
   "name": "python",
   "nbconvert_exporter": "python",
   "pygments_lexer": "ipython3",
   "version": "3.9.0"
  }
 },
 "nbformat": 4,
 "nbformat_minor": 2
}
