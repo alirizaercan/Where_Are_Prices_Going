{
 "cells": [
  {
   "cell_type": "code",
   "execution_count": 30,
   "metadata": {},
   "outputs": [],
   "source": [
    "\n",
    "import numpy as np\n",
    "import pandas as pd\n",
    "import matplotlib.pyplot as plt\n",
    "import seaborn as sns\n",
    "from collections import Counter"
   ]
  },
  {
   "cell_type": "code",
   "execution_count": 31,
   "metadata": {},
   "outputs": [
    {
     "data": {
      "text/html": [
       "<div>\n",
       "<style scoped>\n",
       "    .dataframe tbody tr th:only-of-type {\n",
       "        vertical-align: middle;\n",
       "    }\n",
       "\n",
       "    .dataframe tbody tr th {\n",
       "        vertical-align: top;\n",
       "    }\n",
       "\n",
       "    .dataframe thead th {\n",
       "        text-align: right;\n",
       "    }\n",
       "</style>\n",
       "<table border=\"1\" class=\"dataframe\">\n",
       "  <thead>\n",
       "    <tr style=\"text-align: right;\">\n",
       "      <th></th>\n",
       "      <th>_id</th>\n",
       "      <th>tarih</th>\n",
       "      <th>urun_ad</th>\n",
       "      <th>birim</th>\n",
       "      <th>tur</th>\n",
       "      <th>en_dusuk_fiyat</th>\n",
       "      <th>en_yuksek_fiyat</th>\n",
       "    </tr>\n",
       "  </thead>\n",
       "  <tbody>\n",
       "    <tr>\n",
       "      <th>0</th>\n",
       "      <td>1</td>\n",
       "      <td>2004-03-02T00:00:00</td>\n",
       "      <td>ARMUT( Ankara )</td>\n",
       "      <td>Kg</td>\n",
       "      <td>1</td>\n",
       "      <td>1.60</td>\n",
       "      <td>1.70</td>\n",
       "    </tr>\n",
       "    <tr>\n",
       "      <th>1</th>\n",
       "      <td>2</td>\n",
       "      <td>2004-03-02T00:00:00</td>\n",
       "      <td>AYVA</td>\n",
       "      <td>Kg</td>\n",
       "      <td>1</td>\n",
       "      <td>0.55</td>\n",
       "      <td>0.30</td>\n",
       "    </tr>\n",
       "    <tr>\n",
       "      <th>2</th>\n",
       "      <td>3</td>\n",
       "      <td>2004-03-02T00:00:00</td>\n",
       "      <td>BAKLA</td>\n",
       "      <td>Kg</td>\n",
       "      <td>0</td>\n",
       "      <td>1.60</td>\n",
       "      <td>1.80</td>\n",
       "    </tr>\n",
       "    <tr>\n",
       "      <th>3</th>\n",
       "      <td>4</td>\n",
       "      <td>2004-03-02T00:00:00</td>\n",
       "      <td>BİBER (Çarli)</td>\n",
       "      <td>Kg</td>\n",
       "      <td>0</td>\n",
       "      <td>1.10</td>\n",
       "      <td>1.30</td>\n",
       "    </tr>\n",
       "    <tr>\n",
       "      <th>4</th>\n",
       "      <td>5</td>\n",
       "      <td>2004-03-02T00:00:00</td>\n",
       "      <td>BİBER (Dolma)</td>\n",
       "      <td>Kg</td>\n",
       "      <td>0</td>\n",
       "      <td>1.10</td>\n",
       "      <td>1.55</td>\n",
       "    </tr>\n",
       "  </tbody>\n",
       "</table>\n",
       "</div>"
      ],
      "text/plain": [
       "   _id                tarih          urun_ad birim  tur  en_dusuk_fiyat  \\\n",
       "0    1  2004-03-02T00:00:00  ARMUT( Ankara )    Kg    1            1.60   \n",
       "1    2  2004-03-02T00:00:00             AYVA    Kg    1            0.55   \n",
       "2    3  2004-03-02T00:00:00            BAKLA    Kg    0            1.60   \n",
       "3    4  2004-03-02T00:00:00    BİBER (Çarli)    Kg    0            1.10   \n",
       "4    5  2004-03-02T00:00:00    BİBER (Dolma)    Kg    0            1.10   \n",
       "\n",
       "   en_yuksek_fiyat  \n",
       "0             1.70  \n",
       "1             0.30  \n",
       "2             1.80  \n",
       "3             1.30  \n",
       "4             1.55  "
      ]
     },
     "execution_count": 31,
     "metadata": {},
     "output_type": "execute_result"
    }
   ],
   "source": [
    "hal = pd.read_csv(\"hal_fiyatlari.csv\")\n",
    "hal.head()"
   ]
  },
  {
   "cell_type": "code",
   "execution_count": 32,
   "metadata": {},
   "outputs": [
    {
     "data": {
      "text/plain": [
       "(121840, 7)"
      ]
     },
     "execution_count": 32,
     "metadata": {},
     "output_type": "execute_result"
    }
   ],
   "source": [
    "hal.shape"
   ]
  },
  {
   "cell_type": "code",
   "execution_count": 33,
   "metadata": {},
   "outputs": [
    {
     "name": "stdout",
     "output_type": "stream",
     "text": [
      "Satır Sayısı: 121840\n"
     ]
    }
   ],
   "source": [
    "satir_sayisi = hal.shape[0]\n",
    "\n",
    "print(\"Satır Sayısı:\", satir_sayisi)"
   ]
  },
  {
   "cell_type": "code",
   "execution_count": 34,
   "metadata": {},
   "outputs": [
    {
     "data": {
      "text/plain": [
       "_id                  int64\n",
       "tarih               object\n",
       "urun_ad             object\n",
       "birim               object\n",
       "tur                  int64\n",
       "en_dusuk_fiyat     float64\n",
       "en_yuksek_fiyat    float64\n",
       "dtype: object"
      ]
     },
     "execution_count": 34,
     "metadata": {},
     "output_type": "execute_result"
    }
   ],
   "source": [
    "hal.dtypes"
   ]
  },
  {
   "cell_type": "code",
   "execution_count": 35,
   "metadata": {},
   "outputs": [
    {
     "data": {
      "text/html": [
       "<div>\n",
       "<style scoped>\n",
       "    .dataframe tbody tr th:only-of-type {\n",
       "        vertical-align: middle;\n",
       "    }\n",
       "\n",
       "    .dataframe tbody tr th {\n",
       "        vertical-align: top;\n",
       "    }\n",
       "\n",
       "    .dataframe thead th {\n",
       "        text-align: right;\n",
       "    }\n",
       "</style>\n",
       "<table border=\"1\" class=\"dataframe\">\n",
       "  <thead>\n",
       "    <tr style=\"text-align: right;\">\n",
       "      <th></th>\n",
       "      <th>count</th>\n",
       "      <th>mean</th>\n",
       "      <th>std</th>\n",
       "      <th>min</th>\n",
       "      <th>25%</th>\n",
       "      <th>50%</th>\n",
       "      <th>75%</th>\n",
       "      <th>max</th>\n",
       "    </tr>\n",
       "  </thead>\n",
       "  <tbody>\n",
       "    <tr>\n",
       "      <th>_id</th>\n",
       "      <td>121840.0</td>\n",
       "      <td>60920.500000</td>\n",
       "      <td>35172.322736</td>\n",
       "      <td>1.0</td>\n",
       "      <td>30460.75</td>\n",
       "      <td>60920.5</td>\n",
       "      <td>91380.25</td>\n",
       "      <td>121840.0</td>\n",
       "    </tr>\n",
       "    <tr>\n",
       "      <th>tur</th>\n",
       "      <td>121840.0</td>\n",
       "      <td>0.340923</td>\n",
       "      <td>0.474021</td>\n",
       "      <td>0.0</td>\n",
       "      <td>0.00</td>\n",
       "      <td>0.0</td>\n",
       "      <td>1.00</td>\n",
       "      <td>1.0</td>\n",
       "    </tr>\n",
       "    <tr>\n",
       "      <th>en_dusuk_fiyat</th>\n",
       "      <td>121840.0</td>\n",
       "      <td>3.531770</td>\n",
       "      <td>9.238754</td>\n",
       "      <td>0.0</td>\n",
       "      <td>0.50</td>\n",
       "      <td>1.0</td>\n",
       "      <td>3.00</td>\n",
       "      <td>210.0</td>\n",
       "    </tr>\n",
       "    <tr>\n",
       "      <th>en_yuksek_fiyat</th>\n",
       "      <td>121840.0</td>\n",
       "      <td>6.160193</td>\n",
       "      <td>13.018415</td>\n",
       "      <td>0.0</td>\n",
       "      <td>1.30</td>\n",
       "      <td>2.5</td>\n",
       "      <td>6.00</td>\n",
       "      <td>260.0</td>\n",
       "    </tr>\n",
       "  </tbody>\n",
       "</table>\n",
       "</div>"
      ],
      "text/plain": [
       "                    count          mean           std  min       25%      50%  \\\n",
       "_id              121840.0  60920.500000  35172.322736  1.0  30460.75  60920.5   \n",
       "tur              121840.0      0.340923      0.474021  0.0      0.00      0.0   \n",
       "en_dusuk_fiyat   121840.0      3.531770      9.238754  0.0      0.50      1.0   \n",
       "en_yuksek_fiyat  121840.0      6.160193     13.018415  0.0      1.30      2.5   \n",
       "\n",
       "                      75%       max  \n",
       "_id              91380.25  121840.0  \n",
       "tur                  1.00       1.0  \n",
       "en_dusuk_fiyat       3.00     210.0  \n",
       "en_yuksek_fiyat      6.00     260.0  "
      ]
     },
     "execution_count": 35,
     "metadata": {},
     "output_type": "execute_result"
    }
   ],
   "source": [
    "hal.describe().T"
   ]
  },
  {
   "cell_type": "code",
   "execution_count": 36,
   "metadata": {},
   "outputs": [
    {
     "data": {
      "text/plain": [
       "array([1, 0], dtype=int64)"
      ]
     },
     "execution_count": 36,
     "metadata": {},
     "output_type": "execute_result"
    }
   ],
   "source": [
    "turler = hal[\"tur\"]\n",
    "turler.unique()"
   ]
  },
  {
   "cell_type": "code",
   "execution_count": 37,
   "metadata": {},
   "outputs": [
    {
     "data": {
      "text/plain": [
       "array(['ARMUT( Ankara )', 'AYVA', 'BAKLA', 'BİBER (Çarli)',\n",
       "       'BİBER (Dolma)', 'BİBER Salçalık (Kapya)', 'ÇİLEK',\n",
       "       'DERE OTU (Bağ)', 'ELMA (Amasya)', 'ELMA (Golden)',\n",
       "       'ELMA (Muhtelif)', 'GREYFURT', 'HAVUÇ', 'ISPANAK', 'KABAK (Bal)',\n",
       "       'KARNABAHAR', 'KEREVİZ', 'KİVİ', 'LAHANA (Beyaz)', 'LAHANA (Mor)',\n",
       "       'PATATES', 'MAYDONOZ (Bağ)', 'MUZ (İthal)', 'MUZ (Yerli)',\n",
       "       'NANE(Bağ)', 'NAR çekirdeksiz', 'PATLICAN (Kemer)',\n",
       "       'PATLICAN (Topak)', 'BİBER (Kıl)', 'HIRTLAK', 'DUT',\n",
       "       'DOMATES (Muhtelif)', 'DOMATES (Salkım)', 'ERİK (Muhtelif)',\n",
       "       'BROKOLİ', 'BİBER (Sivri)', 'ELMA (İthal)', 'ELMA (Starking)',\n",
       "       'BAMYA', 'CEVİZ', 'AVAKADO', 'HİNDİSTAN CEVİZİ(Adet)',\n",
       "       'FASULYE (Muhtelif)', 'DOMATES (Salçalık)', 'BEZELYE (Araka)',\n",
       "       'ENGİNAR(Adet)', 'ERİK (Can-Papaz)', 'KABAK (Kara)', 'BİBER (Cin)',\n",
       "       'FESLEĞEN(REYHAN)Bağ', 'MANTAR (Kültür)', 'KABAK (Beyaz)',\n",
       "       'KAVUN (Muhtelif)', 'KARPUZ (Muhtelif)', 'KİRAZ (Yerli)',\n",
       "       'KİRAZ (Beyaz)', 'KİRAZ (Muhtelif)', 'KAYISI (Muhtelif)',\n",
       "       'MARUL (Aysberk)Adet', 'MARUL (Muhtelif)Adet', 'MARUL (Mor)Adet',\n",
       "       'MANDALİN (King)', 'EKŞİ OT (Bağ)', 'MISIR (Taze)Adet', 'PIRASA',\n",
       "       'PAZI', 'LAHANA (Bürüksel)', 'PORTAKAL (Washington)',\n",
       "       'PANCAR (Kırmızı)', 'ROKA(Bağ)', 'SEMİZ OTU(Bağ)',\n",
       "       'SARIMSAK (Taze)', 'SARIMSAK (Kuru)', 'SOGAN  ( Yeşil )',\n",
       "       'SOGAN (Kuru)', 'SOGAN (Kırmızı)', 'SALATALIK (Muhtelif)',\n",
       "       'ŞEFTALİ (Muhtelif)', 'SOGAN (Göğer)', 'SALATALIK (Silor)',\n",
       "       'NOHUT (Taze)', 'DOMATES (Çeri)', 'ASMA YAPRAĞI',\n",
       "       'SALATALIK (Yerli)', 'YENİ DÜNYA (Malta)', 'ÜZÜM (Siyah)',\n",
       "       'ÜZÜM (Muhtelif)', 'TERE', 'ŞEFTALİ (Nektari)',\n",
       "       'PORTAKAL (Muhtelif)', 'YER ELMASI', 'MANDALİN (Muhtelif)',\n",
       "       'ÜZÜM (Çekirdeksiz)', 'BARBUNYA', 'TERMİYE', 'KABAK (Yerli)',\n",
       "       'İNCİR ( Beyaz )', 'TURP (  Muhtelif )', 'BİBER Sivri (Yerli)',\n",
       "       'BİBER Dolma (Yerli)', 'MARUL (Yerli)Adet', 'VİŞNE (yerli)',\n",
       "       'FASULYE (Yerli)', 'SALATALIK (Kornişon)', 'FINDIK TAZE',\n",
       "       'ARMUT (Deveci)', 'DOMATES (Yerli)', 'PATLICAN (Yerli)',\n",
       "       'HURMA ( Cennet )', 'MUŞMULA (Döngel)', 'KESTANE ',\n",
       "       'MAYDONOZ (Yerli) Bağ', 'BİBER Kıl (Yerli)', 'PORTAKAL (Finike)',\n",
       "       'BİBER Çarli (Yerli)', 'PATATES ( 2.)', 'BİBER (Köy)',\n",
       "       'soğan yeşil (yerli)', 'ÇAĞLA', 'LİMON', 'PATATES (taze)',\n",
       "       'BİBER (II)', 'DOMATES (II)', 'ELMA (II)', 'LİMON (II)',\n",
       "       'MANDALİN (II)', 'NAR ( Muhtelif )', 'PORTAKAL (II)',\n",
       "       'SALATALIK (II)', 'SOĞAN (II)', 'ŞEFTALİ YERLİ',\n",
       "       'MANDALİNA (satsuma)', 'ANANAS', 'ARMUT (Muhtelif)',\n",
       "       'ELMA (Arjantin)', 'LİMON(yatak)', 'KAYISI (Yerli)',\n",
       "       'KARPUZ (İthal)', 'KAVUN (İthal)', 'ZENCEFİL (Taze )',\n",
       "       'SEMİZ OTU(Bağ) yerli', 'TURP KIRMIZI (yerli)', 'KIZILCIK',\n",
       "       'DOMATES (köy)', 'NEKTARİ', 'ELMA (YERLİ) Muhtelif',\n",
       "       'ELMA (YEŞİL)', 'KİRAZ (Napolyon )', 'ERİK ( Anjelika )', 'VİŞNE',\n",
       "       'Domates 2', 'İNCİR ( Siyah )', 'ARMUT (Santa Marina)',\n",
       "       'ELMA (Granny Smith)', 'ERİK (Freze)', 'LİMON (File )',\n",
       "       'PORTAKAL (Sıkmalık )', 'DOMATES (Salkım Kutu)', 'KİVİ (İthal )'],\n",
       "      dtype=object)"
      ]
     },
     "execution_count": 37,
     "metadata": {},
     "output_type": "execute_result"
    }
   ],
   "source": [
    "urun_ad = hal[\"urun_ad\"]\n",
    "urun_ad.unique()"
   ]
  },
  {
   "cell_type": "code",
   "execution_count": 38,
   "metadata": {},
   "outputs": [
    {
     "data": {
      "text/plain": [
       "urun_ad\n",
       "MUZ (İthal)         1753\n",
       "BİBER (Dolma)       1752\n",
       "PATLICAN (Kemer)    1751\n",
       "BİBER (Çarli)       1749\n",
       "ISPANAK             1743\n",
       "                    ... \n",
       "KIZILCIK               3\n",
       "Domates 2              2\n",
       "ERİK (Freze)           2\n",
       "ŞEFTALİ YERLİ          2\n",
       "ELMA (YEŞİL)           1\n",
       "Name: count, Length: 159, dtype: int64"
      ]
     },
     "execution_count": 38,
     "metadata": {},
     "output_type": "execute_result"
    }
   ],
   "source": [
    "urun_ad.value_counts()"
   ]
  },
  {
   "cell_type": "code",
   "execution_count": 39,
   "metadata": {},
   "outputs": [
    {
     "name": "stdout",
     "output_type": "stream",
     "text": [
      "Bütün Benzersiz Değerler:\n",
      "urun_ad\n",
      "MUZ (İthal)         1753\n",
      "BİBER (Dolma)       1752\n",
      "PATLICAN (Kemer)    1751\n",
      "BİBER (Çarli)       1749\n",
      "ISPANAK             1743\n",
      "                    ... \n",
      "KIZILCIK               3\n",
      "Domates 2              2\n",
      "ERİK (Freze)           2\n",
      "ŞEFTALİ YERLİ          2\n",
      "ELMA (YEŞİL)           1\n",
      "Name: count, Length: 159, dtype: int64\n",
      "\n",
      "Eşik Değeri Aşmayanlar:\n",
      "urun_ad\n",
      "MUZ (İthal)            1753\n",
      "BİBER (Dolma)          1752\n",
      "PATLICAN (Kemer)       1751\n",
      "BİBER (Çarli)          1749\n",
      "ISPANAK                1743\n",
      "                       ... \n",
      "ARMUT (Muhtelif)        261\n",
      "MUŞMULA (Döngel)        251\n",
      "PATLICAN (Yerli)        249\n",
      "MANDALİNA (satsuma)     235\n",
      "MANDALİN (King)         205\n",
      "Name: count, Length: 120, dtype: int64\n",
      "\n",
      "Filtrelenmiş DataFrame:\n",
      "                  urun_ad  tur\n",
      "0         ARMUT( Ankara )    1\n",
      "1                    AYVA    1\n",
      "2                   BAKLA    0\n",
      "3           BİBER (Çarli)    0\n",
      "4           BİBER (Dolma)    0\n",
      "...                   ...  ...\n",
      "121834               AYVA    1\n",
      "121836           GREYFURT    1\n",
      "121837         YER ELMASI    1\n",
      "121838  KARPUZ (Muhtelif)    1\n",
      "121839           KESTANE     1\n",
      "\n",
      "[119141 rows x 2 columns]\n"
     ]
    }
   ],
   "source": [
    "unique_values = hal['urun_ad'].value_counts()\n",
    "\n",
    "# Eşik değeri belirleyin\n",
    "threshold = 200\n",
    "\n",
    "# Eşik değerini aşmayanları filtreleyin\n",
    "filtered_values = unique_values[unique_values >= threshold]\n",
    "\n",
    "# DataFrame'i filtreleyin ve yeni DataFrame'i oluşturun\n",
    "veriler_filtered = hal[hal['urun_ad'].isin(filtered_values.index)]\n",
    "\n",
    "# Sonuçları yazdırın\n",
    "print(\"Bütün Benzersiz Değerler:\")\n",
    "print(unique_values)\n",
    "print(\"\\nEşik Değeri Aşmayanlar:\")\n",
    "print(filtered_values)\n",
    "print(\"\\nFiltrelenmiş DataFrame:\")\n",
    "print(veriler_filtered[['urun_ad', 'tur']])"
   ]
  },
  {
   "cell_type": "code",
   "execution_count": 40,
   "metadata": {},
   "outputs": [
    {
     "name": "stdout",
     "output_type": "stream",
     "text": [
      "Urun Ad: NOHUT (Taze), Adet: 199\n",
      "Urun Ad: KİRAZ (Beyaz), Adet: 194\n",
      "Urun Ad: BİBER Çarli (Yerli), Adet: 187\n",
      "Urun Ad: SOGAN (Göğer), Adet: 182\n",
      "Urun Ad: FINDIK TAZE, Adet: 174\n",
      "Urun Ad: VİŞNE (yerli), Adet: 172\n",
      "Urun Ad: ERİK ( Anjelika ), Adet: 149\n",
      "Urun Ad: NEKTARİ, Adet: 140\n",
      "Urun Ad: ELMA (II), Adet: 111\n",
      "Urun Ad: ELMA (Arjantin), Adet: 105\n",
      "Urun Ad: LİMON (File ), Adet: 104\n",
      "Urun Ad: ARMUT (Santa Marina), Adet: 104\n",
      "Urun Ad: ÇAĞLA, Adet: 104\n",
      "Urun Ad: ELMA (Granny Smith), Adet: 103\n",
      "Urun Ad: PORTAKAL (Sıkmalık ), Adet: 85\n",
      "Urun Ad: soğan yeşil (yerli), Adet: 74\n",
      "Urun Ad: DOMATES (Salkım Kutu), Adet: 70\n",
      "Urun Ad: KİVİ (İthal ), Adet: 45\n",
      "Urun Ad: SEMİZ OTU(Bağ) yerli, Adet: 40\n",
      "Urun Ad: PATATES (taze), Adet: 38\n",
      "Urun Ad: BİBER (II), Adet: 38\n",
      "Urun Ad: KAYISI (Yerli), Adet: 37\n",
      "Urun Ad: PORTAKAL (II), Adet: 30\n",
      "Urun Ad: LİMON (II), Adet: 27\n",
      "Urun Ad: SALATALIK (II), Adet: 26\n",
      "Urun Ad: KARPUZ (İthal), Adet: 24\n",
      "Urun Ad: TURP KIRMIZI (yerli), Adet: 24\n",
      "Urun Ad: KAVUN (İthal), Adet: 22\n",
      "Urun Ad: KİRAZ (Napolyon ), Adet: 21\n",
      "Urun Ad: SOĞAN (II), Adet: 21\n",
      "Urun Ad: İNCİR ( Siyah ), Adet: 15\n",
      "Urun Ad: MANDALİN (II), Adet: 13\n",
      "Urun Ad: VİŞNE, Adet: 8\n",
      "Urun Ad: ELMA (YERLİ) Muhtelif, Adet: 3\n",
      "Urun Ad: KIZILCIK, Adet: 3\n",
      "Urun Ad: Domates 2, Adet: 2\n",
      "Urun Ad: ERİK (Freze), Adet: 2\n",
      "Urun Ad: ŞEFTALİ YERLİ, Adet: 2\n",
      "Urun Ad: ELMA (YEŞİL), Adet: 1\n"
     ]
    }
   ],
   "source": [
    "threshold = 200\n",
    "\n",
    "# \"urun_ad\" sütunundaki benzersiz değerleri ve sayılarını kontrol edin\n",
    "unique_values = hal['urun_ad'].value_counts()\n",
    "\n",
    "# Eşik değerini aşmayanları filtreleyin\n",
    "below_threshold_values = unique_values[unique_values < threshold]\n",
    "\n",
    "# Eşik değerinin altında olan \"urun_ad\" değerlerini ve sayılarını ekrana yazdırın\n",
    "for urun_ad, count in below_threshold_values.items():\n",
    "    print(f\"Urun Ad: {urun_ad}, Adet: {count}\")"
   ]
  },
  {
   "cell_type": "code",
   "execution_count": 41,
   "metadata": {},
   "outputs": [
    {
     "name": "stdout",
     "output_type": "stream",
     "text": [
      "           _id                tarih            urun_ad birim  tur  \\\n",
      "0            1  2004-03-02T00:00:00    ARMUT( Ankara )    Kg    1   \n",
      "1            2  2004-03-02T00:00:00               AYVA    Kg    1   \n",
      "2            3  2004-03-02T00:00:00              BAKLA    Kg    0   \n",
      "3            4  2004-03-02T00:00:00      BİBER (Çarli)    Kg    0   \n",
      "4            5  2004-03-02T00:00:00      BİBER (Dolma)    Kg    0   \n",
      "...        ...                  ...                ...   ...  ...   \n",
      "121835  121836  2023-12-25T00:00:00    ELMA (Arjantin)    Kg    1   \n",
      "121836  121837  2023-12-25T00:00:00           GREYFURT    Kg    1   \n",
      "121837  121838  2023-12-25T00:00:00         YER ELMASI    Kg    1   \n",
      "121838  121839  2023-12-25T00:00:00  KARPUZ (Muhtelif)    Kg    1   \n",
      "121839  121840  2023-12-25T00:00:00           KESTANE     Kg    1   \n",
      "\n",
      "        en_dusuk_fiyat  en_yuksek_fiyat  \n",
      "0                 1.60             1.70  \n",
      "1                 0.55             0.30  \n",
      "2                 1.60             1.80  \n",
      "3                 1.10             1.30  \n",
      "4                 1.10             1.55  \n",
      "...                ...              ...  \n",
      "121835           20.00            32.00  \n",
      "121836            6.00            11.00  \n",
      "121837           18.00            20.00  \n",
      "121838           28.00            38.00  \n",
      "121839           80.00           210.00  \n",
      "\n",
      "[121169 rows x 7 columns]\n",
      "urun_ad\n",
      "MUZ (İthal)             1753\n",
      "BİBER (Dolma)           1752\n",
      "PATLICAN (Kemer)        1751\n",
      "BİBER (Çarli)           1749\n",
      "ISPANAK                 1743\n",
      "                        ... \n",
      "ELMA (Arjantin)          105\n",
      "ÇAĞLA                    104\n",
      "ARMUT (Santa Marina)     104\n",
      "LİMON (File )            104\n",
      "ELMA (Granny Smith)      103\n",
      "Name: count, Length: 134, dtype: int64\n"
     ]
    }
   ],
   "source": [
    "unique_values = hal['urun_ad'].value_counts()\n",
    "\n",
    "# Eşik değeri belirleyin\n",
    "threshold = 100\n",
    "\n",
    "# Eşik değerini aşmayanları filtreleyin\n",
    "filtered_values = unique_values[unique_values >= threshold].index\n",
    "\n",
    "# DataFrame'i filtreleyin ve yeni DataFrame'i oluşturun\n",
    "hal_filtered = hal[hal['urun_ad'].isin(filtered_values)]\n",
    "\n",
    "# Filtrelenmiş DataFrame'i yazdırın\n",
    "print(hal_filtered)\n",
    "\n",
    "# Filtrelenmiş \"urun_ad\" sütunundaki değerlerin sayısını ve benzersiz değerlerini kontrol edin\n",
    "filtered_value_counts = hal_filtered['urun_ad'].value_counts()\n",
    "print(filtered_value_counts)"
   ]
  },
  {
   "cell_type": "code",
   "execution_count": 42,
   "metadata": {},
   "outputs": [
    {
     "name": "stdout",
     "output_type": "stream",
     "text": [
      "           _id                tarih            urun_ad birim  tur  \\\n",
      "0            1  2004-03-02T00:00:00    ARMUT( Ankara )    Kg    1   \n",
      "1            2  2004-03-02T00:00:00               AYVA    Kg    1   \n",
      "2            3  2004-03-02T00:00:00              BAKLA    Kg    0   \n",
      "3            4  2004-03-02T00:00:00      BİBER (Çarli)    Kg    0   \n",
      "4            5  2004-03-02T00:00:00      BİBER (Dolma)    Kg    0   \n",
      "...        ...                  ...                ...   ...  ...   \n",
      "121835  121836  2023-12-25T00:00:00    ELMA (Arjantin)    Kg    1   \n",
      "121836  121837  2023-12-25T00:00:00           GREYFURT    Kg    1   \n",
      "121837  121838  2023-12-25T00:00:00         YER ELMASI    Kg    1   \n",
      "121838  121839  2023-12-25T00:00:00  KARPUZ (Muhtelif)    Kg    1   \n",
      "121839  121840  2023-12-25T00:00:00           KESTANE     Kg    1   \n",
      "\n",
      "        en_dusuk_fiyat  en_yuksek_fiyat  \n",
      "0                 1.60             1.70  \n",
      "1                 0.55             0.30  \n",
      "2                 1.60             1.80  \n",
      "3                 1.10             1.30  \n",
      "4                 1.10             1.55  \n",
      "...                ...              ...  \n",
      "121835           20.00            32.00  \n",
      "121836            6.00            11.00  \n",
      "121837           18.00            20.00  \n",
      "121838           28.00            38.00  \n",
      "121839           80.00           210.00  \n",
      "\n",
      "[121169 rows x 7 columns]\n",
      "Unique values urun_ad\n",
      "MUZ (İthal)         1753\n",
      "BİBER (Dolma)       1752\n",
      "PATLICAN (Kemer)    1751\n",
      "BİBER (Çarli)       1749\n",
      "ISPANAK             1743\n",
      "                    ... \n",
      "KIZILCIK               3\n",
      "Domates 2              2\n",
      "ERİK (Freze)           2\n",
      "ŞEFTALİ YERLİ          2\n",
      "ELMA (YEŞİL)           1\n",
      "Name: count, Length: 159, dtype: int64\n"
     ]
    }
   ],
   "source": [
    "# \"urun_ad\" sütunundaki benzersiz değerleri ve sayılarını kontrol edin\n",
    "unique_values = hal['urun_ad'].value_counts()\n",
    "\n",
    "# Eşik değeri belirleyin\n",
    "threshold = 100\n",
    "\n",
    "# Eşik değerini aşmayanları filtreleyin\n",
    "filtered_values = unique_values[unique_values >= threshold].index\n",
    "\n",
    "# DataFrame'i filtreleyin ve yeni DataFrame'i oluşturun\n",
    "hal_filtered = hal[hal['urun_ad'].isin(filtered_values)]\n",
    "\n",
    "# Filtrelenmiş DataFrame'i yazdırın\n",
    "print(hal_filtered)\n",
    "\n",
    "# \"urun_ad\" sütunundaki benzersiz değerleri ve sayılarını yazdırın\n",
    "print('Unique values', unique_values)"
   ]
  },
  {
   "cell_type": "code",
   "execution_count": 43,
   "metadata": {},
   "outputs": [
    {
     "name": "stdout",
     "output_type": "stream",
     "text": [
      "           _id                tarih            urun_ad birim  tur  \\\n",
      "0            1  2004-03-02T00:00:00    ARMUT( Ankara )    Kg    1   \n",
      "1            2  2004-03-02T00:00:00               AYVA    Kg    1   \n",
      "2            3  2004-03-02T00:00:00              BAKLA    Kg    0   \n",
      "3            4  2004-03-02T00:00:00      BİBER (Çarli)    Kg    0   \n",
      "4            5  2004-03-02T00:00:00      BİBER (Dolma)    Kg    0   \n",
      "...        ...                  ...                ...   ...  ...   \n",
      "121834  121835  2023-12-25T00:00:00               AYVA    Kg    1   \n",
      "121836  121837  2023-12-25T00:00:00           GREYFURT    Kg    1   \n",
      "121837  121838  2023-12-25T00:00:00         YER ELMASI    Kg    1   \n",
      "121838  121839  2023-12-25T00:00:00  KARPUZ (Muhtelif)    Kg    1   \n",
      "121839  121840  2023-12-25T00:00:00           KESTANE     Kg    1   \n",
      "\n",
      "        en_dusuk_fiyat  en_yuksek_fiyat  \n",
      "0                 1.60             1.70  \n",
      "1                 0.55             0.30  \n",
      "2                 1.60             1.80  \n",
      "3                 1.10             1.30  \n",
      "4                 1.10             1.55  \n",
      "...                ...              ...  \n",
      "121834           20.00            30.00  \n",
      "121836            6.00            11.00  \n",
      "121837           18.00            20.00  \n",
      "121838           28.00            38.00  \n",
      "121839           80.00           210.00  \n",
      "\n",
      "[119141 rows x 7 columns]\n"
     ]
    }
   ],
   "source": [
    "threshold = 200\n",
    "\n",
    "# \"urun_ad\" sütunundaki benzersiz değerleri ve sayılarını kontrol edin\n",
    "unique_values = hal['urun_ad'].value_counts()\n",
    "\n",
    "# Eşik değerini aşmayanları filtreleyin\n",
    "below_threshold_values = unique_values[unique_values < threshold]\n",
    "\n",
    "# Eşik değerinin altında olan \"urun_ad\" değerlerini içeren satırları DataFrame'den silin\n",
    "veriler = hal[~hal['urun_ad'].isin(below_threshold_values.index)]\n",
    "\n",
    "# Düzenlenmiş DataFrame'i ekrana yazdırın\n",
    "print(veriler)\n",
    "\n",
    "# Düzenlenmiş DataFrame'i CSV dosyasına kaydedin\n",
    "veriler.to_csv('yeniden_duzenlenmis_hal_fiyatlari.csv', index=False)"
   ]
  },
  {
   "cell_type": "code",
   "execution_count": 44,
   "metadata": {},
   "outputs": [],
   "source": [
    "# threshold = 200\n",
    "\n",
    "# # \"urun_ad\" sütunundaki benzersiz değerleri ve sayılarını kontrol edin\n",
    "# unique_values = hal['urun_ad'].value_counts()\n",
    "\n",
    "# # Eşik değerini aşmayanları filtreleyin\n",
    "# below_threshold_values = unique_values[unique_values > threshold]\n",
    "\n",
    "# # Eşik değerinin altında olan \"urun_ad\" değerlerini içeren satırları DataFrame'den silin\n",
    "# veriler = hal[~hal['urun_ad'].isin(below_threshold_values.index)]\n",
    "\n",
    "# # Düzenlenmiş DataFrame'i ekrana yazdırın\n",
    "# print(veriler)\n",
    "\n",
    "# # Düzenlenmiş DataFrame'i CSV dosyasına kaydedin\n",
    "# veriler.to_csv('kullanilmayacak_hal_fiyatlari.csv', index=False)"
   ]
  },
  {
   "cell_type": "code",
   "execution_count": 45,
   "metadata": {},
   "outputs": [
    {
     "data": {
      "text/html": [
       "<div>\n",
       "<style scoped>\n",
       "    .dataframe tbody tr th:only-of-type {\n",
       "        vertical-align: middle;\n",
       "    }\n",
       "\n",
       "    .dataframe tbody tr th {\n",
       "        vertical-align: top;\n",
       "    }\n",
       "\n",
       "    .dataframe thead th {\n",
       "        text-align: right;\n",
       "    }\n",
       "</style>\n",
       "<table border=\"1\" class=\"dataframe\">\n",
       "  <thead>\n",
       "    <tr style=\"text-align: right;\">\n",
       "      <th></th>\n",
       "      <th>_id</th>\n",
       "      <th>tarih</th>\n",
       "      <th>urun_ad</th>\n",
       "      <th>birim</th>\n",
       "      <th>tur</th>\n",
       "      <th>en_dusuk_fiyat</th>\n",
       "      <th>en_yuksek_fiyat</th>\n",
       "      <th>ortalama_fiyat</th>\n",
       "    </tr>\n",
       "  </thead>\n",
       "  <tbody>\n",
       "    <tr>\n",
       "      <th>0</th>\n",
       "      <td>1</td>\n",
       "      <td>2004-03-02T00:00:00</td>\n",
       "      <td>ARMUT( Ankara )</td>\n",
       "      <td>Kg</td>\n",
       "      <td>1</td>\n",
       "      <td>1.60</td>\n",
       "      <td>1.70</td>\n",
       "      <td>1.650</td>\n",
       "    </tr>\n",
       "    <tr>\n",
       "      <th>1</th>\n",
       "      <td>2</td>\n",
       "      <td>2004-03-02T00:00:00</td>\n",
       "      <td>AYVA</td>\n",
       "      <td>Kg</td>\n",
       "      <td>1</td>\n",
       "      <td>0.55</td>\n",
       "      <td>0.30</td>\n",
       "      <td>0.425</td>\n",
       "    </tr>\n",
       "    <tr>\n",
       "      <th>2</th>\n",
       "      <td>3</td>\n",
       "      <td>2004-03-02T00:00:00</td>\n",
       "      <td>BAKLA</td>\n",
       "      <td>Kg</td>\n",
       "      <td>0</td>\n",
       "      <td>1.60</td>\n",
       "      <td>1.80</td>\n",
       "      <td>1.700</td>\n",
       "    </tr>\n",
       "    <tr>\n",
       "      <th>3</th>\n",
       "      <td>4</td>\n",
       "      <td>2004-03-02T00:00:00</td>\n",
       "      <td>BİBER (Çarli)</td>\n",
       "      <td>Kg</td>\n",
       "      <td>0</td>\n",
       "      <td>1.10</td>\n",
       "      <td>1.30</td>\n",
       "      <td>1.200</td>\n",
       "    </tr>\n",
       "    <tr>\n",
       "      <th>4</th>\n",
       "      <td>5</td>\n",
       "      <td>2004-03-02T00:00:00</td>\n",
       "      <td>BİBER (Dolma)</td>\n",
       "      <td>Kg</td>\n",
       "      <td>0</td>\n",
       "      <td>1.10</td>\n",
       "      <td>1.55</td>\n",
       "      <td>1.325</td>\n",
       "    </tr>\n",
       "    <tr>\n",
       "      <th>...</th>\n",
       "      <td>...</td>\n",
       "      <td>...</td>\n",
       "      <td>...</td>\n",
       "      <td>...</td>\n",
       "      <td>...</td>\n",
       "      <td>...</td>\n",
       "      <td>...</td>\n",
       "      <td>...</td>\n",
       "    </tr>\n",
       "    <tr>\n",
       "      <th>121835</th>\n",
       "      <td>121836</td>\n",
       "      <td>2023-12-25T00:00:00</td>\n",
       "      <td>ELMA (Arjantin)</td>\n",
       "      <td>Kg</td>\n",
       "      <td>1</td>\n",
       "      <td>20.00</td>\n",
       "      <td>32.00</td>\n",
       "      <td>26.000</td>\n",
       "    </tr>\n",
       "    <tr>\n",
       "      <th>121836</th>\n",
       "      <td>121837</td>\n",
       "      <td>2023-12-25T00:00:00</td>\n",
       "      <td>GREYFURT</td>\n",
       "      <td>Kg</td>\n",
       "      <td>1</td>\n",
       "      <td>6.00</td>\n",
       "      <td>11.00</td>\n",
       "      <td>8.500</td>\n",
       "    </tr>\n",
       "    <tr>\n",
       "      <th>121837</th>\n",
       "      <td>121838</td>\n",
       "      <td>2023-12-25T00:00:00</td>\n",
       "      <td>YER ELMASI</td>\n",
       "      <td>Kg</td>\n",
       "      <td>1</td>\n",
       "      <td>18.00</td>\n",
       "      <td>20.00</td>\n",
       "      <td>19.000</td>\n",
       "    </tr>\n",
       "    <tr>\n",
       "      <th>121838</th>\n",
       "      <td>121839</td>\n",
       "      <td>2023-12-25T00:00:00</td>\n",
       "      <td>KARPUZ (Muhtelif)</td>\n",
       "      <td>Kg</td>\n",
       "      <td>1</td>\n",
       "      <td>28.00</td>\n",
       "      <td>38.00</td>\n",
       "      <td>33.000</td>\n",
       "    </tr>\n",
       "    <tr>\n",
       "      <th>121839</th>\n",
       "      <td>121840</td>\n",
       "      <td>2023-12-25T00:00:00</td>\n",
       "      <td>KESTANE</td>\n",
       "      <td>Kg</td>\n",
       "      <td>1</td>\n",
       "      <td>80.00</td>\n",
       "      <td>210.00</td>\n",
       "      <td>145.000</td>\n",
       "    </tr>\n",
       "  </tbody>\n",
       "</table>\n",
       "<p>121840 rows × 8 columns</p>\n",
       "</div>"
      ],
      "text/plain": [
       "           _id                tarih            urun_ad birim  tur  \\\n",
       "0            1  2004-03-02T00:00:00    ARMUT( Ankara )    Kg    1   \n",
       "1            2  2004-03-02T00:00:00               AYVA    Kg    1   \n",
       "2            3  2004-03-02T00:00:00              BAKLA    Kg    0   \n",
       "3            4  2004-03-02T00:00:00      BİBER (Çarli)    Kg    0   \n",
       "4            5  2004-03-02T00:00:00      BİBER (Dolma)    Kg    0   \n",
       "...        ...                  ...                ...   ...  ...   \n",
       "121835  121836  2023-12-25T00:00:00    ELMA (Arjantin)    Kg    1   \n",
       "121836  121837  2023-12-25T00:00:00           GREYFURT    Kg    1   \n",
       "121837  121838  2023-12-25T00:00:00         YER ELMASI    Kg    1   \n",
       "121838  121839  2023-12-25T00:00:00  KARPUZ (Muhtelif)    Kg    1   \n",
       "121839  121840  2023-12-25T00:00:00           KESTANE     Kg    1   \n",
       "\n",
       "        en_dusuk_fiyat  en_yuksek_fiyat  ortalama_fiyat  \n",
       "0                 1.60             1.70           1.650  \n",
       "1                 0.55             0.30           0.425  \n",
       "2                 1.60             1.80           1.700  \n",
       "3                 1.10             1.30           1.200  \n",
       "4                 1.10             1.55           1.325  \n",
       "...                ...              ...             ...  \n",
       "121835           20.00            32.00          26.000  \n",
       "121836            6.00            11.00           8.500  \n",
       "121837           18.00            20.00          19.000  \n",
       "121838           28.00            38.00          33.000  \n",
       "121839           80.00           210.00         145.000  \n",
       "\n",
       "[121840 rows x 8 columns]"
      ]
     },
     "execution_count": 45,
     "metadata": {},
     "output_type": "execute_result"
    }
   ],
   "source": [
    "hal[\"ortalama_fiyat\"] =  ( hal[\"en_dusuk_fiyat\"] + hal[\"en_yuksek_fiyat\"] ) / 2 \n",
    "hal"
   ]
  },
  {
   "cell_type": "code",
   "execution_count": 46,
   "metadata": {},
   "outputs": [
    {
     "data": {
      "text/html": [
       "<div>\n",
       "<style scoped>\n",
       "    .dataframe tbody tr th:only-of-type {\n",
       "        vertical-align: middle;\n",
       "    }\n",
       "\n",
       "    .dataframe tbody tr th {\n",
       "        vertical-align: top;\n",
       "    }\n",
       "\n",
       "    .dataframe thead th {\n",
       "        text-align: right;\n",
       "    }\n",
       "</style>\n",
       "<table border=\"1\" class=\"dataframe\">\n",
       "  <thead>\n",
       "    <tr style=\"text-align: right;\">\n",
       "      <th></th>\n",
       "      <th>_id</th>\n",
       "      <th>tarih</th>\n",
       "      <th>urun_ad</th>\n",
       "      <th>birim</th>\n",
       "      <th>tur</th>\n",
       "      <th>ortalama_fiyat</th>\n",
       "    </tr>\n",
       "  </thead>\n",
       "  <tbody>\n",
       "    <tr>\n",
       "      <th>0</th>\n",
       "      <td>1</td>\n",
       "      <td>2004-03-02T00:00:00</td>\n",
       "      <td>ARMUT( Ankara )</td>\n",
       "      <td>Kg</td>\n",
       "      <td>1</td>\n",
       "      <td>1.650</td>\n",
       "    </tr>\n",
       "    <tr>\n",
       "      <th>1</th>\n",
       "      <td>2</td>\n",
       "      <td>2004-03-02T00:00:00</td>\n",
       "      <td>AYVA</td>\n",
       "      <td>Kg</td>\n",
       "      <td>1</td>\n",
       "      <td>0.425</td>\n",
       "    </tr>\n",
       "    <tr>\n",
       "      <th>2</th>\n",
       "      <td>3</td>\n",
       "      <td>2004-03-02T00:00:00</td>\n",
       "      <td>BAKLA</td>\n",
       "      <td>Kg</td>\n",
       "      <td>0</td>\n",
       "      <td>1.700</td>\n",
       "    </tr>\n",
       "    <tr>\n",
       "      <th>3</th>\n",
       "      <td>4</td>\n",
       "      <td>2004-03-02T00:00:00</td>\n",
       "      <td>BİBER (Çarli)</td>\n",
       "      <td>Kg</td>\n",
       "      <td>0</td>\n",
       "      <td>1.200</td>\n",
       "    </tr>\n",
       "    <tr>\n",
       "      <th>4</th>\n",
       "      <td>5</td>\n",
       "      <td>2004-03-02T00:00:00</td>\n",
       "      <td>BİBER (Dolma)</td>\n",
       "      <td>Kg</td>\n",
       "      <td>0</td>\n",
       "      <td>1.325</td>\n",
       "    </tr>\n",
       "    <tr>\n",
       "      <th>...</th>\n",
       "      <td>...</td>\n",
       "      <td>...</td>\n",
       "      <td>...</td>\n",
       "      <td>...</td>\n",
       "      <td>...</td>\n",
       "      <td>...</td>\n",
       "    </tr>\n",
       "    <tr>\n",
       "      <th>121835</th>\n",
       "      <td>121836</td>\n",
       "      <td>2023-12-25T00:00:00</td>\n",
       "      <td>ELMA (Arjantin)</td>\n",
       "      <td>Kg</td>\n",
       "      <td>1</td>\n",
       "      <td>26.000</td>\n",
       "    </tr>\n",
       "    <tr>\n",
       "      <th>121836</th>\n",
       "      <td>121837</td>\n",
       "      <td>2023-12-25T00:00:00</td>\n",
       "      <td>GREYFURT</td>\n",
       "      <td>Kg</td>\n",
       "      <td>1</td>\n",
       "      <td>8.500</td>\n",
       "    </tr>\n",
       "    <tr>\n",
       "      <th>121837</th>\n",
       "      <td>121838</td>\n",
       "      <td>2023-12-25T00:00:00</td>\n",
       "      <td>YER ELMASI</td>\n",
       "      <td>Kg</td>\n",
       "      <td>1</td>\n",
       "      <td>19.000</td>\n",
       "    </tr>\n",
       "    <tr>\n",
       "      <th>121838</th>\n",
       "      <td>121839</td>\n",
       "      <td>2023-12-25T00:00:00</td>\n",
       "      <td>KARPUZ (Muhtelif)</td>\n",
       "      <td>Kg</td>\n",
       "      <td>1</td>\n",
       "      <td>33.000</td>\n",
       "    </tr>\n",
       "    <tr>\n",
       "      <th>121839</th>\n",
       "      <td>121840</td>\n",
       "      <td>2023-12-25T00:00:00</td>\n",
       "      <td>KESTANE</td>\n",
       "      <td>Kg</td>\n",
       "      <td>1</td>\n",
       "      <td>145.000</td>\n",
       "    </tr>\n",
       "  </tbody>\n",
       "</table>\n",
       "<p>121840 rows × 6 columns</p>\n",
       "</div>"
      ],
      "text/plain": [
       "           _id                tarih            urun_ad birim  tur  \\\n",
       "0            1  2004-03-02T00:00:00    ARMUT( Ankara )    Kg    1   \n",
       "1            2  2004-03-02T00:00:00               AYVA    Kg    1   \n",
       "2            3  2004-03-02T00:00:00              BAKLA    Kg    0   \n",
       "3            4  2004-03-02T00:00:00      BİBER (Çarli)    Kg    0   \n",
       "4            5  2004-03-02T00:00:00      BİBER (Dolma)    Kg    0   \n",
       "...        ...                  ...                ...   ...  ...   \n",
       "121835  121836  2023-12-25T00:00:00    ELMA (Arjantin)    Kg    1   \n",
       "121836  121837  2023-12-25T00:00:00           GREYFURT    Kg    1   \n",
       "121837  121838  2023-12-25T00:00:00         YER ELMASI    Kg    1   \n",
       "121838  121839  2023-12-25T00:00:00  KARPUZ (Muhtelif)    Kg    1   \n",
       "121839  121840  2023-12-25T00:00:00           KESTANE     Kg    1   \n",
       "\n",
       "        ortalama_fiyat  \n",
       "0                1.650  \n",
       "1                0.425  \n",
       "2                1.700  \n",
       "3                1.200  \n",
       "4                1.325  \n",
       "...                ...  \n",
       "121835          26.000  \n",
       "121836           8.500  \n",
       "121837          19.000  \n",
       "121838          33.000  \n",
       "121839         145.000  \n",
       "\n",
       "[121840 rows x 6 columns]"
      ]
     },
     "execution_count": 46,
     "metadata": {},
     "output_type": "execute_result"
    }
   ],
   "source": [
    "hal.drop([\"en_dusuk_fiyat\", \"en_yuksek_fiyat\"], axis = 1)"
   ]
  },
  {
   "cell_type": "code",
   "execution_count": 47,
   "metadata": {},
   "outputs": [
    {
     "data": {
      "text/plain": [
       "_id                0\n",
       "tarih              0\n",
       "urun_ad            0\n",
       "birim              0\n",
       "tur                0\n",
       "en_dusuk_fiyat     0\n",
       "en_yuksek_fiyat    0\n",
       "ortalama_fiyat     0\n",
       "dtype: int64"
      ]
     },
     "execution_count": 47,
     "metadata": {},
     "output_type": "execute_result"
    }
   ],
   "source": [
    "hal.isnull().sum()"
   ]
  },
  {
   "cell_type": "markdown",
   "metadata": {},
   "source": [
    "AYKIRI GOZLEMLERI KONTROL ETMEK"
   ]
  },
  {
   "cell_type": "code",
   "execution_count": 48,
   "metadata": {},
   "outputs": [],
   "source": [
    "def detect_outliers(df,features):\n",
    "    outlier_indices = []\n",
    "    \n",
    "    for c in features:\n",
    "        # 1st quartile\n",
    "        Q1 = np.percentile(df[c],25)\n",
    "        # 3rd quartile\n",
    "        Q3 = np.percentile(df[c],75)\n",
    "        # IQR\n",
    "        IQR = Q3 - Q1\n",
    "        # Outlier step\n",
    "        outlier_step = IQR * 1.5\n",
    "        # detect outlier and their indeces\n",
    "        outlier_list_col = df[(df[c] < Q1 - outlier_step) | (df[c] > Q3 + outlier_step)].index\n",
    "        # store indeces\n",
    "        outlier_indices.extend(outlier_list_col)\n",
    "    \n",
    "    outlier_indices = Counter(outlier_indices)\n",
    "    multiple_outliers = list(i for i, v in outlier_indices.items() if v > 2)\n",
    "    \n",
    "    return multiple_outliers"
   ]
  },
  {
   "cell_type": "code",
   "execution_count": 49,
   "metadata": {},
   "outputs": [
    {
     "data": {
      "text/html": [
       "<div>\n",
       "<style scoped>\n",
       "    .dataframe tbody tr th:only-of-type {\n",
       "        vertical-align: middle;\n",
       "    }\n",
       "\n",
       "    .dataframe tbody tr th {\n",
       "        vertical-align: top;\n",
       "    }\n",
       "\n",
       "    .dataframe thead th {\n",
       "        text-align: right;\n",
       "    }\n",
       "</style>\n",
       "<table border=\"1\" class=\"dataframe\">\n",
       "  <thead>\n",
       "    <tr style=\"text-align: right;\">\n",
       "      <th></th>\n",
       "      <th>_id</th>\n",
       "      <th>tarih</th>\n",
       "      <th>urun_ad</th>\n",
       "      <th>birim</th>\n",
       "      <th>tur</th>\n",
       "      <th>en_dusuk_fiyat</th>\n",
       "      <th>en_yuksek_fiyat</th>\n",
       "      <th>ortalama_fiyat</th>\n",
       "    </tr>\n",
       "  </thead>\n",
       "  <tbody>\n",
       "  </tbody>\n",
       "</table>\n",
       "</div>"
      ],
      "text/plain": [
       "Empty DataFrame\n",
       "Columns: [_id, tarih, urun_ad, birim, tur, en_dusuk_fiyat, en_yuksek_fiyat, ortalama_fiyat]\n",
       "Index: []"
      ]
     },
     "execution_count": 49,
     "metadata": {},
     "output_type": "execute_result"
    }
   ],
   "source": [
    "hal.loc[detect_outliers(hal,[\"ortalama_fiyat\"])]"
   ]
  },
  {
   "cell_type": "code",
   "execution_count": 50,
   "metadata": {},
   "outputs": [],
   "source": [
    "# drop outliers\n",
    "hal = hal.drop(detect_outliers(hal,[\"ortalama_fiyat\"]),axis = 0).reset_index(drop=True)"
   ]
  },
  {
   "cell_type": "code",
   "execution_count": 51,
   "metadata": {},
   "outputs": [
    {
     "data": {
      "text/plain": [
       "_id                121840\n",
       "tarih              121840\n",
       "urun_ad            121840\n",
       "birim              121840\n",
       "tur                121840\n",
       "en_dusuk_fiyat     121840\n",
       "en_yuksek_fiyat    121840\n",
       "ortalama_fiyat     121840\n",
       "dtype: int64"
      ]
     },
     "execution_count": 51,
     "metadata": {},
     "output_type": "execute_result"
    }
   ],
   "source": [
    "hal.count()"
   ]
  },
  {
   "cell_type": "code",
   "execution_count": 52,
   "metadata": {},
   "outputs": [
    {
     "data": {
      "text/plain": [
       "(121840, 8)"
      ]
     },
     "execution_count": 52,
     "metadata": {},
     "output_type": "execute_result"
    }
   ],
   "source": [
    "hal.shape"
   ]
  },
  {
   "cell_type": "code",
   "execution_count": 53,
   "metadata": {},
   "outputs": [
    {
     "data": {
      "text/plain": [
       "array(['Kg', 'Demet', 'Adet', 'Paket'], dtype=object)"
      ]
     },
     "execution_count": 53,
     "metadata": {},
     "output_type": "execute_result"
    }
   ],
   "source": [
    "hal[\"birim\"].unique()"
   ]
  },
  {
   "cell_type": "code",
   "execution_count": 54,
   "metadata": {},
   "outputs": [
    {
     "data": {
      "text/plain": [
       "birim  urun_ad               \n",
       "Adet   HİNDİSTAN CEVİZİ(Adet)    1685\n",
       "       MARUL (Aysberk)Adet       1639\n",
       "       AVAKADO                   1606\n",
       "       MARUL (Muhtelif)Adet      1481\n",
       "       MARUL (Mor)Adet           1247\n",
       "                                 ... \n",
       "Kg     ERİK (Freze)                 2\n",
       "       Domates 2                    2\n",
       "       ŞEFTALİ YERLİ                2\n",
       "       ELMA (YEŞİL)                 1\n",
       "Paket  LAHANA (Bürüksel)          536\n",
       "Name: count, Length: 159, dtype: int64"
      ]
     },
     "execution_count": 54,
     "metadata": {},
     "output_type": "execute_result"
    }
   ],
   "source": [
    "urun_ad_counts = hal.groupby(\"birim\")[\"urun_ad\"].value_counts()\n",
    "urun_ad_counts"
   ]
  },
  {
   "cell_type": "code",
   "execution_count": 55,
   "metadata": {},
   "outputs": [],
   "source": [
    "# # \"ortalama_fiyat\" sütunu var mı kontrol et\n",
    "# if 'ortalama_fiyat' in hal.columns:\n",
    "#     # \"birim\" ve \"urun_ad\" sütunlarına göre fiyatları toplayın\n",
    "#     fiyatlar_toplam = hal.groupby([\"birim\", \"urun_ad\"])[\"ortalama_fiyat\"].sum()\n",
    "\n",
    "#     # \"birim\" ve \"urun_ad\" sütunlarına göre fiyatların ortalamasını alın\n",
    "#     fiyatlar_ortalama = hal.groupby([\"birim\", \"urun_ad\"])[\"ortalama_fiyat\"].mean()\n",
    "\n",
    "#     # Sonuçları yazdırın\n",
    "#     print(\"Fiyatlar Toplam:\")\n",
    "#     print(fiyatlar_toplam)\n",
    "\n",
    "#     print(\"\\nFiyatlar Ortalama:\")\n",
    "#     print(fiyatlar_ortalama)\n",
    "# else:\n",
    "#     print(\"Veri setinde 'ortalama_fiyat' sütunu bulunamadı.\")"
   ]
  },
  {
   "cell_type": "code",
   "execution_count": 56,
   "metadata": {},
   "outputs": [],
   "source": [
    "# fiyatlar_ortalama =  hal.groupby([\"birim\", \"urun_ad\"])[\"ortalama_fiyat\"].mean() \n",
    "# hal"
   ]
  },
  {
   "cell_type": "code",
   "execution_count": 57,
   "metadata": {},
   "outputs": [
    {
     "name": "stdout",
     "output_type": "stream",
     "text": [
      "urun_ad\n",
      "MUZ (İthal)         1753\n",
      "BİBER (Dolma)       1752\n",
      "PATLICAN (Kemer)    1751\n",
      "BİBER (Çarli)       1749\n",
      "ISPANAK             1743\n",
      "                    ... \n",
      "KIZILCIK               3\n",
      "Domates 2              2\n",
      "ERİK (Freze)           2\n",
      "ŞEFTALİ YERLİ          2\n",
      "ELMA (YEŞİL)           1\n",
      "Name: count, Length: 159, dtype: int64\n"
     ]
    }
   ],
   "source": [
    "urunler_sayisi = hal['urun_ad'].value_counts()\n",
    "\n",
    "# Sonucu yazdıralım\n",
    "print(urunler_sayisi)"
   ]
  },
  {
   "cell_type": "code",
   "execution_count": 58,
   "metadata": {},
   "outputs": [
    {
     "name": "stdout",
     "output_type": "stream",
     "text": [
      "                           adet  ortalama_fiyat\n",
      "urun_ad                                        \n",
      "ANANAS                20.207469             482\n",
      "ARMUT (Deveci)         8.181808             437\n",
      "ARMUT (Muhtelif)      15.526820             261\n",
      "ARMUT (Santa Marina)  24.504808             104\n",
      "ARMUT( Ankara )        1.581433            1574\n",
      "...                         ...             ...\n",
      "İNCİR ( Beyaz )        9.184004             522\n",
      "İNCİR ( Siyah )       54.233333              15\n",
      "ŞEFTALİ (Muhtelif)     5.813962             718\n",
      "ŞEFTALİ (Nektari)      3.219171             579\n",
      "ŞEFTALİ YERLİ          5.000000               2\n",
      "\n",
      "[159 rows x 2 columns]\n"
     ]
    }
   ],
   "source": [
    "sonuclar = hal.groupby('urun_ad').agg({'ortalama_fiyat': 'mean', 'urun_ad': 'count'})\n",
    "\n",
    "# Sütun adlarını düzenleyelim\n",
    "sonuclar.columns = ['adet', 'ortalama_fiyat']\n",
    "\n",
    "# Sonucu yazdıralım\n",
    "print(sonuclar)"
   ]
  },
  {
   "cell_type": "code",
   "execution_count": 59,
   "metadata": {},
   "outputs": [
    {
     "name": "stdout",
     "output_type": "stream",
     "text": [
      "                  urun_ad  adet  ortalama_fiyat\n",
      "0                  ANANAS   482       20.207469\n",
      "1          ARMUT (Deveci)   437        8.181808\n",
      "2        ARMUT (Muhtelif)   261       15.526820\n",
      "3    ARMUT (Santa Marina)   104       24.504808\n",
      "4         ARMUT( Ankara )  1574        1.581433\n",
      "..                    ...   ...             ...\n",
      "154       İNCİR ( Beyaz )   522        9.184004\n",
      "155       İNCİR ( Siyah )    15       54.233333\n",
      "156    ŞEFTALİ (Muhtelif)   718        5.813962\n",
      "157     ŞEFTALİ (Nektari)   579        3.219171\n",
      "158         ŞEFTALİ YERLİ     2        5.000000\n",
      "\n",
      "[159 rows x 3 columns]\n"
     ]
    }
   ],
   "source": [
    "sonuclar = hal.groupby('urun_ad').agg({'urun_ad': 'count', 'ortalama_fiyat': 'mean'})\n",
    "\n",
    "# Sütun adlarını düzenleyelim\n",
    "sonuclar.columns = ['adet', 'ortalama_fiyat']\n",
    "\n",
    "# 'urun_ad' sütununu da ekleyelim\n",
    "sonuclar['urun_ad'] = sonuclar.index\n",
    "\n",
    "# Sıralama için indeksi sıfırlayalım\n",
    "sonuclar.reset_index(drop=True, inplace=True)\n",
    "\n",
    "# Sütunları yeniden düzenleyelim\n",
    "sonuclar = sonuclar[['urun_ad', 'adet', 'ortalama_fiyat']]\n",
    "\n",
    "# Sonucu yazdıralım\n",
    "print(sonuclar)"
   ]
  },
  {
   "cell_type": "markdown",
   "metadata": {},
   "source": [
    "#Data Visualization"
   ]
  },
  {
   "cell_type": "code",
   "execution_count": 60,
   "metadata": {},
   "outputs": [],
   "source": [
    "import plotly.express as px"
   ]
  },
  {
   "cell_type": "code",
   "execution_count": null,
   "metadata": {},
   "outputs": [
    {
     "data": {
      "application/vnd.plotly.v1+json": {
       "config": {
        "plotlyServerURL": "https://plot.ly"
       },
       "data": [
        {
         "alignmentgroup": "True",
         "hovertemplate": "urun_ad=%{x}<br>adet=%{y}<extra></extra>",
         "legendgroup": "ANANAS",
         "marker": {
          "color": "#636efa",
          "pattern": {
           "shape": ""
          }
         },
         "name": "ANANAS",
         "offsetgroup": "ANANAS",
         "orientation": "v",
         "showlegend": true,
         "textposition": "auto",
         "type": "bar",
         "x": [
          "ANANAS"
         ],
         "xaxis": "x",
         "y": [
          482
         ],
         "yaxis": "y"
        },
        {
         "alignmentgroup": "True",
         "hovertemplate": "urun_ad=%{x}<br>adet=%{y}<extra></extra>",
         "legendgroup": "ARMUT (Deveci)",
         "marker": {
          "color": "#EF553B",
          "pattern": {
           "shape": ""
          }
         },
         "name": "ARMUT (Deveci)",
         "offsetgroup": "ARMUT (Deveci)",
         "orientation": "v",
         "showlegend": true,
         "textposition": "auto",
         "type": "bar",
         "x": [
          "ARMUT (Deveci)"
         ],
         "xaxis": "x",
         "y": [
          437
         ],
         "yaxis": "y"
        },
        {
         "alignmentgroup": "True",
         "hovertemplate": "urun_ad=%{x}<br>adet=%{y}<extra></extra>",
         "legendgroup": "ARMUT (Muhtelif)",
         "marker": {
          "color": "#00cc96",
          "pattern": {
           "shape": ""
          }
         },
         "name": "ARMUT (Muhtelif)",
         "offsetgroup": "ARMUT (Muhtelif)",
         "orientation": "v",
         "showlegend": true,
         "textposition": "auto",
         "type": "bar",
         "x": [
          "ARMUT (Muhtelif)"
         ],
         "xaxis": "x",
         "y": [
          261
         ],
         "yaxis": "y"
        },
        {
         "alignmentgroup": "True",
         "hovertemplate": "urun_ad=%{x}<br>adet=%{y}<extra></extra>",
         "legendgroup": "ARMUT (Santa Marina)",
         "marker": {
          "color": "#ab63fa",
          "pattern": {
           "shape": ""
          }
         },
         "name": "ARMUT (Santa Marina)",
         "offsetgroup": "ARMUT (Santa Marina)",
         "orientation": "v",
         "showlegend": true,
         "textposition": "auto",
         "type": "bar",
         "x": [
          "ARMUT (Santa Marina)"
         ],
         "xaxis": "x",
         "y": [
          104
         ],
         "yaxis": "y"
        },
        {
         "alignmentgroup": "True",
         "hovertemplate": "urun_ad=%{x}<br>adet=%{y}<extra></extra>",
         "legendgroup": "ARMUT( Ankara )",
         "marker": {
          "color": "#FFA15A",
          "pattern": {
           "shape": ""
          }
         },
         "name": "ARMUT( Ankara )",
         "offsetgroup": "ARMUT( Ankara )",
         "orientation": "v",
         "showlegend": true,
         "textposition": "auto",
         "type": "bar",
         "x": [
          "ARMUT( Ankara )"
         ],
         "xaxis": "x",
         "y": [
          1574
         ],
         "yaxis": "y"
        },
        {
         "alignmentgroup": "True",
         "hovertemplate": "urun_ad=%{x}<br>adet=%{y}<extra></extra>",
         "legendgroup": "ASMA YAPRAĞI",
         "marker": {
          "color": "#19d3f3",
          "pattern": {
           "shape": ""
          }
         },
         "name": "ASMA YAPRAĞI",
         "offsetgroup": "ASMA YAPRAĞI",
         "orientation": "v",
         "showlegend": true,
         "textposition": "auto",
         "type": "bar",
         "x": [
          "ASMA YAPRAĞI"
         ],
         "xaxis": "x",
         "y": [
          773
         ],
         "yaxis": "y"
        },
        {
         "alignmentgroup": "True",
         "hovertemplate": "urun_ad=%{x}<br>adet=%{y}<extra></extra>",
         "legendgroup": "AVAKADO",
         "marker": {
          "color": "#FF6692",
          "pattern": {
           "shape": ""
          }
         },
         "name": "AVAKADO",
         "offsetgroup": "AVAKADO",
         "orientation": "v",
         "showlegend": true,
         "textposition": "auto",
         "type": "bar",
         "x": [
          "AVAKADO"
         ],
         "xaxis": "x",
         "y": [
          1606
         ],
         "yaxis": "y"
        },
        {
         "alignmentgroup": "True",
         "hovertemplate": "urun_ad=%{x}<br>adet=%{y}<extra></extra>",
         "legendgroup": "AYVA",
         "marker": {
          "color": "#B6E880",
          "pattern": {
           "shape": ""
          }
         },
         "name": "AYVA",
         "offsetgroup": "AYVA",
         "orientation": "v",
         "showlegend": true,
         "textposition": "auto",
         "type": "bar",
         "x": [
          "AYVA"
         ],
         "xaxis": "x",
         "y": [
          1145
         ],
         "yaxis": "y"
        },
        {
         "alignmentgroup": "True",
         "hovertemplate": "urun_ad=%{x}<br>adet=%{y}<extra></extra>",
         "legendgroup": "BAKLA",
         "marker": {
          "color": "#FF97FF",
          "pattern": {
           "shape": ""
          }
         },
         "name": "BAKLA",
         "offsetgroup": "BAKLA",
         "orientation": "v",
         "showlegend": true,
         "textposition": "auto",
         "type": "bar",
         "x": [
          "BAKLA"
         ],
         "xaxis": "x",
         "y": [
          743
         ],
         "yaxis": "y"
        },
        {
         "alignmentgroup": "True",
         "hovertemplate": "urun_ad=%{x}<br>adet=%{y}<extra></extra>",
         "legendgroup": "BAMYA",
         "marker": {
          "color": "#FECB52",
          "pattern": {
           "shape": ""
          }
         },
         "name": "BAMYA",
         "offsetgroup": "BAMYA",
         "orientation": "v",
         "showlegend": true,
         "textposition": "auto",
         "type": "bar",
         "x": [
          "BAMYA"
         ],
         "xaxis": "x",
         "y": [
          679
         ],
         "yaxis": "y"
        },
        {
         "alignmentgroup": "True",
         "hovertemplate": "urun_ad=%{x}<br>adet=%{y}<extra></extra>",
         "legendgroup": "BARBUNYA",
         "marker": {
          "color": "#636efa",
          "pattern": {
           "shape": ""
          }
         },
         "name": "BARBUNYA",
         "offsetgroup": "BARBUNYA",
         "orientation": "v",
         "showlegend": true,
         "textposition": "auto",
         "type": "bar",
         "x": [
          "BARBUNYA"
         ],
         "xaxis": "x",
         "y": [
          479
         ],
         "yaxis": "y"
        },
        {
         "alignmentgroup": "True",
         "hovertemplate": "urun_ad=%{x}<br>adet=%{y}<extra></extra>",
         "legendgroup": "BEZELYE (Araka)",
         "marker": {
          "color": "#EF553B",
          "pattern": {
           "shape": ""
          }
         },
         "name": "BEZELYE (Araka)",
         "offsetgroup": "BEZELYE (Araka)",
         "orientation": "v",
         "showlegend": true,
         "textposition": "auto",
         "type": "bar",
         "x": [
          "BEZELYE (Araka)"
         ],
         "xaxis": "x",
         "y": [
          501
         ],
         "yaxis": "y"
        },
        {
         "alignmentgroup": "True",
         "hovertemplate": "urun_ad=%{x}<br>adet=%{y}<extra></extra>",
         "legendgroup": "BROKOLİ",
         "marker": {
          "color": "#00cc96",
          "pattern": {
           "shape": ""
          }
         },
         "name": "BROKOLİ",
         "offsetgroup": "BROKOLİ",
         "orientation": "v",
         "showlegend": true,
         "textposition": "auto",
         "type": "bar",
         "x": [
          "BROKOLİ"
         ],
         "xaxis": "x",
         "y": [
          1645
         ],
         "yaxis": "y"
        },
        {
         "alignmentgroup": "True",
         "hovertemplate": "urun_ad=%{x}<br>adet=%{y}<extra></extra>",
         "legendgroup": "BİBER (Cin)",
         "marker": {
          "color": "#ab63fa",
          "pattern": {
           "shape": ""
          }
         },
         "name": "BİBER (Cin)",
         "offsetgroup": "BİBER (Cin)",
         "orientation": "v",
         "showlegend": true,
         "textposition": "auto",
         "type": "bar",
         "x": [
          "BİBER (Cin)"
         ],
         "xaxis": "x",
         "y": [
          1463
         ],
         "yaxis": "y"
        },
        {
         "alignmentgroup": "True",
         "hovertemplate": "urun_ad=%{x}<br>adet=%{y}<extra></extra>",
         "legendgroup": "BİBER (Dolma)",
         "marker": {
          "color": "#FFA15A",
          "pattern": {
           "shape": ""
          }
         },
         "name": "BİBER (Dolma)",
         "offsetgroup": "BİBER (Dolma)",
         "orientation": "v",
         "showlegend": true,
         "textposition": "auto",
         "type": "bar",
         "x": [
          "BİBER (Dolma)"
         ],
         "xaxis": "x",
         "y": [
          1752
         ],
         "yaxis": "y"
        },
        {
         "alignmentgroup": "True",
         "hovertemplate": "urun_ad=%{x}<br>adet=%{y}<extra></extra>",
         "legendgroup": "BİBER (II)",
         "marker": {
          "color": "#19d3f3",
          "pattern": {
           "shape": ""
          }
         },
         "name": "BİBER (II)",
         "offsetgroup": "BİBER (II)",
         "orientation": "v",
         "showlegend": true,
         "textposition": "auto",
         "type": "bar",
         "x": [
          "BİBER (II)"
         ],
         "xaxis": "x",
         "y": [
          38
         ],
         "yaxis": "y"
        },
        {
         "alignmentgroup": "True",
         "hovertemplate": "urun_ad=%{x}<br>adet=%{y}<extra></extra>",
         "legendgroup": "BİBER (Köy)",
         "marker": {
          "color": "#FF6692",
          "pattern": {
           "shape": ""
          }
         },
         "name": "BİBER (Köy)",
         "offsetgroup": "BİBER (Köy)",
         "orientation": "v",
         "showlegend": true,
         "textposition": "auto",
         "type": "bar",
         "x": [
          "BİBER (Köy)"
         ],
         "xaxis": "x",
         "y": [
          978
         ],
         "yaxis": "y"
        },
        {
         "alignmentgroup": "True",
         "hovertemplate": "urun_ad=%{x}<br>adet=%{y}<extra></extra>",
         "legendgroup": "BİBER (Kıl)",
         "marker": {
          "color": "#B6E880",
          "pattern": {
           "shape": ""
          }
         },
         "name": "BİBER (Kıl)",
         "offsetgroup": "BİBER (Kıl)",
         "orientation": "v",
         "showlegend": true,
         "textposition": "auto",
         "type": "bar",
         "x": [
          "BİBER (Kıl)"
         ],
         "xaxis": "x",
         "y": [
          1632
         ],
         "yaxis": "y"
        },
        {
         "alignmentgroup": "True",
         "hovertemplate": "urun_ad=%{x}<br>adet=%{y}<extra></extra>",
         "legendgroup": "BİBER (Sivri)",
         "marker": {
          "color": "#FF97FF",
          "pattern": {
           "shape": ""
          }
         },
         "name": "BİBER (Sivri)",
         "offsetgroup": "BİBER (Sivri)",
         "orientation": "v",
         "showlegend": true,
         "textposition": "auto",
         "type": "bar",
         "x": [
          "BİBER (Sivri)"
         ],
         "xaxis": "x",
         "y": [
          1738
         ],
         "yaxis": "y"
        },
        {
         "alignmentgroup": "True",
         "hovertemplate": "urun_ad=%{x}<br>adet=%{y}<extra></extra>",
         "legendgroup": "BİBER (Çarli)",
         "marker": {
          "color": "#FECB52",
          "pattern": {
           "shape": ""
          }
         },
         "name": "BİBER (Çarli)",
         "offsetgroup": "BİBER (Çarli)",
         "orientation": "v",
         "showlegend": true,
         "textposition": "auto",
         "type": "bar",
         "x": [
          "BİBER (Çarli)"
         ],
         "xaxis": "x",
         "y": [
          1749
         ],
         "yaxis": "y"
        },
        {
         "alignmentgroup": "True",
         "hovertemplate": "urun_ad=%{x}<br>adet=%{y}<extra></extra>",
         "legendgroup": "BİBER Dolma (Yerli)",
         "marker": {
          "color": "#636efa",
          "pattern": {
           "shape": ""
          }
         },
         "name": "BİBER Dolma (Yerli)",
         "offsetgroup": "BİBER Dolma (Yerli)",
         "orientation": "v",
         "showlegend": true,
         "textposition": "auto",
         "type": "bar",
         "x": [
          "BİBER Dolma (Yerli)"
         ],
         "xaxis": "x",
         "y": [
          359
         ],
         "yaxis": "y"
        },
        {
         "alignmentgroup": "True",
         "hovertemplate": "urun_ad=%{x}<br>adet=%{y}<extra></extra>",
         "legendgroup": "BİBER Kıl (Yerli)",
         "marker": {
          "color": "#EF553B",
          "pattern": {
           "shape": ""
          }
         },
         "name": "BİBER Kıl (Yerli)",
         "offsetgroup": "BİBER Kıl (Yerli)",
         "orientation": "v",
         "showlegend": true,
         "textposition": "auto",
         "type": "bar",
         "x": [
          "BİBER Kıl (Yerli)"
         ],
         "xaxis": "x",
         "y": [
          303
         ],
         "yaxis": "y"
        },
        {
         "alignmentgroup": "True",
         "hovertemplate": "urun_ad=%{x}<br>adet=%{y}<extra></extra>",
         "legendgroup": "BİBER Salçalık (Kapya)",
         "marker": {
          "color": "#00cc96",
          "pattern": {
           "shape": ""
          }
         },
         "name": "BİBER Salçalık (Kapya)",
         "offsetgroup": "BİBER Salçalık (Kapya)",
         "orientation": "v",
         "showlegend": true,
         "textposition": "auto",
         "type": "bar",
         "x": [
          "BİBER Salçalık (Kapya)"
         ],
         "xaxis": "x",
         "y": [
          1680
         ],
         "yaxis": "y"
        },
        {
         "alignmentgroup": "True",
         "hovertemplate": "urun_ad=%{x}<br>adet=%{y}<extra></extra>",
         "legendgroup": "BİBER Sivri (Yerli)",
         "marker": {
          "color": "#ab63fa",
          "pattern": {
           "shape": ""
          }
         },
         "name": "BİBER Sivri (Yerli)",
         "offsetgroup": "BİBER Sivri (Yerli)",
         "orientation": "v",
         "showlegend": true,
         "textposition": "auto",
         "type": "bar",
         "x": [
          "BİBER Sivri (Yerli)"
         ],
         "xaxis": "x",
         "y": [
          360
         ],
         "yaxis": "y"
        },
        {
         "alignmentgroup": "True",
         "hovertemplate": "urun_ad=%{x}<br>adet=%{y}<extra></extra>",
         "legendgroup": "BİBER Çarli (Yerli)",
         "marker": {
          "color": "#FFA15A",
          "pattern": {
           "shape": ""
          }
         },
         "name": "BİBER Çarli (Yerli)",
         "offsetgroup": "BİBER Çarli (Yerli)",
         "orientation": "v",
         "showlegend": true,
         "textposition": "auto",
         "type": "bar",
         "x": [
          "BİBER Çarli (Yerli)"
         ],
         "xaxis": "x",
         "y": [
          187
         ],
         "yaxis": "y"
        },
        {
         "alignmentgroup": "True",
         "hovertemplate": "urun_ad=%{x}<br>adet=%{y}<extra></extra>",
         "legendgroup": "CEVİZ",
         "marker": {
          "color": "#19d3f3",
          "pattern": {
           "shape": ""
          }
         },
         "name": "CEVİZ",
         "offsetgroup": "CEVİZ",
         "orientation": "v",
         "showlegend": true,
         "textposition": "auto",
         "type": "bar",
         "x": [
          "CEVİZ"
         ],
         "xaxis": "x",
         "y": [
          474
         ],
         "yaxis": "y"
        },
        {
         "alignmentgroup": "True",
         "hovertemplate": "urun_ad=%{x}<br>adet=%{y}<extra></extra>",
         "legendgroup": "DERE OTU (Bağ)",
         "marker": {
          "color": "#FF6692",
          "pattern": {
           "shape": ""
          }
         },
         "name": "DERE OTU (Bağ)",
         "offsetgroup": "DERE OTU (Bağ)",
         "orientation": "v",
         "showlegend": true,
         "textposition": "auto",
         "type": "bar",
         "x": [
          "DERE OTU (Bağ)"
         ],
         "xaxis": "x",
         "y": [
          1732
         ],
         "yaxis": "y"
        },
        {
         "alignmentgroup": "True",
         "hovertemplate": "urun_ad=%{x}<br>adet=%{y}<extra></extra>",
         "legendgroup": "DOMATES (II)",
         "marker": {
          "color": "#B6E880",
          "pattern": {
           "shape": ""
          }
         },
         "name": "DOMATES (II)",
         "offsetgroup": "DOMATES (II)",
         "orientation": "v",
         "showlegend": true,
         "textposition": "auto",
         "type": "bar",
         "x": [
          "DOMATES (II)"
         ],
         "xaxis": "x",
         "y": [
          282
         ],
         "yaxis": "y"
        },
        {
         "alignmentgroup": "True",
         "hovertemplate": "urun_ad=%{x}<br>adet=%{y}<extra></extra>",
         "legendgroup": "DOMATES (Muhtelif)",
         "marker": {
          "color": "#FF97FF",
          "pattern": {
           "shape": ""
          }
         },
         "name": "DOMATES (Muhtelif)",
         "offsetgroup": "DOMATES (Muhtelif)",
         "orientation": "v",
         "showlegend": true,
         "textposition": "auto",
         "type": "bar",
         "x": [
          "DOMATES (Muhtelif)"
         ],
         "xaxis": "x",
         "y": [
          1695
         ],
         "yaxis": "y"
        },
        {
         "alignmentgroup": "True",
         "hovertemplate": "urun_ad=%{x}<br>adet=%{y}<extra></extra>",
         "legendgroup": "DOMATES (Salkım Kutu)",
         "marker": {
          "color": "#FECB52",
          "pattern": {
           "shape": ""
          }
         },
         "name": "DOMATES (Salkım Kutu)",
         "offsetgroup": "DOMATES (Salkım Kutu)",
         "orientation": "v",
         "showlegend": true,
         "textposition": "auto",
         "type": "bar",
         "x": [
          "DOMATES (Salkım Kutu)"
         ],
         "xaxis": "x",
         "y": [
          70
         ],
         "yaxis": "y"
        },
        {
         "alignmentgroup": "True",
         "hovertemplate": "urun_ad=%{x}<br>adet=%{y}<extra></extra>",
         "legendgroup": "DOMATES (Salkım)",
         "marker": {
          "color": "#636efa",
          "pattern": {
           "shape": ""
          }
         },
         "name": "DOMATES (Salkım)",
         "offsetgroup": "DOMATES (Salkım)",
         "orientation": "v",
         "showlegend": true,
         "textposition": "auto",
         "type": "bar",
         "x": [
          "DOMATES (Salkım)"
         ],
         "xaxis": "x",
         "y": [
          1659
         ],
         "yaxis": "y"
        },
        {
         "alignmentgroup": "True",
         "hovertemplate": "urun_ad=%{x}<br>adet=%{y}<extra></extra>",
         "legendgroup": "DOMATES (Salçalık)",
         "marker": {
          "color": "#EF553B",
          "pattern": {
           "shape": ""
          }
         },
         "name": "DOMATES (Salçalık)",
         "offsetgroup": "DOMATES (Salçalık)",
         "orientation": "v",
         "showlegend": true,
         "textposition": "auto",
         "type": "bar",
         "x": [
          "DOMATES (Salçalık)"
         ],
         "xaxis": "x",
         "y": [
          410
         ],
         "yaxis": "y"
        },
        {
         "alignmentgroup": "True",
         "hovertemplate": "urun_ad=%{x}<br>adet=%{y}<extra></extra>",
         "legendgroup": "DOMATES (Yerli)",
         "marker": {
          "color": "#00cc96",
          "pattern": {
           "shape": ""
          }
         },
         "name": "DOMATES (Yerli)",
         "offsetgroup": "DOMATES (Yerli)",
         "orientation": "v",
         "showlegend": true,
         "textposition": "auto",
         "type": "bar",
         "x": [
          "DOMATES (Yerli)"
         ],
         "xaxis": "x",
         "y": [
          363
         ],
         "yaxis": "y"
        },
        {
         "alignmentgroup": "True",
         "hovertemplate": "urun_ad=%{x}<br>adet=%{y}<extra></extra>",
         "legendgroup": "DOMATES (köy)",
         "marker": {
          "color": "#ab63fa",
          "pattern": {
           "shape": ""
          }
         },
         "name": "DOMATES (köy)",
         "offsetgroup": "DOMATES (köy)",
         "orientation": "v",
         "showlegend": true,
         "textposition": "auto",
         "type": "bar",
         "x": [
          "DOMATES (köy)"
         ],
         "xaxis": "x",
         "y": [
          294
         ],
         "yaxis": "y"
        },
        {
         "alignmentgroup": "True",
         "hovertemplate": "urun_ad=%{x}<br>adet=%{y}<extra></extra>",
         "legendgroup": "DOMATES (Çeri)",
         "marker": {
          "color": "#FFA15A",
          "pattern": {
           "shape": ""
          }
         },
         "name": "DOMATES (Çeri)",
         "offsetgroup": "DOMATES (Çeri)",
         "orientation": "v",
         "showlegend": true,
         "textposition": "auto",
         "type": "bar",
         "x": [
          "DOMATES (Çeri)"
         ],
         "xaxis": "x",
         "y": [
          1374
         ],
         "yaxis": "y"
        },
        {
         "alignmentgroup": "True",
         "hovertemplate": "urun_ad=%{x}<br>adet=%{y}<extra></extra>",
         "legendgroup": "DUT",
         "marker": {
          "color": "#19d3f3",
          "pattern": {
           "shape": ""
          }
         },
         "name": "DUT",
         "offsetgroup": "DUT",
         "orientation": "v",
         "showlegend": true,
         "textposition": "auto",
         "type": "bar",
         "x": [
          "DUT"
         ],
         "xaxis": "x",
         "y": [
          593
         ],
         "yaxis": "y"
        },
        {
         "alignmentgroup": "True",
         "hovertemplate": "urun_ad=%{x}<br>adet=%{y}<extra></extra>",
         "legendgroup": "Domates 2",
         "marker": {
          "color": "#FF6692",
          "pattern": {
           "shape": ""
          }
         },
         "name": "Domates 2",
         "offsetgroup": "Domates 2",
         "orientation": "v",
         "showlegend": true,
         "textposition": "auto",
         "type": "bar",
         "x": [
          "Domates 2"
         ],
         "xaxis": "x",
         "y": [
          2
         ],
         "yaxis": "y"
        },
        {
         "alignmentgroup": "True",
         "hovertemplate": "urun_ad=%{x}<br>adet=%{y}<extra></extra>",
         "legendgroup": "EKŞİ OT (Bağ)",
         "marker": {
          "color": "#B6E880",
          "pattern": {
           "shape": ""
          }
         },
         "name": "EKŞİ OT (Bağ)",
         "offsetgroup": "EKŞİ OT (Bağ)",
         "orientation": "v",
         "showlegend": true,
         "textposition": "auto",
         "type": "bar",
         "x": [
          "EKŞİ OT (Bağ)"
         ],
         "xaxis": "x",
         "y": [
          1621
         ],
         "yaxis": "y"
        },
        {
         "alignmentgroup": "True",
         "hovertemplate": "urun_ad=%{x}<br>adet=%{y}<extra></extra>",
         "legendgroup": "ELMA (Amasya)",
         "marker": {
          "color": "#FF97FF",
          "pattern": {
           "shape": ""
          }
         },
         "name": "ELMA (Amasya)",
         "offsetgroup": "ELMA (Amasya)",
         "orientation": "v",
         "showlegend": true,
         "textposition": "auto",
         "type": "bar",
         "x": [
          "ELMA (Amasya)"
         ],
         "xaxis": "x",
         "y": [
          591
         ],
         "yaxis": "y"
        },
        {
         "alignmentgroup": "True",
         "hovertemplate": "urun_ad=%{x}<br>adet=%{y}<extra></extra>",
         "legendgroup": "ELMA (Arjantin)",
         "marker": {
          "color": "#FECB52",
          "pattern": {
           "shape": ""
          }
         },
         "name": "ELMA (Arjantin)",
         "offsetgroup": "ELMA (Arjantin)",
         "orientation": "v",
         "showlegend": true,
         "textposition": "auto",
         "type": "bar",
         "x": [
          "ELMA (Arjantin)"
         ],
         "xaxis": "x",
         "y": [
          105
         ],
         "yaxis": "y"
        },
        {
         "alignmentgroup": "True",
         "hovertemplate": "urun_ad=%{x}<br>adet=%{y}<extra></extra>",
         "legendgroup": "ELMA (Golden)",
         "marker": {
          "color": "#636efa",
          "pattern": {
           "shape": ""
          }
         },
         "name": "ELMA (Golden)",
         "offsetgroup": "ELMA (Golden)",
         "orientation": "v",
         "showlegend": true,
         "textposition": "auto",
         "type": "bar",
         "x": [
          "ELMA (Golden)"
         ],
         "xaxis": "x",
         "y": [
          1139
         ],
         "yaxis": "y"
        },
        {
         "alignmentgroup": "True",
         "hovertemplate": "urun_ad=%{x}<br>adet=%{y}<extra></extra>",
         "legendgroup": "ELMA (Granny Smith)",
         "marker": {
          "color": "#EF553B",
          "pattern": {
           "shape": ""
          }
         },
         "name": "ELMA (Granny Smith)",
         "offsetgroup": "ELMA (Granny Smith)",
         "orientation": "v",
         "showlegend": true,
         "textposition": "auto",
         "type": "bar",
         "x": [
          "ELMA (Granny Smith)"
         ],
         "xaxis": "x",
         "y": [
          103
         ],
         "yaxis": "y"
        },
        {
         "alignmentgroup": "True",
         "hovertemplate": "urun_ad=%{x}<br>adet=%{y}<extra></extra>",
         "legendgroup": "ELMA (II)",
         "marker": {
          "color": "#00cc96",
          "pattern": {
           "shape": ""
          }
         },
         "name": "ELMA (II)",
         "offsetgroup": "ELMA (II)",
         "orientation": "v",
         "showlegend": true,
         "textposition": "auto",
         "type": "bar",
         "x": [
          "ELMA (II)"
         ],
         "xaxis": "x",
         "y": [
          111
         ],
         "yaxis": "y"
        },
        {
         "alignmentgroup": "True",
         "hovertemplate": "urun_ad=%{x}<br>adet=%{y}<extra></extra>",
         "legendgroup": "ELMA (Muhtelif)",
         "marker": {
          "color": "#ab63fa",
          "pattern": {
           "shape": ""
          }
         },
         "name": "ELMA (Muhtelif)",
         "offsetgroup": "ELMA (Muhtelif)",
         "orientation": "v",
         "showlegend": true,
         "textposition": "auto",
         "type": "bar",
         "x": [
          "ELMA (Muhtelif)"
         ],
         "xaxis": "x",
         "y": [
          1705
         ],
         "yaxis": "y"
        },
        {
         "alignmentgroup": "True",
         "hovertemplate": "urun_ad=%{x}<br>adet=%{y}<extra></extra>",
         "legendgroup": "ELMA (Starking)",
         "marker": {
          "color": "#FFA15A",
          "pattern": {
           "shape": ""
          }
         },
         "name": "ELMA (Starking)",
         "offsetgroup": "ELMA (Starking)",
         "orientation": "v",
         "showlegend": true,
         "textposition": "auto",
         "type": "bar",
         "x": [
          "ELMA (Starking)"
         ],
         "xaxis": "x",
         "y": [
          1152
         ],
         "yaxis": "y"
        },
        {
         "alignmentgroup": "True",
         "hovertemplate": "urun_ad=%{x}<br>adet=%{y}<extra></extra>",
         "legendgroup": "ELMA (YERLİ) Muhtelif",
         "marker": {
          "color": "#19d3f3",
          "pattern": {
           "shape": ""
          }
         },
         "name": "ELMA (YERLİ) Muhtelif",
         "offsetgroup": "ELMA (YERLİ) Muhtelif",
         "orientation": "v",
         "showlegend": true,
         "textposition": "auto",
         "type": "bar",
         "x": [
          "ELMA (YERLİ) Muhtelif"
         ],
         "xaxis": "x",
         "y": [
          3
         ],
         "yaxis": "y"
        },
        {
         "alignmentgroup": "True",
         "hovertemplate": "urun_ad=%{x}<br>adet=%{y}<extra></extra>",
         "legendgroup": "ELMA (YEŞİL)",
         "marker": {
          "color": "#FF6692",
          "pattern": {
           "shape": ""
          }
         },
         "name": "ELMA (YEŞİL)",
         "offsetgroup": "ELMA (YEŞİL)",
         "orientation": "v",
         "showlegend": true,
         "textposition": "auto",
         "type": "bar",
         "x": [
          "ELMA (YEŞİL)"
         ],
         "xaxis": "x",
         "y": [
          1
         ],
         "yaxis": "y"
        },
        {
         "alignmentgroup": "True",
         "hovertemplate": "urun_ad=%{x}<br>adet=%{y}<extra></extra>",
         "legendgroup": "ELMA (İthal)",
         "marker": {
          "color": "#B6E880",
          "pattern": {
           "shape": ""
          }
         },
         "name": "ELMA (İthal)",
         "offsetgroup": "ELMA (İthal)",
         "orientation": "v",
         "showlegend": true,
         "textposition": "auto",
         "type": "bar",
         "x": [
          "ELMA (İthal)"
         ],
         "xaxis": "x",
         "y": [
          400
         ],
         "yaxis": "y"
        },
        {
         "alignmentgroup": "True",
         "hovertemplate": "urun_ad=%{x}<br>adet=%{y}<extra></extra>",
         "legendgroup": "ENGİNAR(Adet)",
         "marker": {
          "color": "#FF97FF",
          "pattern": {
           "shape": ""
          }
         },
         "name": "ENGİNAR(Adet)",
         "offsetgroup": "ENGİNAR(Adet)",
         "orientation": "v",
         "showlegend": true,
         "textposition": "auto",
         "type": "bar",
         "x": [
          "ENGİNAR(Adet)"
         ],
         "xaxis": "x",
         "y": [
          504
         ],
         "yaxis": "y"
        },
        {
         "alignmentgroup": "True",
         "hovertemplate": "urun_ad=%{x}<br>adet=%{y}<extra></extra>",
         "legendgroup": "ERİK ( Anjelika )",
         "marker": {
          "color": "#FECB52",
          "pattern": {
           "shape": ""
          }
         },
         "name": "ERİK ( Anjelika )",
         "offsetgroup": "ERİK ( Anjelika )",
         "orientation": "v",
         "showlegend": true,
         "textposition": "auto",
         "type": "bar",
         "x": [
          "ERİK ( Anjelika )"
         ],
         "xaxis": "x",
         "y": [
          149
         ],
         "yaxis": "y"
        },
        {
         "alignmentgroup": "True",
         "hovertemplate": "urun_ad=%{x}<br>adet=%{y}<extra></extra>",
         "legendgroup": "ERİK (Can-Papaz)",
         "marker": {
          "color": "#636efa",
          "pattern": {
           "shape": ""
          }
         },
         "name": "ERİK (Can-Papaz)",
         "offsetgroup": "ERİK (Can-Papaz)",
         "orientation": "v",
         "showlegend": true,
         "textposition": "auto",
         "type": "bar",
         "x": [
          "ERİK (Can-Papaz)"
         ],
         "xaxis": "x",
         "y": [
          531
         ],
         "yaxis": "y"
        },
        {
         "alignmentgroup": "True",
         "hovertemplate": "urun_ad=%{x}<br>adet=%{y}<extra></extra>",
         "legendgroup": "ERİK (Freze)",
         "marker": {
          "color": "#EF553B",
          "pattern": {
           "shape": ""
          }
         },
         "name": "ERİK (Freze)",
         "offsetgroup": "ERİK (Freze)",
         "orientation": "v",
         "showlegend": true,
         "textposition": "auto",
         "type": "bar",
         "x": [
          "ERİK (Freze)"
         ],
         "xaxis": "x",
         "y": [
          2
         ],
         "yaxis": "y"
        },
        {
         "alignmentgroup": "True",
         "hovertemplate": "urun_ad=%{x}<br>adet=%{y}<extra></extra>",
         "legendgroup": "ERİK (Muhtelif)",
         "marker": {
          "color": "#00cc96",
          "pattern": {
           "shape": ""
          }
         },
         "name": "ERİK (Muhtelif)",
         "offsetgroup": "ERİK (Muhtelif)",
         "orientation": "v",
         "showlegend": true,
         "textposition": "auto",
         "type": "bar",
         "x": [
          "ERİK (Muhtelif)"
         ],
         "xaxis": "x",
         "y": [
          1300
         ],
         "yaxis": "y"
        },
        {
         "alignmentgroup": "True",
         "hovertemplate": "urun_ad=%{x}<br>adet=%{y}<extra></extra>",
         "legendgroup": "FASULYE (Muhtelif)",
         "marker": {
          "color": "#ab63fa",
          "pattern": {
           "shape": ""
          }
         },
         "name": "FASULYE (Muhtelif)",
         "offsetgroup": "FASULYE (Muhtelif)",
         "orientation": "v",
         "showlegend": true,
         "textposition": "auto",
         "type": "bar",
         "x": [
          "FASULYE (Muhtelif)"
         ],
         "xaxis": "x",
         "y": [
          1696
         ],
         "yaxis": "y"
        },
        {
         "alignmentgroup": "True",
         "hovertemplate": "urun_ad=%{x}<br>adet=%{y}<extra></extra>",
         "legendgroup": "FASULYE (Yerli)",
         "marker": {
          "color": "#FFA15A",
          "pattern": {
           "shape": ""
          }
         },
         "name": "FASULYE (Yerli)",
         "offsetgroup": "FASULYE (Yerli)",
         "orientation": "v",
         "showlegend": true,
         "textposition": "auto",
         "type": "bar",
         "x": [
          "FASULYE (Yerli)"
         ],
         "xaxis": "x",
         "y": [
          379
         ],
         "yaxis": "y"
        },
        {
         "alignmentgroup": "True",
         "hovertemplate": "urun_ad=%{x}<br>adet=%{y}<extra></extra>",
         "legendgroup": "FESLEĞEN(REYHAN)Bağ",
         "marker": {
          "color": "#19d3f3",
          "pattern": {
           "shape": ""
          }
         },
         "name": "FESLEĞEN(REYHAN)Bağ",
         "offsetgroup": "FESLEĞEN(REYHAN)Bağ",
         "orientation": "v",
         "showlegend": true,
         "textposition": "auto",
         "type": "bar",
         "x": [
          "FESLEĞEN(REYHAN)Bağ"
         ],
         "xaxis": "x",
         "y": [
          1482
         ],
         "yaxis": "y"
        },
        {
         "alignmentgroup": "True",
         "hovertemplate": "urun_ad=%{x}<br>adet=%{y}<extra></extra>",
         "legendgroup": "FINDIK TAZE",
         "marker": {
          "color": "#FF6692",
          "pattern": {
           "shape": ""
          }
         },
         "name": "FINDIK TAZE",
         "offsetgroup": "FINDIK TAZE",
         "orientation": "v",
         "showlegend": true,
         "textposition": "auto",
         "type": "bar",
         "x": [
          "FINDIK TAZE"
         ],
         "xaxis": "x",
         "y": [
          174
         ],
         "yaxis": "y"
        },
        {
         "alignmentgroup": "True",
         "hovertemplate": "urun_ad=%{x}<br>adet=%{y}<extra></extra>",
         "legendgroup": "GREYFURT",
         "marker": {
          "color": "#B6E880",
          "pattern": {
           "shape": ""
          }
         },
         "name": "GREYFURT",
         "offsetgroup": "GREYFURT",
         "orientation": "v",
         "showlegend": true,
         "textposition": "auto",
         "type": "bar",
         "x": [
          "GREYFURT"
         ],
         "xaxis": "x",
         "y": [
          1352
         ],
         "yaxis": "y"
        },
        {
         "alignmentgroup": "True",
         "hovertemplate": "urun_ad=%{x}<br>adet=%{y}<extra></extra>",
         "legendgroup": "HAVUÇ",
         "marker": {
          "color": "#FF97FF",
          "pattern": {
           "shape": ""
          }
         },
         "name": "HAVUÇ",
         "offsetgroup": "HAVUÇ",
         "orientation": "v",
         "showlegend": true,
         "textposition": "auto",
         "type": "bar",
         "x": [
          "HAVUÇ"
         ],
         "xaxis": "x",
         "y": [
          1705
         ],
         "yaxis": "y"
        },
        {
         "alignmentgroup": "True",
         "hovertemplate": "urun_ad=%{x}<br>adet=%{y}<extra></extra>",
         "legendgroup": "HIRTLAK",
         "marker": {
          "color": "#FECB52",
          "pattern": {
           "shape": ""
          }
         },
         "name": "HIRTLAK",
         "offsetgroup": "HIRTLAK",
         "orientation": "v",
         "showlegend": true,
         "textposition": "auto",
         "type": "bar",
         "x": [
          "HIRTLAK"
         ],
         "xaxis": "x",
         "y": [
          670
         ],
         "yaxis": "y"
        },
        {
         "alignmentgroup": "True",
         "hovertemplate": "urun_ad=%{x}<br>adet=%{y}<extra></extra>",
         "legendgroup": "HURMA ( Cennet )",
         "marker": {
          "color": "#636efa",
          "pattern": {
           "shape": ""
          }
         },
         "name": "HURMA ( Cennet )",
         "offsetgroup": "HURMA ( Cennet )",
         "orientation": "v",
         "showlegend": true,
         "textposition": "auto",
         "type": "bar",
         "x": [
          "HURMA ( Cennet )"
         ],
         "xaxis": "x",
         "y": [
          607
         ],
         "yaxis": "y"
        },
        {
         "alignmentgroup": "True",
         "hovertemplate": "urun_ad=%{x}<br>adet=%{y}<extra></extra>",
         "legendgroup": "HİNDİSTAN CEVİZİ(Adet)",
         "marker": {
          "color": "#EF553B",
          "pattern": {
           "shape": ""
          }
         },
         "name": "HİNDİSTAN CEVİZİ(Adet)",
         "offsetgroup": "HİNDİSTAN CEVİZİ(Adet)",
         "orientation": "v",
         "showlegend": true,
         "textposition": "auto",
         "type": "bar",
         "x": [
          "HİNDİSTAN CEVİZİ(Adet)"
         ],
         "xaxis": "x",
         "y": [
          1685
         ],
         "yaxis": "y"
        },
        {
         "alignmentgroup": "True",
         "hovertemplate": "urun_ad=%{x}<br>adet=%{y}<extra></extra>",
         "legendgroup": "ISPANAK",
         "marker": {
          "color": "#00cc96",
          "pattern": {
           "shape": ""
          }
         },
         "name": "ISPANAK",
         "offsetgroup": "ISPANAK",
         "orientation": "v",
         "showlegend": true,
         "textposition": "auto",
         "type": "bar",
         "x": [
          "ISPANAK"
         ],
         "xaxis": "x",
         "y": [
          1743
         ],
         "yaxis": "y"
        },
        {
         "alignmentgroup": "True",
         "hovertemplate": "urun_ad=%{x}<br>adet=%{y}<extra></extra>",
         "legendgroup": "KABAK (Bal)",
         "marker": {
          "color": "#ab63fa",
          "pattern": {
           "shape": ""
          }
         },
         "name": "KABAK (Bal)",
         "offsetgroup": "KABAK (Bal)",
         "orientation": "v",
         "showlegend": true,
         "textposition": "auto",
         "type": "bar",
         "x": [
          "KABAK (Bal)"
         ],
         "xaxis": "x",
         "y": [
          1076
         ],
         "yaxis": "y"
        },
        {
         "alignmentgroup": "True",
         "hovertemplate": "urun_ad=%{x}<br>adet=%{y}<extra></extra>",
         "legendgroup": "KABAK (Beyaz)",
         "marker": {
          "color": "#FFA15A",
          "pattern": {
           "shape": ""
          }
         },
         "name": "KABAK (Beyaz)",
         "offsetgroup": "KABAK (Beyaz)",
         "orientation": "v",
         "showlegend": true,
         "textposition": "auto",
         "type": "bar",
         "x": [
          "KABAK (Beyaz)"
         ],
         "xaxis": "x",
         "y": [
          1469
         ],
         "yaxis": "y"
        },
        {
         "alignmentgroup": "True",
         "hovertemplate": "urun_ad=%{x}<br>adet=%{y}<extra></extra>",
         "legendgroup": "KABAK (Kara)",
         "marker": {
          "color": "#19d3f3",
          "pattern": {
           "shape": ""
          }
         },
         "name": "KABAK (Kara)",
         "offsetgroup": "KABAK (Kara)",
         "orientation": "v",
         "showlegend": true,
         "textposition": "auto",
         "type": "bar",
         "x": [
          "KABAK (Kara)"
         ],
         "xaxis": "x",
         "y": [
          1611
         ],
         "yaxis": "y"
        },
        {
         "alignmentgroup": "True",
         "hovertemplate": "urun_ad=%{x}<br>adet=%{y}<extra></extra>",
         "legendgroup": "KABAK (Yerli)",
         "marker": {
          "color": "#FF6692",
          "pattern": {
           "shape": ""
          }
         },
         "name": "KABAK (Yerli)",
         "offsetgroup": "KABAK (Yerli)",
         "orientation": "v",
         "showlegend": true,
         "textposition": "auto",
         "type": "bar",
         "x": [
          "KABAK (Yerli)"
         ],
         "xaxis": "x",
         "y": [
          411
         ],
         "yaxis": "y"
        },
        {
         "alignmentgroup": "True",
         "hovertemplate": "urun_ad=%{x}<br>adet=%{y}<extra></extra>",
         "legendgroup": "KARNABAHAR",
         "marker": {
          "color": "#B6E880",
          "pattern": {
           "shape": ""
          }
         },
         "name": "KARNABAHAR",
         "offsetgroup": "KARNABAHAR",
         "orientation": "v",
         "showlegend": true,
         "textposition": "auto",
         "type": "bar",
         "x": [
          "KARNABAHAR"
         ],
         "xaxis": "x",
         "y": [
          1654
         ],
         "yaxis": "y"
        },
        {
         "alignmentgroup": "True",
         "hovertemplate": "urun_ad=%{x}<br>adet=%{y}<extra></extra>",
         "legendgroup": "KARPUZ (Muhtelif)",
         "marker": {
          "color": "#FF97FF",
          "pattern": {
           "shape": ""
          }
         },
         "name": "KARPUZ (Muhtelif)",
         "offsetgroup": "KARPUZ (Muhtelif)",
         "orientation": "v",
         "showlegend": true,
         "textposition": "auto",
         "type": "bar",
         "x": [
          "KARPUZ (Muhtelif)"
         ],
         "xaxis": "x",
         "y": [
          1266
         ],
         "yaxis": "y"
        },
        {
         "alignmentgroup": "True",
         "hovertemplate": "urun_ad=%{x}<br>adet=%{y}<extra></extra>",
         "legendgroup": "KARPUZ (İthal)",
         "marker": {
          "color": "#FECB52",
          "pattern": {
           "shape": ""
          }
         },
         "name": "KARPUZ (İthal)",
         "offsetgroup": "KARPUZ (İthal)",
         "orientation": "v",
         "showlegend": true,
         "textposition": "auto",
         "type": "bar",
         "x": [
          "KARPUZ (İthal)"
         ],
         "xaxis": "x",
         "y": [
          24
         ],
         "yaxis": "y"
        },
        {
         "alignmentgroup": "True",
         "hovertemplate": "urun_ad=%{x}<br>adet=%{y}<extra></extra>",
         "legendgroup": "KAVUN (Muhtelif)",
         "marker": {
          "color": "#636efa",
          "pattern": {
           "shape": ""
          }
         },
         "name": "KAVUN (Muhtelif)",
         "offsetgroup": "KAVUN (Muhtelif)",
         "orientation": "v",
         "showlegend": true,
         "textposition": "auto",
         "type": "bar",
         "x": [
          "KAVUN (Muhtelif)"
         ],
         "xaxis": "x",
         "y": [
          1214
         ],
         "yaxis": "y"
        },
        {
         "alignmentgroup": "True",
         "hovertemplate": "urun_ad=%{x}<br>adet=%{y}<extra></extra>",
         "legendgroup": "KAVUN (İthal)",
         "marker": {
          "color": "#EF553B",
          "pattern": {
           "shape": ""
          }
         },
         "name": "KAVUN (İthal)",
         "offsetgroup": "KAVUN (İthal)",
         "orientation": "v",
         "showlegend": true,
         "textposition": "auto",
         "type": "bar",
         "x": [
          "KAVUN (İthal)"
         ],
         "xaxis": "x",
         "y": [
          22
         ],
         "yaxis": "y"
        },
        {
         "alignmentgroup": "True",
         "hovertemplate": "urun_ad=%{x}<br>adet=%{y}<extra></extra>",
         "legendgroup": "KAYISI (Muhtelif)",
         "marker": {
          "color": "#00cc96",
          "pattern": {
           "shape": ""
          }
         },
         "name": "KAYISI (Muhtelif)",
         "offsetgroup": "KAYISI (Muhtelif)",
         "orientation": "v",
         "showlegend": true,
         "textposition": "auto",
         "type": "bar",
         "x": [
          "KAYISI (Muhtelif)"
         ],
         "xaxis": "x",
         "y": [
          706
         ],
         "yaxis": "y"
        },
        {
         "alignmentgroup": "True",
         "hovertemplate": "urun_ad=%{x}<br>adet=%{y}<extra></extra>",
         "legendgroup": "KAYISI (Yerli)",
         "marker": {
          "color": "#ab63fa",
          "pattern": {
           "shape": ""
          }
         },
         "name": "KAYISI (Yerli)",
         "offsetgroup": "KAYISI (Yerli)",
         "orientation": "v",
         "showlegend": true,
         "textposition": "auto",
         "type": "bar",
         "x": [
          "KAYISI (Yerli)"
         ],
         "xaxis": "x",
         "y": [
          37
         ],
         "yaxis": "y"
        },
        {
         "alignmentgroup": "True",
         "hovertemplate": "urun_ad=%{x}<br>adet=%{y}<extra></extra>",
         "legendgroup": "KEREVİZ",
         "marker": {
          "color": "#FFA15A",
          "pattern": {
           "shape": ""
          }
         },
         "name": "KEREVİZ",
         "offsetgroup": "KEREVİZ",
         "orientation": "v",
         "showlegend": true,
         "textposition": "auto",
         "type": "bar",
         "x": [
          "KEREVİZ"
         ],
         "xaxis": "x",
         "y": [
          1181
         ],
         "yaxis": "y"
        },
        {
         "alignmentgroup": "True",
         "hovertemplate": "urun_ad=%{x}<br>adet=%{y}<extra></extra>",
         "legendgroup": "KESTANE ",
         "marker": {
          "color": "#19d3f3",
          "pattern": {
           "shape": ""
          }
         },
         "name": "KESTANE ",
         "offsetgroup": "KESTANE ",
         "orientation": "v",
         "showlegend": true,
         "textposition": "auto",
         "type": "bar",
         "x": [
          "KESTANE "
         ],
         "xaxis": "x",
         "y": [
          343
         ],
         "yaxis": "y"
        },
        {
         "alignmentgroup": "True",
         "hovertemplate": "urun_ad=%{x}<br>adet=%{y}<extra></extra>",
         "legendgroup": "KIZILCIK",
         "marker": {
          "color": "#FF6692",
          "pattern": {
           "shape": ""
          }
         },
         "name": "KIZILCIK",
         "offsetgroup": "KIZILCIK",
         "orientation": "v",
         "showlegend": true,
         "textposition": "auto",
         "type": "bar",
         "x": [
          "KIZILCIK"
         ],
         "xaxis": "x",
         "y": [
          3
         ],
         "yaxis": "y"
        },
        {
         "alignmentgroup": "True",
         "hovertemplate": "urun_ad=%{x}<br>adet=%{y}<extra></extra>",
         "legendgroup": "KİRAZ (Beyaz)",
         "marker": {
          "color": "#B6E880",
          "pattern": {
           "shape": ""
          }
         },
         "name": "KİRAZ (Beyaz)",
         "offsetgroup": "KİRAZ (Beyaz)",
         "orientation": "v",
         "showlegend": true,
         "textposition": "auto",
         "type": "bar",
         "x": [
          "KİRAZ (Beyaz)"
         ],
         "xaxis": "x",
         "y": [
          194
         ],
         "yaxis": "y"
        },
        {
         "alignmentgroup": "True",
         "hovertemplate": "urun_ad=%{x}<br>adet=%{y}<extra></extra>",
         "legendgroup": "KİRAZ (Muhtelif)",
         "marker": {
          "color": "#FF97FF",
          "pattern": {
           "shape": ""
          }
         },
         "name": "KİRAZ (Muhtelif)",
         "offsetgroup": "KİRAZ (Muhtelif)",
         "orientation": "v",
         "showlegend": true,
         "textposition": "auto",
         "type": "bar",
         "x": [
          "KİRAZ (Muhtelif)"
         ],
         "xaxis": "x",
         "y": [
          567
         ],
         "yaxis": "y"
        },
        {
         "alignmentgroup": "True",
         "hovertemplate": "urun_ad=%{x}<br>adet=%{y}<extra></extra>",
         "legendgroup": "KİRAZ (Napolyon )",
         "marker": {
          "color": "#FECB52",
          "pattern": {
           "shape": ""
          }
         },
         "name": "KİRAZ (Napolyon )",
         "offsetgroup": "KİRAZ (Napolyon )",
         "orientation": "v",
         "showlegend": true,
         "textposition": "auto",
         "type": "bar",
         "x": [
          "KİRAZ (Napolyon )"
         ],
         "xaxis": "x",
         "y": [
          21
         ],
         "yaxis": "y"
        },
        {
         "alignmentgroup": "True",
         "hovertemplate": "urun_ad=%{x}<br>adet=%{y}<extra></extra>",
         "legendgroup": "KİRAZ (Yerli)",
         "marker": {
          "color": "#636efa",
          "pattern": {
           "shape": ""
          }
         },
         "name": "KİRAZ (Yerli)",
         "offsetgroup": "KİRAZ (Yerli)",
         "orientation": "v",
         "showlegend": true,
         "textposition": "auto",
         "type": "bar",
         "x": [
          "KİRAZ (Yerli)"
         ],
         "xaxis": "x",
         "y": [
          364
         ],
         "yaxis": "y"
        },
        {
         "alignmentgroup": "True",
         "hovertemplate": "urun_ad=%{x}<br>adet=%{y}<extra></extra>",
         "legendgroup": "KİVİ",
         "marker": {
          "color": "#EF553B",
          "pattern": {
           "shape": ""
          }
         },
         "name": "KİVİ",
         "offsetgroup": "KİVİ",
         "orientation": "v",
         "showlegend": true,
         "textposition": "auto",
         "type": "bar",
         "x": [
          "KİVİ"
         ],
         "xaxis": "x",
         "y": [
          1728
         ],
         "yaxis": "y"
        },
        {
         "alignmentgroup": "True",
         "hovertemplate": "urun_ad=%{x}<br>adet=%{y}<extra></extra>",
         "legendgroup": "KİVİ (İthal )",
         "marker": {
          "color": "#00cc96",
          "pattern": {
           "shape": ""
          }
         },
         "name": "KİVİ (İthal )",
         "offsetgroup": "KİVİ (İthal )",
         "orientation": "v",
         "showlegend": true,
         "textposition": "auto",
         "type": "bar",
         "x": [
          "KİVİ (İthal )"
         ],
         "xaxis": "x",
         "y": [
          45
         ],
         "yaxis": "y"
        },
        {
         "alignmentgroup": "True",
         "hovertemplate": "urun_ad=%{x}<br>adet=%{y}<extra></extra>",
         "legendgroup": "LAHANA (Beyaz)",
         "marker": {
          "color": "#ab63fa",
          "pattern": {
           "shape": ""
          }
         },
         "name": "LAHANA (Beyaz)",
         "offsetgroup": "LAHANA (Beyaz)",
         "orientation": "v",
         "showlegend": true,
         "textposition": "auto",
         "type": "bar",
         "x": [
          "LAHANA (Beyaz)"
         ],
         "xaxis": "x",
         "y": [
          1723
         ],
         "yaxis": "y"
        },
        {
         "alignmentgroup": "True",
         "hovertemplate": "urun_ad=%{x}<br>adet=%{y}<extra></extra>",
         "legendgroup": "LAHANA (Bürüksel)",
         "marker": {
          "color": "#FFA15A",
          "pattern": {
           "shape": ""
          }
         },
         "name": "LAHANA (Bürüksel)",
         "offsetgroup": "LAHANA (Bürüksel)",
         "orientation": "v",
         "showlegend": true,
         "textposition": "auto",
         "type": "bar",
         "x": [
          "LAHANA (Bürüksel)"
         ],
         "xaxis": "x",
         "y": [
          536
         ],
         "yaxis": "y"
        },
        {
         "alignmentgroup": "True",
         "hovertemplate": "urun_ad=%{x}<br>adet=%{y}<extra></extra>",
         "legendgroup": "LAHANA (Mor)",
         "marker": {
          "color": "#19d3f3",
          "pattern": {
           "shape": ""
          }
         },
         "name": "LAHANA (Mor)",
         "offsetgroup": "LAHANA (Mor)",
         "orientation": "v",
         "showlegend": true,
         "textposition": "auto",
         "type": "bar",
         "x": [
          "LAHANA (Mor)"
         ],
         "xaxis": "x",
         "y": [
          1725
         ],
         "yaxis": "y"
        },
        {
         "alignmentgroup": "True",
         "hovertemplate": "urun_ad=%{x}<br>adet=%{y}<extra></extra>",
         "legendgroup": "LİMON",
         "marker": {
          "color": "#FF6692",
          "pattern": {
           "shape": ""
          }
         },
         "name": "LİMON",
         "offsetgroup": "LİMON",
         "orientation": "v",
         "showlegend": true,
         "textposition": "auto",
         "type": "bar",
         "x": [
          "LİMON"
         ],
         "xaxis": "x",
         "y": [
          705
         ],
         "yaxis": "y"
        },
        {
         "alignmentgroup": "True",
         "hovertemplate": "urun_ad=%{x}<br>adet=%{y}<extra></extra>",
         "legendgroup": "LİMON (File )",
         "marker": {
          "color": "#B6E880",
          "pattern": {
           "shape": ""
          }
         },
         "name": "LİMON (File )",
         "offsetgroup": "LİMON (File )",
         "orientation": "v",
         "showlegend": true,
         "textposition": "auto",
         "type": "bar",
         "x": [
          "LİMON (File )"
         ],
         "xaxis": "x",
         "y": [
          104
         ],
         "yaxis": "y"
        },
        {
         "alignmentgroup": "True",
         "hovertemplate": "urun_ad=%{x}<br>adet=%{y}<extra></extra>",
         "legendgroup": "LİMON (II)",
         "marker": {
          "color": "#FF97FF",
          "pattern": {
           "shape": ""
          }
         },
         "name": "LİMON (II)",
         "offsetgroup": "LİMON (II)",
         "orientation": "v",
         "showlegend": true,
         "textposition": "auto",
         "type": "bar",
         "x": [
          "LİMON (II)"
         ],
         "xaxis": "x",
         "y": [
          27
         ],
         "yaxis": "y"
        },
        {
         "alignmentgroup": "True",
         "hovertemplate": "urun_ad=%{x}<br>adet=%{y}<extra></extra>",
         "legendgroup": "LİMON(yatak)",
         "marker": {
          "color": "#FECB52",
          "pattern": {
           "shape": ""
          }
         },
         "name": "LİMON(yatak)",
         "offsetgroup": "LİMON(yatak)",
         "orientation": "v",
         "showlegend": true,
         "textposition": "auto",
         "type": "bar",
         "x": [
          "LİMON(yatak)"
         ],
         "xaxis": "x",
         "y": [
          304
         ],
         "yaxis": "y"
        },
        {
         "alignmentgroup": "True",
         "hovertemplate": "urun_ad=%{x}<br>adet=%{y}<extra></extra>",
         "legendgroup": "MANDALİN (II)",
         "marker": {
          "color": "#636efa",
          "pattern": {
           "shape": ""
          }
         },
         "name": "MANDALİN (II)",
         "offsetgroup": "MANDALİN (II)",
         "orientation": "v",
         "showlegend": true,
         "textposition": "auto",
         "type": "bar",
         "x": [
          "MANDALİN (II)"
         ],
         "xaxis": "x",
         "y": [
          13
         ],
         "yaxis": "y"
        },
        {
         "alignmentgroup": "True",
         "hovertemplate": "urun_ad=%{x}<br>adet=%{y}<extra></extra>",
         "legendgroup": "MANDALİN (King)",
         "marker": {
          "color": "#EF553B",
          "pattern": {
           "shape": ""
          }
         },
         "name": "MANDALİN (King)",
         "offsetgroup": "MANDALİN (King)",
         "orientation": "v",
         "showlegend": true,
         "textposition": "auto",
         "type": "bar",
         "x": [
          "MANDALİN (King)"
         ],
         "xaxis": "x",
         "y": [
          205
         ],
         "yaxis": "y"
        },
        {
         "alignmentgroup": "True",
         "hovertemplate": "urun_ad=%{x}<br>adet=%{y}<extra></extra>",
         "legendgroup": "MANDALİN (Muhtelif)",
         "marker": {
          "color": "#00cc96",
          "pattern": {
           "shape": ""
          }
         },
         "name": "MANDALİN (Muhtelif)",
         "offsetgroup": "MANDALİN (Muhtelif)",
         "orientation": "v",
         "showlegend": true,
         "textposition": "auto",
         "type": "bar",
         "x": [
          "MANDALİN (Muhtelif)"
         ],
         "xaxis": "x",
         "y": [
          939
         ],
         "yaxis": "y"
        },
        {
         "alignmentgroup": "True",
         "hovertemplate": "urun_ad=%{x}<br>adet=%{y}<extra></extra>",
         "legendgroup": "MANDALİNA (satsuma)",
         "marker": {
          "color": "#ab63fa",
          "pattern": {
           "shape": ""
          }
         },
         "name": "MANDALİNA (satsuma)",
         "offsetgroup": "MANDALİNA (satsuma)",
         "orientation": "v",
         "showlegend": true,
         "textposition": "auto",
         "type": "bar",
         "x": [
          "MANDALİNA (satsuma)"
         ],
         "xaxis": "x",
         "y": [
          235
         ],
         "yaxis": "y"
        },
        {
         "alignmentgroup": "True",
         "hovertemplate": "urun_ad=%{x}<br>adet=%{y}<extra></extra>",
         "legendgroup": "MANTAR (Kültür)",
         "marker": {
          "color": "#FFA15A",
          "pattern": {
           "shape": ""
          }
         },
         "name": "MANTAR (Kültür)",
         "offsetgroup": "MANTAR (Kültür)",
         "orientation": "v",
         "showlegend": true,
         "textposition": "auto",
         "type": "bar",
         "x": [
          "MANTAR (Kültür)"
         ],
         "xaxis": "x",
         "y": [
          1693
         ],
         "yaxis": "y"
        },
        {
         "alignmentgroup": "True",
         "hovertemplate": "urun_ad=%{x}<br>adet=%{y}<extra></extra>",
         "legendgroup": "MARUL (Aysberk)Adet",
         "marker": {
          "color": "#19d3f3",
          "pattern": {
           "shape": ""
          }
         },
         "name": "MARUL (Aysberk)Adet",
         "offsetgroup": "MARUL (Aysberk)Adet",
         "orientation": "v",
         "showlegend": true,
         "textposition": "auto",
         "type": "bar",
         "x": [
          "MARUL (Aysberk)Adet"
         ],
         "xaxis": "x",
         "y": [
          1639
         ],
         "yaxis": "y"
        },
        {
         "alignmentgroup": "True",
         "hovertemplate": "urun_ad=%{x}<br>adet=%{y}<extra></extra>",
         "legendgroup": "MARUL (Mor)Adet",
         "marker": {
          "color": "#FF6692",
          "pattern": {
           "shape": ""
          }
         },
         "name": "MARUL (Mor)Adet",
         "offsetgroup": "MARUL (Mor)Adet",
         "orientation": "v",
         "showlegend": true,
         "textposition": "auto",
         "type": "bar",
         "x": [
          "MARUL (Mor)Adet"
         ],
         "xaxis": "x",
         "y": [
          1247
         ],
         "yaxis": "y"
        },
        {
         "alignmentgroup": "True",
         "hovertemplate": "urun_ad=%{x}<br>adet=%{y}<extra></extra>",
         "legendgroup": "MARUL (Muhtelif)Adet",
         "marker": {
          "color": "#B6E880",
          "pattern": {
           "shape": ""
          }
         },
         "name": "MARUL (Muhtelif)Adet",
         "offsetgroup": "MARUL (Muhtelif)Adet",
         "orientation": "v",
         "showlegend": true,
         "textposition": "auto",
         "type": "bar",
         "x": [
          "MARUL (Muhtelif)Adet"
         ],
         "xaxis": "x",
         "y": [
          1481
         ],
         "yaxis": "y"
        },
        {
         "alignmentgroup": "True",
         "hovertemplate": "urun_ad=%{x}<br>adet=%{y}<extra></extra>",
         "legendgroup": "MARUL (Yerli)Adet",
         "marker": {
          "color": "#FF97FF",
          "pattern": {
           "shape": ""
          }
         },
         "name": "MARUL (Yerli)Adet",
         "offsetgroup": "MARUL (Yerli)Adet",
         "orientation": "v",
         "showlegend": true,
         "textposition": "auto",
         "type": "bar",
         "x": [
          "MARUL (Yerli)Adet"
         ],
         "xaxis": "x",
         "y": [
          575
         ],
         "yaxis": "y"
        },
        {
         "alignmentgroup": "True",
         "hovertemplate": "urun_ad=%{x}<br>adet=%{y}<extra></extra>",
         "legendgroup": "MAYDONOZ (Bağ)",
         "marker": {
          "color": "#FECB52",
          "pattern": {
           "shape": ""
          }
         },
         "name": "MAYDONOZ (Bağ)",
         "offsetgroup": "MAYDONOZ (Bağ)",
         "orientation": "v",
         "showlegend": true,
         "textposition": "auto",
         "type": "bar",
         "x": [
          "MAYDONOZ (Bağ)"
         ],
         "xaxis": "x",
         "y": [
          1718
         ],
         "yaxis": "y"
        },
        {
         "alignmentgroup": "True",
         "hovertemplate": "urun_ad=%{x}<br>adet=%{y}<extra></extra>",
         "legendgroup": "MAYDONOZ (Yerli) Bağ",
         "marker": {
          "color": "#636efa",
          "pattern": {
           "shape": ""
          }
         },
         "name": "MAYDONOZ (Yerli) Bağ",
         "offsetgroup": "MAYDONOZ (Yerli) Bağ",
         "orientation": "v",
         "showlegend": true,
         "textposition": "auto",
         "type": "bar",
         "x": [
          "MAYDONOZ (Yerli) Bağ"
         ],
         "xaxis": "x",
         "y": [
          415
         ],
         "yaxis": "y"
        },
        {
         "alignmentgroup": "True",
         "hovertemplate": "urun_ad=%{x}<br>adet=%{y}<extra></extra>",
         "legendgroup": "MISIR (Taze)Adet",
         "marker": {
          "color": "#EF553B",
          "pattern": {
           "shape": ""
          }
         },
         "name": "MISIR (Taze)Adet",
         "offsetgroup": "MISIR (Taze)Adet",
         "orientation": "v",
         "showlegend": true,
         "textposition": "auto",
         "type": "bar",
         "x": [
          "MISIR (Taze)Adet"
         ],
         "xaxis": "x",
         "y": [
          555
         ],
         "yaxis": "y"
        },
        {
         "alignmentgroup": "True",
         "hovertemplate": "urun_ad=%{x}<br>adet=%{y}<extra></extra>",
         "legendgroup": "MUZ (Yerli)",
         "marker": {
          "color": "#00cc96",
          "pattern": {
           "shape": ""
          }
         },
         "name": "MUZ (Yerli)",
         "offsetgroup": "MUZ (Yerli)",
         "orientation": "v",
         "showlegend": true,
         "textposition": "auto",
         "type": "bar",
         "x": [
          "MUZ (Yerli)"
         ],
         "xaxis": "x",
         "y": [
          1727
         ],
         "yaxis": "y"
        },
        {
         "alignmentgroup": "True",
         "hovertemplate": "urun_ad=%{x}<br>adet=%{y}<extra></extra>",
         "legendgroup": "MUZ (İthal)",
         "marker": {
          "color": "#ab63fa",
          "pattern": {
           "shape": ""
          }
         },
         "name": "MUZ (İthal)",
         "offsetgroup": "MUZ (İthal)",
         "orientation": "v",
         "showlegend": true,
         "textposition": "auto",
         "type": "bar",
         "x": [
          "MUZ (İthal)"
         ],
         "xaxis": "x",
         "y": [
          1753
         ],
         "yaxis": "y"
        },
        {
         "alignmentgroup": "True",
         "hovertemplate": "urun_ad=%{x}<br>adet=%{y}<extra></extra>",
         "legendgroup": "MUŞMULA (Döngel)",
         "marker": {
          "color": "#FFA15A",
          "pattern": {
           "shape": ""
          }
         },
         "name": "MUŞMULA (Döngel)",
         "offsetgroup": "MUŞMULA (Döngel)",
         "orientation": "v",
         "showlegend": true,
         "textposition": "auto",
         "type": "bar",
         "x": [
          "MUŞMULA (Döngel)"
         ],
         "xaxis": "x",
         "y": [
          251
         ],
         "yaxis": "y"
        },
        {
         "alignmentgroup": "True",
         "hovertemplate": "urun_ad=%{x}<br>adet=%{y}<extra></extra>",
         "legendgroup": "NANE(Bağ)",
         "marker": {
          "color": "#19d3f3",
          "pattern": {
           "shape": ""
          }
         },
         "name": "NANE(Bağ)",
         "offsetgroup": "NANE(Bağ)",
         "orientation": "v",
         "showlegend": true,
         "textposition": "auto",
         "type": "bar",
         "x": [
          "NANE(Bağ)"
         ],
         "xaxis": "x",
         "y": [
          1732
         ],
         "yaxis": "y"
        },
        {
         "alignmentgroup": "True",
         "hovertemplate": "urun_ad=%{x}<br>adet=%{y}<extra></extra>",
         "legendgroup": "NAR ( Muhtelif )",
         "marker": {
          "color": "#FF6692",
          "pattern": {
           "shape": ""
          }
         },
         "name": "NAR ( Muhtelif )",
         "offsetgroup": "NAR ( Muhtelif )",
         "orientation": "v",
         "showlegend": true,
         "textposition": "auto",
         "type": "bar",
         "x": [
          "NAR ( Muhtelif )"
         ],
         "xaxis": "x",
         "y": [
          360
         ],
         "yaxis": "y"
        },
        {
         "alignmentgroup": "True",
         "hovertemplate": "urun_ad=%{x}<br>adet=%{y}<extra></extra>",
         "legendgroup": "NAR çekirdeksiz",
         "marker": {
          "color": "#B6E880",
          "pattern": {
           "shape": ""
          }
         },
         "name": "NAR çekirdeksiz",
         "offsetgroup": "NAR çekirdeksiz",
         "orientation": "v",
         "showlegend": true,
         "textposition": "auto",
         "type": "bar",
         "x": [
          "NAR çekirdeksiz"
         ],
         "xaxis": "x",
         "y": [
          907
         ],
         "yaxis": "y"
        },
        {
         "alignmentgroup": "True",
         "hovertemplate": "urun_ad=%{x}<br>adet=%{y}<extra></extra>",
         "legendgroup": "NEKTARİ",
         "marker": {
          "color": "#FF97FF",
          "pattern": {
           "shape": ""
          }
         },
         "name": "NEKTARİ",
         "offsetgroup": "NEKTARİ",
         "orientation": "v",
         "showlegend": true,
         "textposition": "auto",
         "type": "bar",
         "x": [
          "NEKTARİ"
         ],
         "xaxis": "x",
         "y": [
          140
         ],
         "yaxis": "y"
        },
        {
         "alignmentgroup": "True",
         "hovertemplate": "urun_ad=%{x}<br>adet=%{y}<extra></extra>",
         "legendgroup": "NOHUT (Taze)",
         "marker": {
          "color": "#FECB52",
          "pattern": {
           "shape": ""
          }
         },
         "name": "NOHUT (Taze)",
         "offsetgroup": "NOHUT (Taze)",
         "orientation": "v",
         "showlegend": true,
         "textposition": "auto",
         "type": "bar",
         "x": [
          "NOHUT (Taze)"
         ],
         "xaxis": "x",
         "y": [
          199
         ],
         "yaxis": "y"
        },
        {
         "alignmentgroup": "True",
         "hovertemplate": "urun_ad=%{x}<br>adet=%{y}<extra></extra>",
         "legendgroup": "PANCAR (Kırmızı)",
         "marker": {
          "color": "#636efa",
          "pattern": {
           "shape": ""
          }
         },
         "name": "PANCAR (Kırmızı)",
         "offsetgroup": "PANCAR (Kırmızı)",
         "orientation": "v",
         "showlegend": true,
         "textposition": "auto",
         "type": "bar",
         "x": [
          "PANCAR (Kırmızı)"
         ],
         "xaxis": "x",
         "y": [
          527
         ],
         "yaxis": "y"
        },
        {
         "alignmentgroup": "True",
         "hovertemplate": "urun_ad=%{x}<br>adet=%{y}<extra></extra>",
         "legendgroup": "PATATES",
         "marker": {
          "color": "#EF553B",
          "pattern": {
           "shape": ""
          }
         },
         "name": "PATATES",
         "offsetgroup": "PATATES",
         "orientation": "v",
         "showlegend": true,
         "textposition": "auto",
         "type": "bar",
         "x": [
          "PATATES"
         ],
         "xaxis": "x",
         "y": [
          1566
         ],
         "yaxis": "y"
        },
        {
         "alignmentgroup": "True",
         "hovertemplate": "urun_ad=%{x}<br>adet=%{y}<extra></extra>",
         "legendgroup": "PATATES ( 2.)",
         "marker": {
          "color": "#00cc96",
          "pattern": {
           "shape": ""
          }
         },
         "name": "PATATES ( 2.)",
         "offsetgroup": "PATATES ( 2.)",
         "orientation": "v",
         "showlegend": true,
         "textposition": "auto",
         "type": "bar",
         "x": [
          "PATATES ( 2.)"
         ],
         "xaxis": "x",
         "y": [
          440
         ],
         "yaxis": "y"
        },
        {
         "alignmentgroup": "True",
         "hovertemplate": "urun_ad=%{x}<br>adet=%{y}<extra></extra>",
         "legendgroup": "PATATES (taze)",
         "marker": {
          "color": "#ab63fa",
          "pattern": {
           "shape": ""
          }
         },
         "name": "PATATES (taze)",
         "offsetgroup": "PATATES (taze)",
         "orientation": "v",
         "showlegend": true,
         "textposition": "auto",
         "type": "bar",
         "x": [
          "PATATES (taze)"
         ],
         "xaxis": "x",
         "y": [
          38
         ],
         "yaxis": "y"
        },
        {
         "alignmentgroup": "True",
         "hovertemplate": "urun_ad=%{x}<br>adet=%{y}<extra></extra>",
         "legendgroup": "PATLICAN (Kemer)",
         "marker": {
          "color": "#FFA15A",
          "pattern": {
           "shape": ""
          }
         },
         "name": "PATLICAN (Kemer)",
         "offsetgroup": "PATLICAN (Kemer)",
         "orientation": "v",
         "showlegend": true,
         "textposition": "auto",
         "type": "bar",
         "x": [
          "PATLICAN (Kemer)"
         ],
         "xaxis": "x",
         "y": [
          1751
         ],
         "yaxis": "y"
        },
        {
         "alignmentgroup": "True",
         "hovertemplate": "urun_ad=%{x}<br>adet=%{y}<extra></extra>",
         "legendgroup": "PATLICAN (Topak)",
         "marker": {
          "color": "#19d3f3",
          "pattern": {
           "shape": ""
          }
         },
         "name": "PATLICAN (Topak)",
         "offsetgroup": "PATLICAN (Topak)",
         "orientation": "v",
         "showlegend": true,
         "textposition": "auto",
         "type": "bar",
         "x": [
          "PATLICAN (Topak)"
         ],
         "xaxis": "x",
         "y": [
          1521
         ],
         "yaxis": "y"
        },
        {
         "alignmentgroup": "True",
         "hovertemplate": "urun_ad=%{x}<br>adet=%{y}<extra></extra>",
         "legendgroup": "PATLICAN (Yerli)",
         "marker": {
          "color": "#FF6692",
          "pattern": {
           "shape": ""
          }
         },
         "name": "PATLICAN (Yerli)",
         "offsetgroup": "PATLICAN (Yerli)",
         "orientation": "v",
         "showlegend": true,
         "textposition": "auto",
         "type": "bar",
         "x": [
          "PATLICAN (Yerli)"
         ],
         "xaxis": "x",
         "y": [
          249
         ],
         "yaxis": "y"
        },
        {
         "alignmentgroup": "True",
         "hovertemplate": "urun_ad=%{x}<br>adet=%{y}<extra></extra>",
         "legendgroup": "PAZI",
         "marker": {
          "color": "#B6E880",
          "pattern": {
           "shape": ""
          }
         },
         "name": "PAZI",
         "offsetgroup": "PAZI",
         "orientation": "v",
         "showlegend": true,
         "textposition": "auto",
         "type": "bar",
         "x": [
          "PAZI"
         ],
         "xaxis": "x",
         "y": [
          272
         ],
         "yaxis": "y"
        },
        {
         "alignmentgroup": "True",
         "hovertemplate": "urun_ad=%{x}<br>adet=%{y}<extra></extra>",
         "legendgroup": "PIRASA",
         "marker": {
          "color": "#FF97FF",
          "pattern": {
           "shape": ""
          }
         },
         "name": "PIRASA",
         "offsetgroup": "PIRASA",
         "orientation": "v",
         "showlegend": true,
         "textposition": "auto",
         "type": "bar",
         "x": [
          "PIRASA"
         ],
         "xaxis": "x",
         "y": [
          1293
         ],
         "yaxis": "y"
        },
        {
         "alignmentgroup": "True",
         "hovertemplate": "urun_ad=%{x}<br>adet=%{y}<extra></extra>",
         "legendgroup": "PORTAKAL (Finike)",
         "marker": {
          "color": "#FECB52",
          "pattern": {
           "shape": ""
          }
         },
         "name": "PORTAKAL (Finike)",
         "offsetgroup": "PORTAKAL (Finike)",
         "orientation": "v",
         "showlegend": true,
         "textposition": "auto",
         "type": "bar",
         "x": [
          "PORTAKAL (Finike)"
         ],
         "xaxis": "x",
         "y": [
          408
         ],
         "yaxis": "y"
        },
        {
         "alignmentgroup": "True",
         "hovertemplate": "urun_ad=%{x}<br>adet=%{y}<extra></extra>",
         "legendgroup": "PORTAKAL (II)",
         "marker": {
          "color": "#636efa",
          "pattern": {
           "shape": ""
          }
         },
         "name": "PORTAKAL (II)",
         "offsetgroup": "PORTAKAL (II)",
         "orientation": "v",
         "showlegend": true,
         "textposition": "auto",
         "type": "bar",
         "x": [
          "PORTAKAL (II)"
         ],
         "xaxis": "x",
         "y": [
          30
         ],
         "yaxis": "y"
        },
        {
         "alignmentgroup": "True",
         "hovertemplate": "urun_ad=%{x}<br>adet=%{y}<extra></extra>",
         "legendgroup": "PORTAKAL (Muhtelif)",
         "marker": {
          "color": "#EF553B",
          "pattern": {
           "shape": ""
          }
         },
         "name": "PORTAKAL (Muhtelif)",
         "offsetgroup": "PORTAKAL (Muhtelif)",
         "orientation": "v",
         "showlegend": true,
         "textposition": "auto",
         "type": "bar",
         "x": [
          "PORTAKAL (Muhtelif)"
         ],
         "xaxis": "x",
         "y": [
          1357
         ],
         "yaxis": "y"
        },
        {
         "alignmentgroup": "True",
         "hovertemplate": "urun_ad=%{x}<br>adet=%{y}<extra></extra>",
         "legendgroup": "PORTAKAL (Sıkmalık )",
         "marker": {
          "color": "#00cc96",
          "pattern": {
           "shape": ""
          }
         },
         "name": "PORTAKAL (Sıkmalık )",
         "offsetgroup": "PORTAKAL (Sıkmalık )",
         "orientation": "v",
         "showlegend": true,
         "textposition": "auto",
         "type": "bar",
         "x": [
          "PORTAKAL (Sıkmalık )"
         ],
         "xaxis": "x",
         "y": [
          85
         ],
         "yaxis": "y"
        },
        {
         "alignmentgroup": "True",
         "hovertemplate": "urun_ad=%{x}<br>adet=%{y}<extra></extra>",
         "legendgroup": "PORTAKAL (Washington)",
         "marker": {
          "color": "#ab63fa",
          "pattern": {
           "shape": ""
          }
         },
         "name": "PORTAKAL (Washington)",
         "offsetgroup": "PORTAKAL (Washington)",
         "orientation": "v",
         "showlegend": true,
         "textposition": "auto",
         "type": "bar",
         "x": [
          "PORTAKAL (Washington)"
         ],
         "xaxis": "x",
         "y": [
          263
         ],
         "yaxis": "y"
        },
        {
         "alignmentgroup": "True",
         "hovertemplate": "urun_ad=%{x}<br>adet=%{y}<extra></extra>",
         "legendgroup": "ROKA(Bağ)",
         "marker": {
          "color": "#FFA15A",
          "pattern": {
           "shape": ""
          }
         },
         "name": "ROKA(Bağ)",
         "offsetgroup": "ROKA(Bağ)",
         "orientation": "v",
         "showlegend": true,
         "textposition": "auto",
         "type": "bar",
         "x": [
          "ROKA(Bağ)"
         ],
         "xaxis": "x",
         "y": [
          1451
         ],
         "yaxis": "y"
        },
        {
         "alignmentgroup": "True",
         "hovertemplate": "urun_ad=%{x}<br>adet=%{y}<extra></extra>",
         "legendgroup": "SALATALIK (II)",
         "marker": {
          "color": "#19d3f3",
          "pattern": {
           "shape": ""
          }
         },
         "name": "SALATALIK (II)",
         "offsetgroup": "SALATALIK (II)",
         "orientation": "v",
         "showlegend": true,
         "textposition": "auto",
         "type": "bar",
         "x": [
          "SALATALIK (II)"
         ],
         "xaxis": "x",
         "y": [
          26
         ],
         "yaxis": "y"
        },
        {
         "alignmentgroup": "True",
         "hovertemplate": "urun_ad=%{x}<br>adet=%{y}<extra></extra>",
         "legendgroup": "SALATALIK (Kornişon)",
         "marker": {
          "color": "#FF6692",
          "pattern": {
           "shape": ""
          }
         },
         "name": "SALATALIK (Kornişon)",
         "offsetgroup": "SALATALIK (Kornişon)",
         "orientation": "v",
         "showlegend": true,
         "textposition": "auto",
         "type": "bar",
         "x": [
          "SALATALIK (Kornişon)"
         ],
         "xaxis": "x",
         "y": [
          266
         ],
         "yaxis": "y"
        },
        {
         "alignmentgroup": "True",
         "hovertemplate": "urun_ad=%{x}<br>adet=%{y}<extra></extra>",
         "legendgroup": "SALATALIK (Muhtelif)",
         "marker": {
          "color": "#B6E880",
          "pattern": {
           "shape": ""
          }
         },
         "name": "SALATALIK (Muhtelif)",
         "offsetgroup": "SALATALIK (Muhtelif)",
         "orientation": "v",
         "showlegend": true,
         "textposition": "auto",
         "type": "bar",
         "x": [
          "SALATALIK (Muhtelif)"
         ],
         "xaxis": "x",
         "y": [
          1418
         ],
         "yaxis": "y"
        },
        {
         "alignmentgroup": "True",
         "hovertemplate": "urun_ad=%{x}<br>adet=%{y}<extra></extra>",
         "legendgroup": "SALATALIK (Silor)",
         "marker": {
          "color": "#FF97FF",
          "pattern": {
           "shape": ""
          }
         },
         "name": "SALATALIK (Silor)",
         "offsetgroup": "SALATALIK (Silor)",
         "orientation": "v",
         "showlegend": true,
         "textposition": "auto",
         "type": "bar",
         "x": [
          "SALATALIK (Silor)"
         ],
         "xaxis": "x",
         "y": [
          1410
         ],
         "yaxis": "y"
        },
        {
         "alignmentgroup": "True",
         "hovertemplate": "urun_ad=%{x}<br>adet=%{y}<extra></extra>",
         "legendgroup": "SALATALIK (Yerli)",
         "marker": {
          "color": "#FECB52",
          "pattern": {
           "shape": ""
          }
         },
         "name": "SALATALIK (Yerli)",
         "offsetgroup": "SALATALIK (Yerli)",
         "orientation": "v",
         "showlegend": true,
         "textposition": "auto",
         "type": "bar",
         "x": [
          "SALATALIK (Yerli)"
         ],
         "xaxis": "x",
         "y": [
          518
         ],
         "yaxis": "y"
        },
        {
         "alignmentgroup": "True",
         "hovertemplate": "urun_ad=%{x}<br>adet=%{y}<extra></extra>",
         "legendgroup": "SARIMSAK (Kuru)",
         "marker": {
          "color": "#636efa",
          "pattern": {
           "shape": ""
          }
         },
         "name": "SARIMSAK (Kuru)",
         "offsetgroup": "SARIMSAK (Kuru)",
         "orientation": "v",
         "showlegend": true,
         "textposition": "auto",
         "type": "bar",
         "x": [
          "SARIMSAK (Kuru)"
         ],
         "xaxis": "x",
         "y": [
          1430
         ],
         "yaxis": "y"
        },
        {
         "alignmentgroup": "True",
         "hovertemplate": "urun_ad=%{x}<br>adet=%{y}<extra></extra>",
         "legendgroup": "SARIMSAK (Taze)",
         "marker": {
          "color": "#EF553B",
          "pattern": {
           "shape": ""
          }
         },
         "name": "SARIMSAK (Taze)",
         "offsetgroup": "SARIMSAK (Taze)",
         "orientation": "v",
         "showlegend": true,
         "textposition": "auto",
         "type": "bar",
         "x": [
          "SARIMSAK (Taze)"
         ],
         "xaxis": "x",
         "y": [
          388
         ],
         "yaxis": "y"
        },
        {
         "alignmentgroup": "True",
         "hovertemplate": "urun_ad=%{x}<br>adet=%{y}<extra></extra>",
         "legendgroup": "SEMİZ OTU(Bağ)",
         "marker": {
          "color": "#00cc96",
          "pattern": {
           "shape": ""
          }
         },
         "name": "SEMİZ OTU(Bağ)",
         "offsetgroup": "SEMİZ OTU(Bağ)",
         "orientation": "v",
         "showlegend": true,
         "textposition": "auto",
         "type": "bar",
         "x": [
          "SEMİZ OTU(Bağ)"
         ],
         "xaxis": "x",
         "y": [
          1445
         ],
         "yaxis": "y"
        },
        {
         "alignmentgroup": "True",
         "hovertemplate": "urun_ad=%{x}<br>adet=%{y}<extra></extra>",
         "legendgroup": "SEMİZ OTU(Bağ) yerli",
         "marker": {
          "color": "#ab63fa",
          "pattern": {
           "shape": ""
          }
         },
         "name": "SEMİZ OTU(Bağ) yerli",
         "offsetgroup": "SEMİZ OTU(Bağ) yerli",
         "orientation": "v",
         "showlegend": true,
         "textposition": "auto",
         "type": "bar",
         "x": [
          "SEMİZ OTU(Bağ) yerli"
         ],
         "xaxis": "x",
         "y": [
          40
         ],
         "yaxis": "y"
        },
        {
         "alignmentgroup": "True",
         "hovertemplate": "urun_ad=%{x}<br>adet=%{y}<extra></extra>",
         "legendgroup": "SOGAN  ( Yeşil )",
         "marker": {
          "color": "#FFA15A",
          "pattern": {
           "shape": ""
          }
         },
         "name": "SOGAN  ( Yeşil )",
         "offsetgroup": "SOGAN  ( Yeşil )",
         "orientation": "v",
         "showlegend": true,
         "textposition": "auto",
         "type": "bar",
         "x": [
          "SOGAN  ( Yeşil )"
         ],
         "xaxis": "x",
         "y": [
          1270
         ],
         "yaxis": "y"
        },
        {
         "alignmentgroup": "True",
         "hovertemplate": "urun_ad=%{x}<br>adet=%{y}<extra></extra>",
         "legendgroup": "SOGAN (Göğer)",
         "marker": {
          "color": "#19d3f3",
          "pattern": {
           "shape": ""
          }
         },
         "name": "SOGAN (Göğer)",
         "offsetgroup": "SOGAN (Göğer)",
         "orientation": "v",
         "showlegend": true,
         "textposition": "auto",
         "type": "bar",
         "x": [
          "SOGAN (Göğer)"
         ],
         "xaxis": "x",
         "y": [
          182
         ],
         "yaxis": "y"
        },
        {
         "alignmentgroup": "True",
         "hovertemplate": "urun_ad=%{x}<br>adet=%{y}<extra></extra>",
         "legendgroup": "SOGAN (Kuru)",
         "marker": {
          "color": "#FF6692",
          "pattern": {
           "shape": ""
          }
         },
         "name": "SOGAN (Kuru)",
         "offsetgroup": "SOGAN (Kuru)",
         "orientation": "v",
         "showlegend": true,
         "textposition": "auto",
         "type": "bar",
         "x": [
          "SOGAN (Kuru)"
         ],
         "xaxis": "x",
         "y": [
          1394
         ],
         "yaxis": "y"
        },
        {
         "alignmentgroup": "True",
         "hovertemplate": "urun_ad=%{x}<br>adet=%{y}<extra></extra>",
         "legendgroup": "SOGAN (Kırmızı)",
         "marker": {
          "color": "#B6E880",
          "pattern": {
           "shape": ""
          }
         },
         "name": "SOGAN (Kırmızı)",
         "offsetgroup": "SOGAN (Kırmızı)",
         "orientation": "v",
         "showlegend": true,
         "textposition": "auto",
         "type": "bar",
         "x": [
          "SOGAN (Kırmızı)"
         ],
         "xaxis": "x",
         "y": [
          936
         ],
         "yaxis": "y"
        },
        {
         "alignmentgroup": "True",
         "hovertemplate": "urun_ad=%{x}<br>adet=%{y}<extra></extra>",
         "legendgroup": "SOĞAN (II)",
         "marker": {
          "color": "#FF97FF",
          "pattern": {
           "shape": ""
          }
         },
         "name": "SOĞAN (II)",
         "offsetgroup": "SOĞAN (II)",
         "orientation": "v",
         "showlegend": true,
         "textposition": "auto",
         "type": "bar",
         "x": [
          "SOĞAN (II)"
         ],
         "xaxis": "x",
         "y": [
          21
         ],
         "yaxis": "y"
        },
        {
         "alignmentgroup": "True",
         "hovertemplate": "urun_ad=%{x}<br>adet=%{y}<extra></extra>",
         "legendgroup": "TERE",
         "marker": {
          "color": "#FECB52",
          "pattern": {
           "shape": ""
          }
         },
         "name": "TERE",
         "offsetgroup": "TERE",
         "orientation": "v",
         "showlegend": true,
         "textposition": "auto",
         "type": "bar",
         "x": [
          "TERE"
         ],
         "xaxis": "x",
         "y": [
          1414
         ],
         "yaxis": "y"
        },
        {
         "alignmentgroup": "True",
         "hovertemplate": "urun_ad=%{x}<br>adet=%{y}<extra></extra>",
         "legendgroup": "TERMİYE",
         "marker": {
          "color": "#636efa",
          "pattern": {
           "shape": ""
          }
         },
         "name": "TERMİYE",
         "offsetgroup": "TERMİYE",
         "orientation": "v",
         "showlegend": true,
         "textposition": "auto",
         "type": "bar",
         "x": [
          "TERMİYE"
         ],
         "xaxis": "x",
         "y": [
          537
         ],
         "yaxis": "y"
        },
        {
         "alignmentgroup": "True",
         "hovertemplate": "urun_ad=%{x}<br>adet=%{y}<extra></extra>",
         "legendgroup": "TURP (  Muhtelif )",
         "marker": {
          "color": "#EF553B",
          "pattern": {
           "shape": ""
          }
         },
         "name": "TURP (  Muhtelif )",
         "offsetgroup": "TURP (  Muhtelif )",
         "orientation": "v",
         "showlegend": true,
         "textposition": "auto",
         "type": "bar",
         "x": [
          "TURP (  Muhtelif )"
         ],
         "xaxis": "x",
         "y": [
          1095
         ],
         "yaxis": "y"
        },
        {
         "alignmentgroup": "True",
         "hovertemplate": "urun_ad=%{x}<br>adet=%{y}<extra></extra>",
         "legendgroup": "TURP KIRMIZI (yerli)",
         "marker": {
          "color": "#00cc96",
          "pattern": {
           "shape": ""
          }
         },
         "name": "TURP KIRMIZI (yerli)",
         "offsetgroup": "TURP KIRMIZI (yerli)",
         "orientation": "v",
         "showlegend": true,
         "textposition": "auto",
         "type": "bar",
         "x": [
          "TURP KIRMIZI (yerli)"
         ],
         "xaxis": "x",
         "y": [
          24
         ],
         "yaxis": "y"
        },
        {
         "alignmentgroup": "True",
         "hovertemplate": "urun_ad=%{x}<br>adet=%{y}<extra></extra>",
         "legendgroup": "VİŞNE",
         "marker": {
          "color": "#ab63fa",
          "pattern": {
           "shape": ""
          }
         },
         "name": "VİŞNE",
         "offsetgroup": "VİŞNE",
         "orientation": "v",
         "showlegend": true,
         "textposition": "auto",
         "type": "bar",
         "x": [
          "VİŞNE"
         ],
         "xaxis": "x",
         "y": [
          8
         ],
         "yaxis": "y"
        },
        {
         "alignmentgroup": "True",
         "hovertemplate": "urun_ad=%{x}<br>adet=%{y}<extra></extra>",
         "legendgroup": "VİŞNE (yerli)",
         "marker": {
          "color": "#FFA15A",
          "pattern": {
           "shape": ""
          }
         },
         "name": "VİŞNE (yerli)",
         "offsetgroup": "VİŞNE (yerli)",
         "orientation": "v",
         "showlegend": true,
         "textposition": "auto",
         "type": "bar",
         "x": [
          "VİŞNE (yerli)"
         ],
         "xaxis": "x",
         "y": [
          172
         ],
         "yaxis": "y"
        },
        {
         "alignmentgroup": "True",
         "hovertemplate": "urun_ad=%{x}<br>adet=%{y}<extra></extra>",
         "legendgroup": "YENİ DÜNYA (Malta)",
         "marker": {
          "color": "#19d3f3",
          "pattern": {
           "shape": ""
          }
         },
         "name": "YENİ DÜNYA (Malta)",
         "offsetgroup": "YENİ DÜNYA (Malta)",
         "orientation": "v",
         "showlegend": true,
         "textposition": "auto",
         "type": "bar",
         "x": [
          "YENİ DÜNYA (Malta)"
         ],
         "xaxis": "x",
         "y": [
          358
         ],
         "yaxis": "y"
        },
        {
         "alignmentgroup": "True",
         "hovertemplate": "urun_ad=%{x}<br>adet=%{y}<extra></extra>",
         "legendgroup": "YER ELMASI",
         "marker": {
          "color": "#FF6692",
          "pattern": {
           "shape": ""
          }
         },
         "name": "YER ELMASI",
         "offsetgroup": "YER ELMASI",
         "orientation": "v",
         "showlegend": true,
         "textposition": "auto",
         "type": "bar",
         "x": [
          "YER ELMASI"
         ],
         "xaxis": "x",
         "y": [
          406
         ],
         "yaxis": "y"
        },
        {
         "alignmentgroup": "True",
         "hovertemplate": "urun_ad=%{x}<br>adet=%{y}<extra></extra>",
         "legendgroup": "ZENCEFİL (Taze )",
         "marker": {
          "color": "#B6E880",
          "pattern": {
           "shape": ""
          }
         },
         "name": "ZENCEFİL (Taze )",
         "offsetgroup": "ZENCEFİL (Taze )",
         "orientation": "v",
         "showlegend": true,
         "textposition": "auto",
         "type": "bar",
         "x": [
          "ZENCEFİL (Taze )"
         ],
         "xaxis": "x",
         "y": [
          347
         ],
         "yaxis": "y"
        },
        {
         "alignmentgroup": "True",
         "hovertemplate": "urun_ad=%{x}<br>adet=%{y}<extra></extra>",
         "legendgroup": "soğan yeşil (yerli)",
         "marker": {
          "color": "#FF97FF",
          "pattern": {
           "shape": ""
          }
         },
         "name": "soğan yeşil (yerli)",
         "offsetgroup": "soğan yeşil (yerli)",
         "orientation": "v",
         "showlegend": true,
         "textposition": "auto",
         "type": "bar",
         "x": [
          "soğan yeşil (yerli)"
         ],
         "xaxis": "x",
         "y": [
          74
         ],
         "yaxis": "y"
        },
        {
         "alignmentgroup": "True",
         "hovertemplate": "urun_ad=%{x}<br>adet=%{y}<extra></extra>",
         "legendgroup": "ÇAĞLA",
         "marker": {
          "color": "#FECB52",
          "pattern": {
           "shape": ""
          }
         },
         "name": "ÇAĞLA",
         "offsetgroup": "ÇAĞLA",
         "orientation": "v",
         "showlegend": true,
         "textposition": "auto",
         "type": "bar",
         "x": [
          "ÇAĞLA"
         ],
         "xaxis": "x",
         "y": [
          104
         ],
         "yaxis": "y"
        },
        {
         "alignmentgroup": "True",
         "hovertemplate": "urun_ad=%{x}<br>adet=%{y}<extra></extra>",
         "legendgroup": "ÇİLEK",
         "marker": {
          "color": "#636efa",
          "pattern": {
           "shape": ""
          }
         },
         "name": "ÇİLEK",
         "offsetgroup": "ÇİLEK",
         "orientation": "v",
         "showlegend": true,
         "textposition": "auto",
         "type": "bar",
         "x": [
          "ÇİLEK"
         ],
         "xaxis": "x",
         "y": [
          1633
         ],
         "yaxis": "y"
        },
        {
         "alignmentgroup": "True",
         "hovertemplate": "urun_ad=%{x}<br>adet=%{y}<extra></extra>",
         "legendgroup": "ÜZÜM (Muhtelif)",
         "marker": {
          "color": "#EF553B",
          "pattern": {
           "shape": ""
          }
         },
         "name": "ÜZÜM (Muhtelif)",
         "offsetgroup": "ÜZÜM (Muhtelif)",
         "orientation": "v",
         "showlegend": true,
         "textposition": "auto",
         "type": "bar",
         "x": [
          "ÜZÜM (Muhtelif)"
         ],
         "xaxis": "x",
         "y": [
          1330
         ],
         "yaxis": "y"
        },
        {
         "alignmentgroup": "True",
         "hovertemplate": "urun_ad=%{x}<br>adet=%{y}<extra></extra>",
         "legendgroup": "ÜZÜM (Siyah)",
         "marker": {
          "color": "#00cc96",
          "pattern": {
           "shape": ""
          }
         },
         "name": "ÜZÜM (Siyah)",
         "offsetgroup": "ÜZÜM (Siyah)",
         "orientation": "v",
         "showlegend": true,
         "textposition": "auto",
         "type": "bar",
         "x": [
          "ÜZÜM (Siyah)"
         ],
         "xaxis": "x",
         "y": [
          519
         ],
         "yaxis": "y"
        },
        {
         "alignmentgroup": "True",
         "hovertemplate": "urun_ad=%{x}<br>adet=%{y}<extra></extra>",
         "legendgroup": "ÜZÜM (Çekirdeksiz)",
         "marker": {
          "color": "#ab63fa",
          "pattern": {
           "shape": ""
          }
         },
         "name": "ÜZÜM (Çekirdeksiz)",
         "offsetgroup": "ÜZÜM (Çekirdeksiz)",
         "orientation": "v",
         "showlegend": true,
         "textposition": "auto",
         "type": "bar",
         "x": [
          "ÜZÜM (Çekirdeksiz)"
         ],
         "xaxis": "x",
         "y": [
          618
         ],
         "yaxis": "y"
        },
        {
         "alignmentgroup": "True",
         "hovertemplate": "urun_ad=%{x}<br>adet=%{y}<extra></extra>",
         "legendgroup": "İNCİR ( Beyaz )",
         "marker": {
          "color": "#FFA15A",
          "pattern": {
           "shape": ""
          }
         },
         "name": "İNCİR ( Beyaz )",
         "offsetgroup": "İNCİR ( Beyaz )",
         "orientation": "v",
         "showlegend": true,
         "textposition": "auto",
         "type": "bar",
         "x": [
          "İNCİR ( Beyaz )"
         ],
         "xaxis": "x",
         "y": [
          522
         ],
         "yaxis": "y"
        },
        {
         "alignmentgroup": "True",
         "hovertemplate": "urun_ad=%{x}<br>adet=%{y}<extra></extra>",
         "legendgroup": "İNCİR ( Siyah )",
         "marker": {
          "color": "#19d3f3",
          "pattern": {
           "shape": ""
          }
         },
         "name": "İNCİR ( Siyah )",
         "offsetgroup": "İNCİR ( Siyah )",
         "orientation": "v",
         "showlegend": true,
         "textposition": "auto",
         "type": "bar",
         "x": [
          "İNCİR ( Siyah )"
         ],
         "xaxis": "x",
         "y": [
          15
         ],
         "yaxis": "y"
        },
        {
         "alignmentgroup": "True",
         "hovertemplate": "urun_ad=%{x}<br>adet=%{y}<extra></extra>",
         "legendgroup": "ŞEFTALİ (Muhtelif)",
         "marker": {
          "color": "#FF6692",
          "pattern": {
           "shape": ""
          }
         },
         "name": "ŞEFTALİ (Muhtelif)",
         "offsetgroup": "ŞEFTALİ (Muhtelif)",
         "orientation": "v",
         "showlegend": true,
         "textposition": "auto",
         "type": "bar",
         "x": [
          "ŞEFTALİ (Muhtelif)"
         ],
         "xaxis": "x",
         "y": [
          718
         ],
         "yaxis": "y"
        },
        {
         "alignmentgroup": "True",
         "hovertemplate": "urun_ad=%{x}<br>adet=%{y}<extra></extra>",
         "legendgroup": "ŞEFTALİ (Nektari)",
         "marker": {
          "color": "#B6E880",
          "pattern": {
           "shape": ""
          }
         },
         "name": "ŞEFTALİ (Nektari)",
         "offsetgroup": "ŞEFTALİ (Nektari)",
         "orientation": "v",
         "showlegend": true,
         "textposition": "auto",
         "type": "bar",
         "x": [
          "ŞEFTALİ (Nektari)"
         ],
         "xaxis": "x",
         "y": [
          579
         ],
         "yaxis": "y"
        },
        {
         "alignmentgroup": "True",
         "hovertemplate": "urun_ad=%{x}<br>adet=%{y}<extra></extra>",
         "legendgroup": "ŞEFTALİ YERLİ",
         "marker": {
          "color": "#FF97FF",
          "pattern": {
           "shape": ""
          }
         },
         "name": "ŞEFTALİ YERLİ",
         "offsetgroup": "ŞEFTALİ YERLİ",
         "orientation": "v",
         "showlegend": true,
         "textposition": "auto",
         "type": "bar",
         "x": [
          "ŞEFTALİ YERLİ"
         ],
         "xaxis": "x",
         "y": [
          2
         ],
         "yaxis": "y"
        }
       ],
       "layout": {
        "barmode": "relative",
        "legend": {
         "title": {
          "text": "urun_ad"
         },
         "tracegroupgap": 0
        },
        "template": {
         "data": {
          "bar": [
           {
            "error_x": {
             "color": "#2a3f5f"
            },
            "error_y": {
             "color": "#2a3f5f"
            },
            "marker": {
             "line": {
              "color": "#E5ECF6",
              "width": 0.5
             },
             "pattern": {
              "fillmode": "overlay",
              "size": 10,
              "solidity": 0.2
             }
            },
            "type": "bar"
           }
          ],
          "barpolar": [
           {
            "marker": {
             "line": {
              "color": "#E5ECF6",
              "width": 0.5
             },
             "pattern": {
              "fillmode": "overlay",
              "size": 10,
              "solidity": 0.2
             }
            },
            "type": "barpolar"
           }
          ],
          "carpet": [
           {
            "aaxis": {
             "endlinecolor": "#2a3f5f",
             "gridcolor": "white",
             "linecolor": "white",
             "minorgridcolor": "white",
             "startlinecolor": "#2a3f5f"
            },
            "baxis": {
             "endlinecolor": "#2a3f5f",
             "gridcolor": "white",
             "linecolor": "white",
             "minorgridcolor": "white",
             "startlinecolor": "#2a3f5f"
            },
            "type": "carpet"
           }
          ],
          "choropleth": [
           {
            "colorbar": {
             "outlinewidth": 0,
             "ticks": ""
            },
            "type": "choropleth"
           }
          ],
          "contour": [
           {
            "colorbar": {
             "outlinewidth": 0,
             "ticks": ""
            },
            "colorscale": [
             [
              0,
              "#0d0887"
             ],
             [
              0.1111111111111111,
              "#46039f"
             ],
             [
              0.2222222222222222,
              "#7201a8"
             ],
             [
              0.3333333333333333,
              "#9c179e"
             ],
             [
              0.4444444444444444,
              "#bd3786"
             ],
             [
              0.5555555555555556,
              "#d8576b"
             ],
             [
              0.6666666666666666,
              "#ed7953"
             ],
             [
              0.7777777777777778,
              "#fb9f3a"
             ],
             [
              0.8888888888888888,
              "#fdca26"
             ],
             [
              1,
              "#f0f921"
             ]
            ],
            "type": "contour"
           }
          ],
          "contourcarpet": [
           {
            "colorbar": {
             "outlinewidth": 0,
             "ticks": ""
            },
            "type": "contourcarpet"
           }
          ],
          "heatmap": [
           {
            "colorbar": {
             "outlinewidth": 0,
             "ticks": ""
            },
            "colorscale": [
             [
              0,
              "#0d0887"
             ],
             [
              0.1111111111111111,
              "#46039f"
             ],
             [
              0.2222222222222222,
              "#7201a8"
             ],
             [
              0.3333333333333333,
              "#9c179e"
             ],
             [
              0.4444444444444444,
              "#bd3786"
             ],
             [
              0.5555555555555556,
              "#d8576b"
             ],
             [
              0.6666666666666666,
              "#ed7953"
             ],
             [
              0.7777777777777778,
              "#fb9f3a"
             ],
             [
              0.8888888888888888,
              "#fdca26"
             ],
             [
              1,
              "#f0f921"
             ]
            ],
            "type": "heatmap"
           }
          ],
          "heatmapgl": [
           {
            "colorbar": {
             "outlinewidth": 0,
             "ticks": ""
            },
            "colorscale": [
             [
              0,
              "#0d0887"
             ],
             [
              0.1111111111111111,
              "#46039f"
             ],
             [
              0.2222222222222222,
              "#7201a8"
             ],
             [
              0.3333333333333333,
              "#9c179e"
             ],
             [
              0.4444444444444444,
              "#bd3786"
             ],
             [
              0.5555555555555556,
              "#d8576b"
             ],
             [
              0.6666666666666666,
              "#ed7953"
             ],
             [
              0.7777777777777778,
              "#fb9f3a"
             ],
             [
              0.8888888888888888,
              "#fdca26"
             ],
             [
              1,
              "#f0f921"
             ]
            ],
            "type": "heatmapgl"
           }
          ],
          "histogram": [
           {
            "marker": {
             "pattern": {
              "fillmode": "overlay",
              "size": 10,
              "solidity": 0.2
             }
            },
            "type": "histogram"
           }
          ],
          "histogram2d": [
           {
            "colorbar": {
             "outlinewidth": 0,
             "ticks": ""
            },
            "colorscale": [
             [
              0,
              "#0d0887"
             ],
             [
              0.1111111111111111,
              "#46039f"
             ],
             [
              0.2222222222222222,
              "#7201a8"
             ],
             [
              0.3333333333333333,
              "#9c179e"
             ],
             [
              0.4444444444444444,
              "#bd3786"
             ],
             [
              0.5555555555555556,
              "#d8576b"
             ],
             [
              0.6666666666666666,
              "#ed7953"
             ],
             [
              0.7777777777777778,
              "#fb9f3a"
             ],
             [
              0.8888888888888888,
              "#fdca26"
             ],
             [
              1,
              "#f0f921"
             ]
            ],
            "type": "histogram2d"
           }
          ],
          "histogram2dcontour": [
           {
            "colorbar": {
             "outlinewidth": 0,
             "ticks": ""
            },
            "colorscale": [
             [
              0,
              "#0d0887"
             ],
             [
              0.1111111111111111,
              "#46039f"
             ],
             [
              0.2222222222222222,
              "#7201a8"
             ],
             [
              0.3333333333333333,
              "#9c179e"
             ],
             [
              0.4444444444444444,
              "#bd3786"
             ],
             [
              0.5555555555555556,
              "#d8576b"
             ],
             [
              0.6666666666666666,
              "#ed7953"
             ],
             [
              0.7777777777777778,
              "#fb9f3a"
             ],
             [
              0.8888888888888888,
              "#fdca26"
             ],
             [
              1,
              "#f0f921"
             ]
            ],
            "type": "histogram2dcontour"
           }
          ],
          "mesh3d": [
           {
            "colorbar": {
             "outlinewidth": 0,
             "ticks": ""
            },
            "type": "mesh3d"
           }
          ],
          "parcoords": [
           {
            "line": {
             "colorbar": {
              "outlinewidth": 0,
              "ticks": ""
             }
            },
            "type": "parcoords"
           }
          ],
          "pie": [
           {
            "automargin": true,
            "type": "pie"
           }
          ],
          "scatter": [
           {
            "fillpattern": {
             "fillmode": "overlay",
             "size": 10,
             "solidity": 0.2
            },
            "type": "scatter"
           }
          ],
          "scatter3d": [
           {
            "line": {
             "colorbar": {
              "outlinewidth": 0,
              "ticks": ""
             }
            },
            "marker": {
             "colorbar": {
              "outlinewidth": 0,
              "ticks": ""
             }
            },
            "type": "scatter3d"
           }
          ],
          "scattercarpet": [
           {
            "marker": {
             "colorbar": {
              "outlinewidth": 0,
              "ticks": ""
             }
            },
            "type": "scattercarpet"
           }
          ],
          "scattergeo": [
           {
            "marker": {
             "colorbar": {
              "outlinewidth": 0,
              "ticks": ""
             }
            },
            "type": "scattergeo"
           }
          ],
          "scattergl": [
           {
            "marker": {
             "colorbar": {
              "outlinewidth": 0,
              "ticks": ""
             }
            },
            "type": "scattergl"
           }
          ],
          "scattermapbox": [
           {
            "marker": {
             "colorbar": {
              "outlinewidth": 0,
              "ticks": ""
             }
            },
            "type": "scattermapbox"
           }
          ],
          "scatterpolar": [
           {
            "marker": {
             "colorbar": {
              "outlinewidth": 0,
              "ticks": ""
             }
            },
            "type": "scatterpolar"
           }
          ],
          "scatterpolargl": [
           {
            "marker": {
             "colorbar": {
              "outlinewidth": 0,
              "ticks": ""
             }
            },
            "type": "scatterpolargl"
           }
          ],
          "scatterternary": [
           {
            "marker": {
             "colorbar": {
              "outlinewidth": 0,
              "ticks": ""
             }
            },
            "type": "scatterternary"
           }
          ],
          "surface": [
           {
            "colorbar": {
             "outlinewidth": 0,
             "ticks": ""
            },
            "colorscale": [
             [
              0,
              "#0d0887"
             ],
             [
              0.1111111111111111,
              "#46039f"
             ],
             [
              0.2222222222222222,
              "#7201a8"
             ],
             [
              0.3333333333333333,
              "#9c179e"
             ],
             [
              0.4444444444444444,
              "#bd3786"
             ],
             [
              0.5555555555555556,
              "#d8576b"
             ],
             [
              0.6666666666666666,
              "#ed7953"
             ],
             [
              0.7777777777777778,
              "#fb9f3a"
             ],
             [
              0.8888888888888888,
              "#fdca26"
             ],
             [
              1,
              "#f0f921"
             ]
            ],
            "type": "surface"
           }
          ],
          "table": [
           {
            "cells": {
             "fill": {
              "color": "#EBF0F8"
             },
             "line": {
              "color": "white"
             }
            },
            "header": {
             "fill": {
              "color": "#C8D4E3"
             },
             "line": {
              "color": "white"
             }
            },
            "type": "table"
           }
          ]
         },
         "layout": {
          "annotationdefaults": {
           "arrowcolor": "#2a3f5f",
           "arrowhead": 0,
           "arrowwidth": 1
          },
          "autotypenumbers": "strict",
          "coloraxis": {
           "colorbar": {
            "outlinewidth": 0,
            "ticks": ""
           }
          },
          "colorscale": {
           "diverging": [
            [
             0,
             "#8e0152"
            ],
            [
             0.1,
             "#c51b7d"
            ],
            [
             0.2,
             "#de77ae"
            ],
            [
             0.3,
             "#f1b6da"
            ],
            [
             0.4,
             "#fde0ef"
            ],
            [
             0.5,
             "#f7f7f7"
            ],
            [
             0.6,
             "#e6f5d0"
            ],
            [
             0.7,
             "#b8e186"
            ],
            [
             0.8,
             "#7fbc41"
            ],
            [
             0.9,
             "#4d9221"
            ],
            [
             1,
             "#276419"
            ]
           ],
           "sequential": [
            [
             0,
             "#0d0887"
            ],
            [
             0.1111111111111111,
             "#46039f"
            ],
            [
             0.2222222222222222,
             "#7201a8"
            ],
            [
             0.3333333333333333,
             "#9c179e"
            ],
            [
             0.4444444444444444,
             "#bd3786"
            ],
            [
             0.5555555555555556,
             "#d8576b"
            ],
            [
             0.6666666666666666,
             "#ed7953"
            ],
            [
             0.7777777777777778,
             "#fb9f3a"
            ],
            [
             0.8888888888888888,
             "#fdca26"
            ],
            [
             1,
             "#f0f921"
            ]
           ],
           "sequentialminus": [
            [
             0,
             "#0d0887"
            ],
            [
             0.1111111111111111,
             "#46039f"
            ],
            [
             0.2222222222222222,
             "#7201a8"
            ],
            [
             0.3333333333333333,
             "#9c179e"
            ],
            [
             0.4444444444444444,
             "#bd3786"
            ],
            [
             0.5555555555555556,
             "#d8576b"
            ],
            [
             0.6666666666666666,
             "#ed7953"
            ],
            [
             0.7777777777777778,
             "#fb9f3a"
            ],
            [
             0.8888888888888888,
             "#fdca26"
            ],
            [
             1,
             "#f0f921"
            ]
           ]
          },
          "colorway": [
           "#636efa",
           "#EF553B",
           "#00cc96",
           "#ab63fa",
           "#FFA15A",
           "#19d3f3",
           "#FF6692",
           "#B6E880",
           "#FF97FF",
           "#FECB52"
          ],
          "font": {
           "color": "#2a3f5f"
          },
          "geo": {
           "bgcolor": "white",
           "lakecolor": "white",
           "landcolor": "#E5ECF6",
           "showlakes": true,
           "showland": true,
           "subunitcolor": "white"
          },
          "hoverlabel": {
           "align": "left"
          },
          "hovermode": "closest",
          "mapbox": {
           "style": "light"
          },
          "paper_bgcolor": "white",
          "plot_bgcolor": "#E5ECF6",
          "polar": {
           "angularaxis": {
            "gridcolor": "white",
            "linecolor": "white",
            "ticks": ""
           },
           "bgcolor": "#E5ECF6",
           "radialaxis": {
            "gridcolor": "white",
            "linecolor": "white",
            "ticks": ""
           }
          },
          "scene": {
           "xaxis": {
            "backgroundcolor": "#E5ECF6",
            "gridcolor": "white",
            "gridwidth": 2,
            "linecolor": "white",
            "showbackground": true,
            "ticks": "",
            "zerolinecolor": "white"
           },
           "yaxis": {
            "backgroundcolor": "#E5ECF6",
            "gridcolor": "white",
            "gridwidth": 2,
            "linecolor": "white",
            "showbackground": true,
            "ticks": "",
            "zerolinecolor": "white"
           },
           "zaxis": {
            "backgroundcolor": "#E5ECF6",
            "gridcolor": "white",
            "gridwidth": 2,
            "linecolor": "white",
            "showbackground": true,
            "ticks": "",
            "zerolinecolor": "white"
           }
          },
          "shapedefaults": {
           "line": {
            "color": "#2a3f5f"
           }
          },
          "ternary": {
           "aaxis": {
            "gridcolor": "white",
            "linecolor": "white",
            "ticks": ""
           },
           "baxis": {
            "gridcolor": "white",
            "linecolor": "white",
            "ticks": ""
           },
           "bgcolor": "#E5ECF6",
           "caxis": {
            "gridcolor": "white",
            "linecolor": "white",
            "ticks": ""
           }
          },
          "title": {
           "x": 0.05
          },
          "xaxis": {
           "automargin": true,
           "gridcolor": "white",
           "linecolor": "white",
           "ticks": "",
           "title": {
            "standoff": 15
           },
           "zerolinecolor": "white",
           "zerolinewidth": 2
          },
          "yaxis": {
           "automargin": true,
           "gridcolor": "white",
           "linecolor": "white",
           "ticks": "",
           "title": {
            "standoff": 15
           },
           "zerolinecolor": "white",
           "zerolinewidth": 2
          }
         }
        },
        "title": {
         "text": "Ürün Adlarına Göre Adetler"
        },
        "xaxis": {
         "anchor": "y",
         "categoryarray": [
          "ANANAS",
          "ARMUT (Deveci)",
          "ARMUT (Muhtelif)",
          "ARMUT (Santa Marina)",
          "ARMUT( Ankara )",
          "ASMA YAPRAĞI",
          "AVAKADO",
          "AYVA",
          "BAKLA",
          "BAMYA",
          "BARBUNYA",
          "BEZELYE (Araka)",
          "BROKOLİ",
          "BİBER (Cin)",
          "BİBER (Dolma)",
          "BİBER (II)",
          "BİBER (Köy)",
          "BİBER (Kıl)",
          "BİBER (Sivri)",
          "BİBER (Çarli)",
          "BİBER Dolma (Yerli)",
          "BİBER Kıl (Yerli)",
          "BİBER Salçalık (Kapya)",
          "BİBER Sivri (Yerli)",
          "BİBER Çarli (Yerli)",
          "CEVİZ",
          "DERE OTU (Bağ)",
          "DOMATES (II)",
          "DOMATES (Muhtelif)",
          "DOMATES (Salkım Kutu)",
          "DOMATES (Salkım)",
          "DOMATES (Salçalık)",
          "DOMATES (Yerli)",
          "DOMATES (köy)",
          "DOMATES (Çeri)",
          "DUT",
          "Domates 2",
          "EKŞİ OT (Bağ)",
          "ELMA (Amasya)",
          "ELMA (Arjantin)",
          "ELMA (Golden)",
          "ELMA (Granny Smith)",
          "ELMA (II)",
          "ELMA (Muhtelif)",
          "ELMA (Starking)",
          "ELMA (YERLİ) Muhtelif",
          "ELMA (YEŞİL)",
          "ELMA (İthal)",
          "ENGİNAR(Adet)",
          "ERİK ( Anjelika )",
          "ERİK (Can-Papaz)",
          "ERİK (Freze)",
          "ERİK (Muhtelif)",
          "FASULYE (Muhtelif)",
          "FASULYE (Yerli)",
          "FESLEĞEN(REYHAN)Bağ",
          "FINDIK TAZE",
          "GREYFURT",
          "HAVUÇ",
          "HIRTLAK",
          "HURMA ( Cennet )",
          "HİNDİSTAN CEVİZİ(Adet)",
          "ISPANAK",
          "KABAK (Bal)",
          "KABAK (Beyaz)",
          "KABAK (Kara)",
          "KABAK (Yerli)",
          "KARNABAHAR",
          "KARPUZ (Muhtelif)",
          "KARPUZ (İthal)",
          "KAVUN (Muhtelif)",
          "KAVUN (İthal)",
          "KAYISI (Muhtelif)",
          "KAYISI (Yerli)",
          "KEREVİZ",
          "KESTANE ",
          "KIZILCIK",
          "KİRAZ (Beyaz)",
          "KİRAZ (Muhtelif)",
          "KİRAZ (Napolyon )",
          "KİRAZ (Yerli)",
          "KİVİ",
          "KİVİ (İthal )",
          "LAHANA (Beyaz)",
          "LAHANA (Bürüksel)",
          "LAHANA (Mor)",
          "LİMON",
          "LİMON (File )",
          "LİMON (II)",
          "LİMON(yatak)",
          "MANDALİN (II)",
          "MANDALİN (King)",
          "MANDALİN (Muhtelif)",
          "MANDALİNA (satsuma)",
          "MANTAR (Kültür)",
          "MARUL (Aysberk)Adet",
          "MARUL (Mor)Adet",
          "MARUL (Muhtelif)Adet",
          "MARUL (Yerli)Adet",
          "MAYDONOZ (Bağ)",
          "MAYDONOZ (Yerli) Bağ",
          "MISIR (Taze)Adet",
          "MUZ (Yerli)",
          "MUZ (İthal)",
          "MUŞMULA (Döngel)",
          "NANE(Bağ)",
          "NAR ( Muhtelif )",
          "NAR çekirdeksiz",
          "NEKTARİ",
          "NOHUT (Taze)",
          "PANCAR (Kırmızı)",
          "PATATES",
          "PATATES ( 2.)",
          "PATATES (taze)",
          "PATLICAN (Kemer)",
          "PATLICAN (Topak)",
          "PATLICAN (Yerli)",
          "PAZI",
          "PIRASA",
          "PORTAKAL (Finike)",
          "PORTAKAL (II)",
          "PORTAKAL (Muhtelif)",
          "PORTAKAL (Sıkmalık )",
          "PORTAKAL (Washington)",
          "ROKA(Bağ)",
          "SALATALIK (II)",
          "SALATALIK (Kornişon)",
          "SALATALIK (Muhtelif)",
          "SALATALIK (Silor)",
          "SALATALIK (Yerli)",
          "SARIMSAK (Kuru)",
          "SARIMSAK (Taze)",
          "SEMİZ OTU(Bağ)",
          "SEMİZ OTU(Bağ) yerli",
          "SOGAN  ( Yeşil )",
          "SOGAN (Göğer)",
          "SOGAN (Kuru)",
          "SOGAN (Kırmızı)",
          "SOĞAN (II)",
          "TERE",
          "TERMİYE",
          "TURP (  Muhtelif )",
          "TURP KIRMIZI (yerli)",
          "VİŞNE",
          "VİŞNE (yerli)",
          "YENİ DÜNYA (Malta)",
          "YER ELMASI",
          "ZENCEFİL (Taze )",
          "soğan yeşil (yerli)",
          "ÇAĞLA",
          "ÇİLEK",
          "ÜZÜM (Muhtelif)",
          "ÜZÜM (Siyah)",
          "ÜZÜM (Çekirdeksiz)",
          "İNCİR ( Beyaz )",
          "İNCİR ( Siyah )",
          "ŞEFTALİ (Muhtelif)",
          "ŞEFTALİ (Nektari)",
          "ŞEFTALİ YERLİ"
         ],
         "categoryorder": "array",
         "domain": [
          0,
          1
         ],
         "title": {
          "text": "urun_ad"
         }
        },
        "yaxis": {
         "anchor": "x",
         "domain": [
          0,
          1
         ],
         "title": {
          "text": "adet"
         }
        }
       }
      }
     },
     "metadata": {},
     "output_type": "display_data"
    }
   ],
   "source": [
    "# Gruplama ve ortalama hesaplama işlemi\n",
    "sonuclar = hal.groupby('urun_ad').agg({'urun_ad': 'count', 'ortalama_fiyat': 'mean'})\n",
    "\n",
    "# Sütun adlarını düzenleyelim\n",
    "sonuclar.columns = ['adet', 'ortalama_fiyat']\n",
    "\n",
    "# 'urun_ad' sütununu da ekleyelim\n",
    "sonuclar['urun_ad'] = sonuclar.index\n",
    "\n",
    "# Sıralama için indeksi sıfırlayalım\n",
    "sonuclar.reset_index(drop=True, inplace=True)\n",
    "\n",
    "# Sütunları yeniden düzenleyelim\n",
    "sonuclar = sonuclar[['urun_ad', 'adet', 'ortalama_fiyat']]\n",
    "\n",
    "# Çubuk grafiği oluşturalım\n",
    "fig = px.bar(sonuclar, x='urun_ad', y='adet', color='urun_ad', title='Ürün Adlarına Göre Adetler')\n",
    "\n",
    "\n",
    "fig.show()\n",
    "# fig.write_image('urun_adlarina_gore_adet_grafigi.png')"
   ]
  },
  {
   "cell_type": "markdown",
   "metadata": {},
   "source": [
    "1000 ADET USTU OLAN VERILERI GOSTER"
   ]
  },
  {
   "cell_type": "code",
   "execution_count": null,
   "metadata": {},
   "outputs": [
    {
     "data": {
      "application/vnd.plotly.v1+json": {
       "config": {
        "plotlyServerURL": "https://plot.ly"
       },
       "data": [
        {
         "alignmentgroup": "True",
         "hovertemplate": "urun_ad=%{x}<br>adet=%{y}<extra></extra>",
         "legendgroup": "ARMUT( Ankara )",
         "marker": {
          "color": "#636efa",
          "pattern": {
           "shape": ""
          }
         },
         "name": "ARMUT( Ankara )",
         "offsetgroup": "ARMUT( Ankara )",
         "orientation": "v",
         "showlegend": true,
         "textposition": "auto",
         "type": "bar",
         "x": [
          "ARMUT( Ankara )"
         ],
         "xaxis": "x",
         "y": [
          1574
         ],
         "yaxis": "y"
        },
        {
         "alignmentgroup": "True",
         "hovertemplate": "urun_ad=%{x}<br>adet=%{y}<extra></extra>",
         "legendgroup": "AVAKADO",
         "marker": {
          "color": "#EF553B",
          "pattern": {
           "shape": ""
          }
         },
         "name": "AVAKADO",
         "offsetgroup": "AVAKADO",
         "orientation": "v",
         "showlegend": true,
         "textposition": "auto",
         "type": "bar",
         "x": [
          "AVAKADO"
         ],
         "xaxis": "x",
         "y": [
          1606
         ],
         "yaxis": "y"
        },
        {
         "alignmentgroup": "True",
         "hovertemplate": "urun_ad=%{x}<br>adet=%{y}<extra></extra>",
         "legendgroup": "AYVA",
         "marker": {
          "color": "#00cc96",
          "pattern": {
           "shape": ""
          }
         },
         "name": "AYVA",
         "offsetgroup": "AYVA",
         "orientation": "v",
         "showlegend": true,
         "textposition": "auto",
         "type": "bar",
         "x": [
          "AYVA"
         ],
         "xaxis": "x",
         "y": [
          1145
         ],
         "yaxis": "y"
        },
        {
         "alignmentgroup": "True",
         "hovertemplate": "urun_ad=%{x}<br>adet=%{y}<extra></extra>",
         "legendgroup": "BROKOLİ",
         "marker": {
          "color": "#ab63fa",
          "pattern": {
           "shape": ""
          }
         },
         "name": "BROKOLİ",
         "offsetgroup": "BROKOLİ",
         "orientation": "v",
         "showlegend": true,
         "textposition": "auto",
         "type": "bar",
         "x": [
          "BROKOLİ"
         ],
         "xaxis": "x",
         "y": [
          1645
         ],
         "yaxis": "y"
        },
        {
         "alignmentgroup": "True",
         "hovertemplate": "urun_ad=%{x}<br>adet=%{y}<extra></extra>",
         "legendgroup": "BİBER (Cin)",
         "marker": {
          "color": "#FFA15A",
          "pattern": {
           "shape": ""
          }
         },
         "name": "BİBER (Cin)",
         "offsetgroup": "BİBER (Cin)",
         "orientation": "v",
         "showlegend": true,
         "textposition": "auto",
         "type": "bar",
         "x": [
          "BİBER (Cin)"
         ],
         "xaxis": "x",
         "y": [
          1463
         ],
         "yaxis": "y"
        },
        {
         "alignmentgroup": "True",
         "hovertemplate": "urun_ad=%{x}<br>adet=%{y}<extra></extra>",
         "legendgroup": "BİBER (Dolma)",
         "marker": {
          "color": "#19d3f3",
          "pattern": {
           "shape": ""
          }
         },
         "name": "BİBER (Dolma)",
         "offsetgroup": "BİBER (Dolma)",
         "orientation": "v",
         "showlegend": true,
         "textposition": "auto",
         "type": "bar",
         "x": [
          "BİBER (Dolma)"
         ],
         "xaxis": "x",
         "y": [
          1752
         ],
         "yaxis": "y"
        },
        {
         "alignmentgroup": "True",
         "hovertemplate": "urun_ad=%{x}<br>adet=%{y}<extra></extra>",
         "legendgroup": "BİBER (Kıl)",
         "marker": {
          "color": "#FF6692",
          "pattern": {
           "shape": ""
          }
         },
         "name": "BİBER (Kıl)",
         "offsetgroup": "BİBER (Kıl)",
         "orientation": "v",
         "showlegend": true,
         "textposition": "auto",
         "type": "bar",
         "x": [
          "BİBER (Kıl)"
         ],
         "xaxis": "x",
         "y": [
          1632
         ],
         "yaxis": "y"
        },
        {
         "alignmentgroup": "True",
         "hovertemplate": "urun_ad=%{x}<br>adet=%{y}<extra></extra>",
         "legendgroup": "BİBER (Sivri)",
         "marker": {
          "color": "#B6E880",
          "pattern": {
           "shape": ""
          }
         },
         "name": "BİBER (Sivri)",
         "offsetgroup": "BİBER (Sivri)",
         "orientation": "v",
         "showlegend": true,
         "textposition": "auto",
         "type": "bar",
         "x": [
          "BİBER (Sivri)"
         ],
         "xaxis": "x",
         "y": [
          1738
         ],
         "yaxis": "y"
        },
        {
         "alignmentgroup": "True",
         "hovertemplate": "urun_ad=%{x}<br>adet=%{y}<extra></extra>",
         "legendgroup": "BİBER (Çarli)",
         "marker": {
          "color": "#FF97FF",
          "pattern": {
           "shape": ""
          }
         },
         "name": "BİBER (Çarli)",
         "offsetgroup": "BİBER (Çarli)",
         "orientation": "v",
         "showlegend": true,
         "textposition": "auto",
         "type": "bar",
         "x": [
          "BİBER (Çarli)"
         ],
         "xaxis": "x",
         "y": [
          1749
         ],
         "yaxis": "y"
        },
        {
         "alignmentgroup": "True",
         "hovertemplate": "urun_ad=%{x}<br>adet=%{y}<extra></extra>",
         "legendgroup": "BİBER Salçalık (Kapya)",
         "marker": {
          "color": "#FECB52",
          "pattern": {
           "shape": ""
          }
         },
         "name": "BİBER Salçalık (Kapya)",
         "offsetgroup": "BİBER Salçalık (Kapya)",
         "orientation": "v",
         "showlegend": true,
         "textposition": "auto",
         "type": "bar",
         "x": [
          "BİBER Salçalık (Kapya)"
         ],
         "xaxis": "x",
         "y": [
          1680
         ],
         "yaxis": "y"
        },
        {
         "alignmentgroup": "True",
         "hovertemplate": "urun_ad=%{x}<br>adet=%{y}<extra></extra>",
         "legendgroup": "DERE OTU (Bağ)",
         "marker": {
          "color": "#636efa",
          "pattern": {
           "shape": ""
          }
         },
         "name": "DERE OTU (Bağ)",
         "offsetgroup": "DERE OTU (Bağ)",
         "orientation": "v",
         "showlegend": true,
         "textposition": "auto",
         "type": "bar",
         "x": [
          "DERE OTU (Bağ)"
         ],
         "xaxis": "x",
         "y": [
          1732
         ],
         "yaxis": "y"
        },
        {
         "alignmentgroup": "True",
         "hovertemplate": "urun_ad=%{x}<br>adet=%{y}<extra></extra>",
         "legendgroup": "DOMATES (Muhtelif)",
         "marker": {
          "color": "#EF553B",
          "pattern": {
           "shape": ""
          }
         },
         "name": "DOMATES (Muhtelif)",
         "offsetgroup": "DOMATES (Muhtelif)",
         "orientation": "v",
         "showlegend": true,
         "textposition": "auto",
         "type": "bar",
         "x": [
          "DOMATES (Muhtelif)"
         ],
         "xaxis": "x",
         "y": [
          1695
         ],
         "yaxis": "y"
        },
        {
         "alignmentgroup": "True",
         "hovertemplate": "urun_ad=%{x}<br>adet=%{y}<extra></extra>",
         "legendgroup": "DOMATES (Salkım)",
         "marker": {
          "color": "#00cc96",
          "pattern": {
           "shape": ""
          }
         },
         "name": "DOMATES (Salkım)",
         "offsetgroup": "DOMATES (Salkım)",
         "orientation": "v",
         "showlegend": true,
         "textposition": "auto",
         "type": "bar",
         "x": [
          "DOMATES (Salkım)"
         ],
         "xaxis": "x",
         "y": [
          1659
         ],
         "yaxis": "y"
        },
        {
         "alignmentgroup": "True",
         "hovertemplate": "urun_ad=%{x}<br>adet=%{y}<extra></extra>",
         "legendgroup": "DOMATES (Çeri)",
         "marker": {
          "color": "#ab63fa",
          "pattern": {
           "shape": ""
          }
         },
         "name": "DOMATES (Çeri)",
         "offsetgroup": "DOMATES (Çeri)",
         "orientation": "v",
         "showlegend": true,
         "textposition": "auto",
         "type": "bar",
         "x": [
          "DOMATES (Çeri)"
         ],
         "xaxis": "x",
         "y": [
          1374
         ],
         "yaxis": "y"
        },
        {
         "alignmentgroup": "True",
         "hovertemplate": "urun_ad=%{x}<br>adet=%{y}<extra></extra>",
         "legendgroup": "EKŞİ OT (Bağ)",
         "marker": {
          "color": "#FFA15A",
          "pattern": {
           "shape": ""
          }
         },
         "name": "EKŞİ OT (Bağ)",
         "offsetgroup": "EKŞİ OT (Bağ)",
         "orientation": "v",
         "showlegend": true,
         "textposition": "auto",
         "type": "bar",
         "x": [
          "EKŞİ OT (Bağ)"
         ],
         "xaxis": "x",
         "y": [
          1621
         ],
         "yaxis": "y"
        },
        {
         "alignmentgroup": "True",
         "hovertemplate": "urun_ad=%{x}<br>adet=%{y}<extra></extra>",
         "legendgroup": "ELMA (Golden)",
         "marker": {
          "color": "#19d3f3",
          "pattern": {
           "shape": ""
          }
         },
         "name": "ELMA (Golden)",
         "offsetgroup": "ELMA (Golden)",
         "orientation": "v",
         "showlegend": true,
         "textposition": "auto",
         "type": "bar",
         "x": [
          "ELMA (Golden)"
         ],
         "xaxis": "x",
         "y": [
          1139
         ],
         "yaxis": "y"
        },
        {
         "alignmentgroup": "True",
         "hovertemplate": "urun_ad=%{x}<br>adet=%{y}<extra></extra>",
         "legendgroup": "ELMA (Muhtelif)",
         "marker": {
          "color": "#FF6692",
          "pattern": {
           "shape": ""
          }
         },
         "name": "ELMA (Muhtelif)",
         "offsetgroup": "ELMA (Muhtelif)",
         "orientation": "v",
         "showlegend": true,
         "textposition": "auto",
         "type": "bar",
         "x": [
          "ELMA (Muhtelif)"
         ],
         "xaxis": "x",
         "y": [
          1705
         ],
         "yaxis": "y"
        },
        {
         "alignmentgroup": "True",
         "hovertemplate": "urun_ad=%{x}<br>adet=%{y}<extra></extra>",
         "legendgroup": "ELMA (Starking)",
         "marker": {
          "color": "#B6E880",
          "pattern": {
           "shape": ""
          }
         },
         "name": "ELMA (Starking)",
         "offsetgroup": "ELMA (Starking)",
         "orientation": "v",
         "showlegend": true,
         "textposition": "auto",
         "type": "bar",
         "x": [
          "ELMA (Starking)"
         ],
         "xaxis": "x",
         "y": [
          1152
         ],
         "yaxis": "y"
        },
        {
         "alignmentgroup": "True",
         "hovertemplate": "urun_ad=%{x}<br>adet=%{y}<extra></extra>",
         "legendgroup": "ERİK (Muhtelif)",
         "marker": {
          "color": "#FF97FF",
          "pattern": {
           "shape": ""
          }
         },
         "name": "ERİK (Muhtelif)",
         "offsetgroup": "ERİK (Muhtelif)",
         "orientation": "v",
         "showlegend": true,
         "textposition": "auto",
         "type": "bar",
         "x": [
          "ERİK (Muhtelif)"
         ],
         "xaxis": "x",
         "y": [
          1300
         ],
         "yaxis": "y"
        },
        {
         "alignmentgroup": "True",
         "hovertemplate": "urun_ad=%{x}<br>adet=%{y}<extra></extra>",
         "legendgroup": "FASULYE (Muhtelif)",
         "marker": {
          "color": "#FECB52",
          "pattern": {
           "shape": ""
          }
         },
         "name": "FASULYE (Muhtelif)",
         "offsetgroup": "FASULYE (Muhtelif)",
         "orientation": "v",
         "showlegend": true,
         "textposition": "auto",
         "type": "bar",
         "x": [
          "FASULYE (Muhtelif)"
         ],
         "xaxis": "x",
         "y": [
          1696
         ],
         "yaxis": "y"
        },
        {
         "alignmentgroup": "True",
         "hovertemplate": "urun_ad=%{x}<br>adet=%{y}<extra></extra>",
         "legendgroup": "FESLEĞEN(REYHAN)Bağ",
         "marker": {
          "color": "#636efa",
          "pattern": {
           "shape": ""
          }
         },
         "name": "FESLEĞEN(REYHAN)Bağ",
         "offsetgroup": "FESLEĞEN(REYHAN)Bağ",
         "orientation": "v",
         "showlegend": true,
         "textposition": "auto",
         "type": "bar",
         "x": [
          "FESLEĞEN(REYHAN)Bağ"
         ],
         "xaxis": "x",
         "y": [
          1482
         ],
         "yaxis": "y"
        },
        {
         "alignmentgroup": "True",
         "hovertemplate": "urun_ad=%{x}<br>adet=%{y}<extra></extra>",
         "legendgroup": "GREYFURT",
         "marker": {
          "color": "#EF553B",
          "pattern": {
           "shape": ""
          }
         },
         "name": "GREYFURT",
         "offsetgroup": "GREYFURT",
         "orientation": "v",
         "showlegend": true,
         "textposition": "auto",
         "type": "bar",
         "x": [
          "GREYFURT"
         ],
         "xaxis": "x",
         "y": [
          1352
         ],
         "yaxis": "y"
        },
        {
         "alignmentgroup": "True",
         "hovertemplate": "urun_ad=%{x}<br>adet=%{y}<extra></extra>",
         "legendgroup": "HAVUÇ",
         "marker": {
          "color": "#00cc96",
          "pattern": {
           "shape": ""
          }
         },
         "name": "HAVUÇ",
         "offsetgroup": "HAVUÇ",
         "orientation": "v",
         "showlegend": true,
         "textposition": "auto",
         "type": "bar",
         "x": [
          "HAVUÇ"
         ],
         "xaxis": "x",
         "y": [
          1705
         ],
         "yaxis": "y"
        },
        {
         "alignmentgroup": "True",
         "hovertemplate": "urun_ad=%{x}<br>adet=%{y}<extra></extra>",
         "legendgroup": "HİNDİSTAN CEVİZİ(Adet)",
         "marker": {
          "color": "#ab63fa",
          "pattern": {
           "shape": ""
          }
         },
         "name": "HİNDİSTAN CEVİZİ(Adet)",
         "offsetgroup": "HİNDİSTAN CEVİZİ(Adet)",
         "orientation": "v",
         "showlegend": true,
         "textposition": "auto",
         "type": "bar",
         "x": [
          "HİNDİSTAN CEVİZİ(Adet)"
         ],
         "xaxis": "x",
         "y": [
          1685
         ],
         "yaxis": "y"
        },
        {
         "alignmentgroup": "True",
         "hovertemplate": "urun_ad=%{x}<br>adet=%{y}<extra></extra>",
         "legendgroup": "ISPANAK",
         "marker": {
          "color": "#FFA15A",
          "pattern": {
           "shape": ""
          }
         },
         "name": "ISPANAK",
         "offsetgroup": "ISPANAK",
         "orientation": "v",
         "showlegend": true,
         "textposition": "auto",
         "type": "bar",
         "x": [
          "ISPANAK"
         ],
         "xaxis": "x",
         "y": [
          1743
         ],
         "yaxis": "y"
        },
        {
         "alignmentgroup": "True",
         "hovertemplate": "urun_ad=%{x}<br>adet=%{y}<extra></extra>",
         "legendgroup": "KABAK (Bal)",
         "marker": {
          "color": "#19d3f3",
          "pattern": {
           "shape": ""
          }
         },
         "name": "KABAK (Bal)",
         "offsetgroup": "KABAK (Bal)",
         "orientation": "v",
         "showlegend": true,
         "textposition": "auto",
         "type": "bar",
         "x": [
          "KABAK (Bal)"
         ],
         "xaxis": "x",
         "y": [
          1076
         ],
         "yaxis": "y"
        },
        {
         "alignmentgroup": "True",
         "hovertemplate": "urun_ad=%{x}<br>adet=%{y}<extra></extra>",
         "legendgroup": "KABAK (Beyaz)",
         "marker": {
          "color": "#FF6692",
          "pattern": {
           "shape": ""
          }
         },
         "name": "KABAK (Beyaz)",
         "offsetgroup": "KABAK (Beyaz)",
         "orientation": "v",
         "showlegend": true,
         "textposition": "auto",
         "type": "bar",
         "x": [
          "KABAK (Beyaz)"
         ],
         "xaxis": "x",
         "y": [
          1469
         ],
         "yaxis": "y"
        },
        {
         "alignmentgroup": "True",
         "hovertemplate": "urun_ad=%{x}<br>adet=%{y}<extra></extra>",
         "legendgroup": "KABAK (Kara)",
         "marker": {
          "color": "#B6E880",
          "pattern": {
           "shape": ""
          }
         },
         "name": "KABAK (Kara)",
         "offsetgroup": "KABAK (Kara)",
         "orientation": "v",
         "showlegend": true,
         "textposition": "auto",
         "type": "bar",
         "x": [
          "KABAK (Kara)"
         ],
         "xaxis": "x",
         "y": [
          1611
         ],
         "yaxis": "y"
        },
        {
         "alignmentgroup": "True",
         "hovertemplate": "urun_ad=%{x}<br>adet=%{y}<extra></extra>",
         "legendgroup": "KARNABAHAR",
         "marker": {
          "color": "#FF97FF",
          "pattern": {
           "shape": ""
          }
         },
         "name": "KARNABAHAR",
         "offsetgroup": "KARNABAHAR",
         "orientation": "v",
         "showlegend": true,
         "textposition": "auto",
         "type": "bar",
         "x": [
          "KARNABAHAR"
         ],
         "xaxis": "x",
         "y": [
          1654
         ],
         "yaxis": "y"
        },
        {
         "alignmentgroup": "True",
         "hovertemplate": "urun_ad=%{x}<br>adet=%{y}<extra></extra>",
         "legendgroup": "KARPUZ (Muhtelif)",
         "marker": {
          "color": "#FECB52",
          "pattern": {
           "shape": ""
          }
         },
         "name": "KARPUZ (Muhtelif)",
         "offsetgroup": "KARPUZ (Muhtelif)",
         "orientation": "v",
         "showlegend": true,
         "textposition": "auto",
         "type": "bar",
         "x": [
          "KARPUZ (Muhtelif)"
         ],
         "xaxis": "x",
         "y": [
          1266
         ],
         "yaxis": "y"
        },
        {
         "alignmentgroup": "True",
         "hovertemplate": "urun_ad=%{x}<br>adet=%{y}<extra></extra>",
         "legendgroup": "KAVUN (Muhtelif)",
         "marker": {
          "color": "#636efa",
          "pattern": {
           "shape": ""
          }
         },
         "name": "KAVUN (Muhtelif)",
         "offsetgroup": "KAVUN (Muhtelif)",
         "orientation": "v",
         "showlegend": true,
         "textposition": "auto",
         "type": "bar",
         "x": [
          "KAVUN (Muhtelif)"
         ],
         "xaxis": "x",
         "y": [
          1214
         ],
         "yaxis": "y"
        },
        {
         "alignmentgroup": "True",
         "hovertemplate": "urun_ad=%{x}<br>adet=%{y}<extra></extra>",
         "legendgroup": "KEREVİZ",
         "marker": {
          "color": "#EF553B",
          "pattern": {
           "shape": ""
          }
         },
         "name": "KEREVİZ",
         "offsetgroup": "KEREVİZ",
         "orientation": "v",
         "showlegend": true,
         "textposition": "auto",
         "type": "bar",
         "x": [
          "KEREVİZ"
         ],
         "xaxis": "x",
         "y": [
          1181
         ],
         "yaxis": "y"
        },
        {
         "alignmentgroup": "True",
         "hovertemplate": "urun_ad=%{x}<br>adet=%{y}<extra></extra>",
         "legendgroup": "KİVİ",
         "marker": {
          "color": "#00cc96",
          "pattern": {
           "shape": ""
          }
         },
         "name": "KİVİ",
         "offsetgroup": "KİVİ",
         "orientation": "v",
         "showlegend": true,
         "textposition": "auto",
         "type": "bar",
         "x": [
          "KİVİ"
         ],
         "xaxis": "x",
         "y": [
          1728
         ],
         "yaxis": "y"
        },
        {
         "alignmentgroup": "True",
         "hovertemplate": "urun_ad=%{x}<br>adet=%{y}<extra></extra>",
         "legendgroup": "LAHANA (Beyaz)",
         "marker": {
          "color": "#ab63fa",
          "pattern": {
           "shape": ""
          }
         },
         "name": "LAHANA (Beyaz)",
         "offsetgroup": "LAHANA (Beyaz)",
         "orientation": "v",
         "showlegend": true,
         "textposition": "auto",
         "type": "bar",
         "x": [
          "LAHANA (Beyaz)"
         ],
         "xaxis": "x",
         "y": [
          1723
         ],
         "yaxis": "y"
        },
        {
         "alignmentgroup": "True",
         "hovertemplate": "urun_ad=%{x}<br>adet=%{y}<extra></extra>",
         "legendgroup": "LAHANA (Mor)",
         "marker": {
          "color": "#FFA15A",
          "pattern": {
           "shape": ""
          }
         },
         "name": "LAHANA (Mor)",
         "offsetgroup": "LAHANA (Mor)",
         "orientation": "v",
         "showlegend": true,
         "textposition": "auto",
         "type": "bar",
         "x": [
          "LAHANA (Mor)"
         ],
         "xaxis": "x",
         "y": [
          1725
         ],
         "yaxis": "y"
        },
        {
         "alignmentgroup": "True",
         "hovertemplate": "urun_ad=%{x}<br>adet=%{y}<extra></extra>",
         "legendgroup": "MANTAR (Kültür)",
         "marker": {
          "color": "#19d3f3",
          "pattern": {
           "shape": ""
          }
         },
         "name": "MANTAR (Kültür)",
         "offsetgroup": "MANTAR (Kültür)",
         "orientation": "v",
         "showlegend": true,
         "textposition": "auto",
         "type": "bar",
         "x": [
          "MANTAR (Kültür)"
         ],
         "xaxis": "x",
         "y": [
          1693
         ],
         "yaxis": "y"
        },
        {
         "alignmentgroup": "True",
         "hovertemplate": "urun_ad=%{x}<br>adet=%{y}<extra></extra>",
         "legendgroup": "MARUL (Aysberk)Adet",
         "marker": {
          "color": "#FF6692",
          "pattern": {
           "shape": ""
          }
         },
         "name": "MARUL (Aysberk)Adet",
         "offsetgroup": "MARUL (Aysberk)Adet",
         "orientation": "v",
         "showlegend": true,
         "textposition": "auto",
         "type": "bar",
         "x": [
          "MARUL (Aysberk)Adet"
         ],
         "xaxis": "x",
         "y": [
          1639
         ],
         "yaxis": "y"
        },
        {
         "alignmentgroup": "True",
         "hovertemplate": "urun_ad=%{x}<br>adet=%{y}<extra></extra>",
         "legendgroup": "MARUL (Mor)Adet",
         "marker": {
          "color": "#B6E880",
          "pattern": {
           "shape": ""
          }
         },
         "name": "MARUL (Mor)Adet",
         "offsetgroup": "MARUL (Mor)Adet",
         "orientation": "v",
         "showlegend": true,
         "textposition": "auto",
         "type": "bar",
         "x": [
          "MARUL (Mor)Adet"
         ],
         "xaxis": "x",
         "y": [
          1247
         ],
         "yaxis": "y"
        },
        {
         "alignmentgroup": "True",
         "hovertemplate": "urun_ad=%{x}<br>adet=%{y}<extra></extra>",
         "legendgroup": "MARUL (Muhtelif)Adet",
         "marker": {
          "color": "#FF97FF",
          "pattern": {
           "shape": ""
          }
         },
         "name": "MARUL (Muhtelif)Adet",
         "offsetgroup": "MARUL (Muhtelif)Adet",
         "orientation": "v",
         "showlegend": true,
         "textposition": "auto",
         "type": "bar",
         "x": [
          "MARUL (Muhtelif)Adet"
         ],
         "xaxis": "x",
         "y": [
          1481
         ],
         "yaxis": "y"
        },
        {
         "alignmentgroup": "True",
         "hovertemplate": "urun_ad=%{x}<br>adet=%{y}<extra></extra>",
         "legendgroup": "MAYDONOZ (Bağ)",
         "marker": {
          "color": "#FECB52",
          "pattern": {
           "shape": ""
          }
         },
         "name": "MAYDONOZ (Bağ)",
         "offsetgroup": "MAYDONOZ (Bağ)",
         "orientation": "v",
         "showlegend": true,
         "textposition": "auto",
         "type": "bar",
         "x": [
          "MAYDONOZ (Bağ)"
         ],
         "xaxis": "x",
         "y": [
          1718
         ],
         "yaxis": "y"
        },
        {
         "alignmentgroup": "True",
         "hovertemplate": "urun_ad=%{x}<br>adet=%{y}<extra></extra>",
         "legendgroup": "MUZ (Yerli)",
         "marker": {
          "color": "#636efa",
          "pattern": {
           "shape": ""
          }
         },
         "name": "MUZ (Yerli)",
         "offsetgroup": "MUZ (Yerli)",
         "orientation": "v",
         "showlegend": true,
         "textposition": "auto",
         "type": "bar",
         "x": [
          "MUZ (Yerli)"
         ],
         "xaxis": "x",
         "y": [
          1727
         ],
         "yaxis": "y"
        },
        {
         "alignmentgroup": "True",
         "hovertemplate": "urun_ad=%{x}<br>adet=%{y}<extra></extra>",
         "legendgroup": "MUZ (İthal)",
         "marker": {
          "color": "#EF553B",
          "pattern": {
           "shape": ""
          }
         },
         "name": "MUZ (İthal)",
         "offsetgroup": "MUZ (İthal)",
         "orientation": "v",
         "showlegend": true,
         "textposition": "auto",
         "type": "bar",
         "x": [
          "MUZ (İthal)"
         ],
         "xaxis": "x",
         "y": [
          1753
         ],
         "yaxis": "y"
        },
        {
         "alignmentgroup": "True",
         "hovertemplate": "urun_ad=%{x}<br>adet=%{y}<extra></extra>",
         "legendgroup": "NANE(Bağ)",
         "marker": {
          "color": "#00cc96",
          "pattern": {
           "shape": ""
          }
         },
         "name": "NANE(Bağ)",
         "offsetgroup": "NANE(Bağ)",
         "orientation": "v",
         "showlegend": true,
         "textposition": "auto",
         "type": "bar",
         "x": [
          "NANE(Bağ)"
         ],
         "xaxis": "x",
         "y": [
          1732
         ],
         "yaxis": "y"
        },
        {
         "alignmentgroup": "True",
         "hovertemplate": "urun_ad=%{x}<br>adet=%{y}<extra></extra>",
         "legendgroup": "PATATES",
         "marker": {
          "color": "#ab63fa",
          "pattern": {
           "shape": ""
          }
         },
         "name": "PATATES",
         "offsetgroup": "PATATES",
         "orientation": "v",
         "showlegend": true,
         "textposition": "auto",
         "type": "bar",
         "x": [
          "PATATES"
         ],
         "xaxis": "x",
         "y": [
          1566
         ],
         "yaxis": "y"
        },
        {
         "alignmentgroup": "True",
         "hovertemplate": "urun_ad=%{x}<br>adet=%{y}<extra></extra>",
         "legendgroup": "PATLICAN (Kemer)",
         "marker": {
          "color": "#FFA15A",
          "pattern": {
           "shape": ""
          }
         },
         "name": "PATLICAN (Kemer)",
         "offsetgroup": "PATLICAN (Kemer)",
         "orientation": "v",
         "showlegend": true,
         "textposition": "auto",
         "type": "bar",
         "x": [
          "PATLICAN (Kemer)"
         ],
         "xaxis": "x",
         "y": [
          1751
         ],
         "yaxis": "y"
        },
        {
         "alignmentgroup": "True",
         "hovertemplate": "urun_ad=%{x}<br>adet=%{y}<extra></extra>",
         "legendgroup": "PATLICAN (Topak)",
         "marker": {
          "color": "#19d3f3",
          "pattern": {
           "shape": ""
          }
         },
         "name": "PATLICAN (Topak)",
         "offsetgroup": "PATLICAN (Topak)",
         "orientation": "v",
         "showlegend": true,
         "textposition": "auto",
         "type": "bar",
         "x": [
          "PATLICAN (Topak)"
         ],
         "xaxis": "x",
         "y": [
          1521
         ],
         "yaxis": "y"
        },
        {
         "alignmentgroup": "True",
         "hovertemplate": "urun_ad=%{x}<br>adet=%{y}<extra></extra>",
         "legendgroup": "PIRASA",
         "marker": {
          "color": "#FF6692",
          "pattern": {
           "shape": ""
          }
         },
         "name": "PIRASA",
         "offsetgroup": "PIRASA",
         "orientation": "v",
         "showlegend": true,
         "textposition": "auto",
         "type": "bar",
         "x": [
          "PIRASA"
         ],
         "xaxis": "x",
         "y": [
          1293
         ],
         "yaxis": "y"
        },
        {
         "alignmentgroup": "True",
         "hovertemplate": "urun_ad=%{x}<br>adet=%{y}<extra></extra>",
         "legendgroup": "PORTAKAL (Muhtelif)",
         "marker": {
          "color": "#B6E880",
          "pattern": {
           "shape": ""
          }
         },
         "name": "PORTAKAL (Muhtelif)",
         "offsetgroup": "PORTAKAL (Muhtelif)",
         "orientation": "v",
         "showlegend": true,
         "textposition": "auto",
         "type": "bar",
         "x": [
          "PORTAKAL (Muhtelif)"
         ],
         "xaxis": "x",
         "y": [
          1357
         ],
         "yaxis": "y"
        },
        {
         "alignmentgroup": "True",
         "hovertemplate": "urun_ad=%{x}<br>adet=%{y}<extra></extra>",
         "legendgroup": "ROKA(Bağ)",
         "marker": {
          "color": "#FF97FF",
          "pattern": {
           "shape": ""
          }
         },
         "name": "ROKA(Bağ)",
         "offsetgroup": "ROKA(Bağ)",
         "orientation": "v",
         "showlegend": true,
         "textposition": "auto",
         "type": "bar",
         "x": [
          "ROKA(Bağ)"
         ],
         "xaxis": "x",
         "y": [
          1451
         ],
         "yaxis": "y"
        },
        {
         "alignmentgroup": "True",
         "hovertemplate": "urun_ad=%{x}<br>adet=%{y}<extra></extra>",
         "legendgroup": "SALATALIK (Muhtelif)",
         "marker": {
          "color": "#FECB52",
          "pattern": {
           "shape": ""
          }
         },
         "name": "SALATALIK (Muhtelif)",
         "offsetgroup": "SALATALIK (Muhtelif)",
         "orientation": "v",
         "showlegend": true,
         "textposition": "auto",
         "type": "bar",
         "x": [
          "SALATALIK (Muhtelif)"
         ],
         "xaxis": "x",
         "y": [
          1418
         ],
         "yaxis": "y"
        },
        {
         "alignmentgroup": "True",
         "hovertemplate": "urun_ad=%{x}<br>adet=%{y}<extra></extra>",
         "legendgroup": "SALATALIK (Silor)",
         "marker": {
          "color": "#636efa",
          "pattern": {
           "shape": ""
          }
         },
         "name": "SALATALIK (Silor)",
         "offsetgroup": "SALATALIK (Silor)",
         "orientation": "v",
         "showlegend": true,
         "textposition": "auto",
         "type": "bar",
         "x": [
          "SALATALIK (Silor)"
         ],
         "xaxis": "x",
         "y": [
          1410
         ],
         "yaxis": "y"
        },
        {
         "alignmentgroup": "True",
         "hovertemplate": "urun_ad=%{x}<br>adet=%{y}<extra></extra>",
         "legendgroup": "SARIMSAK (Kuru)",
         "marker": {
          "color": "#EF553B",
          "pattern": {
           "shape": ""
          }
         },
         "name": "SARIMSAK (Kuru)",
         "offsetgroup": "SARIMSAK (Kuru)",
         "orientation": "v",
         "showlegend": true,
         "textposition": "auto",
         "type": "bar",
         "x": [
          "SARIMSAK (Kuru)"
         ],
         "xaxis": "x",
         "y": [
          1430
         ],
         "yaxis": "y"
        },
        {
         "alignmentgroup": "True",
         "hovertemplate": "urun_ad=%{x}<br>adet=%{y}<extra></extra>",
         "legendgroup": "SEMİZ OTU(Bağ)",
         "marker": {
          "color": "#00cc96",
          "pattern": {
           "shape": ""
          }
         },
         "name": "SEMİZ OTU(Bağ)",
         "offsetgroup": "SEMİZ OTU(Bağ)",
         "orientation": "v",
         "showlegend": true,
         "textposition": "auto",
         "type": "bar",
         "x": [
          "SEMİZ OTU(Bağ)"
         ],
         "xaxis": "x",
         "y": [
          1445
         ],
         "yaxis": "y"
        },
        {
         "alignmentgroup": "True",
         "hovertemplate": "urun_ad=%{x}<br>adet=%{y}<extra></extra>",
         "legendgroup": "SOGAN  ( Yeşil )",
         "marker": {
          "color": "#ab63fa",
          "pattern": {
           "shape": ""
          }
         },
         "name": "SOGAN  ( Yeşil )",
         "offsetgroup": "SOGAN  ( Yeşil )",
         "orientation": "v",
         "showlegend": true,
         "textposition": "auto",
         "type": "bar",
         "x": [
          "SOGAN  ( Yeşil )"
         ],
         "xaxis": "x",
         "y": [
          1270
         ],
         "yaxis": "y"
        },
        {
         "alignmentgroup": "True",
         "hovertemplate": "urun_ad=%{x}<br>adet=%{y}<extra></extra>",
         "legendgroup": "SOGAN (Kuru)",
         "marker": {
          "color": "#FFA15A",
          "pattern": {
           "shape": ""
          }
         },
         "name": "SOGAN (Kuru)",
         "offsetgroup": "SOGAN (Kuru)",
         "orientation": "v",
         "showlegend": true,
         "textposition": "auto",
         "type": "bar",
         "x": [
          "SOGAN (Kuru)"
         ],
         "xaxis": "x",
         "y": [
          1394
         ],
         "yaxis": "y"
        },
        {
         "alignmentgroup": "True",
         "hovertemplate": "urun_ad=%{x}<br>adet=%{y}<extra></extra>",
         "legendgroup": "TERE",
         "marker": {
          "color": "#19d3f3",
          "pattern": {
           "shape": ""
          }
         },
         "name": "TERE",
         "offsetgroup": "TERE",
         "orientation": "v",
         "showlegend": true,
         "textposition": "auto",
         "type": "bar",
         "x": [
          "TERE"
         ],
         "xaxis": "x",
         "y": [
          1414
         ],
         "yaxis": "y"
        },
        {
         "alignmentgroup": "True",
         "hovertemplate": "urun_ad=%{x}<br>adet=%{y}<extra></extra>",
         "legendgroup": "TURP (  Muhtelif )",
         "marker": {
          "color": "#FF6692",
          "pattern": {
           "shape": ""
          }
         },
         "name": "TURP (  Muhtelif )",
         "offsetgroup": "TURP (  Muhtelif )",
         "orientation": "v",
         "showlegend": true,
         "textposition": "auto",
         "type": "bar",
         "x": [
          "TURP (  Muhtelif )"
         ],
         "xaxis": "x",
         "y": [
          1095
         ],
         "yaxis": "y"
        },
        {
         "alignmentgroup": "True",
         "hovertemplate": "urun_ad=%{x}<br>adet=%{y}<extra></extra>",
         "legendgroup": "ÇİLEK",
         "marker": {
          "color": "#B6E880",
          "pattern": {
           "shape": ""
          }
         },
         "name": "ÇİLEK",
         "offsetgroup": "ÇİLEK",
         "orientation": "v",
         "showlegend": true,
         "textposition": "auto",
         "type": "bar",
         "x": [
          "ÇİLEK"
         ],
         "xaxis": "x",
         "y": [
          1633
         ],
         "yaxis": "y"
        },
        {
         "alignmentgroup": "True",
         "hovertemplate": "urun_ad=%{x}<br>adet=%{y}<extra></extra>",
         "legendgroup": "ÜZÜM (Muhtelif)",
         "marker": {
          "color": "#FF97FF",
          "pattern": {
           "shape": ""
          }
         },
         "name": "ÜZÜM (Muhtelif)",
         "offsetgroup": "ÜZÜM (Muhtelif)",
         "orientation": "v",
         "showlegend": true,
         "textposition": "auto",
         "type": "bar",
         "x": [
          "ÜZÜM (Muhtelif)"
         ],
         "xaxis": "x",
         "y": [
          1330
         ],
         "yaxis": "y"
        }
       ],
       "layout": {
        "barmode": "relative",
        "legend": {
         "title": {
          "text": "urun_ad"
         },
         "tracegroupgap": 0
        },
        "template": {
         "data": {
          "bar": [
           {
            "error_x": {
             "color": "#2a3f5f"
            },
            "error_y": {
             "color": "#2a3f5f"
            },
            "marker": {
             "line": {
              "color": "#E5ECF6",
              "width": 0.5
             },
             "pattern": {
              "fillmode": "overlay",
              "size": 10,
              "solidity": 0.2
             }
            },
            "type": "bar"
           }
          ],
          "barpolar": [
           {
            "marker": {
             "line": {
              "color": "#E5ECF6",
              "width": 0.5
             },
             "pattern": {
              "fillmode": "overlay",
              "size": 10,
              "solidity": 0.2
             }
            },
            "type": "barpolar"
           }
          ],
          "carpet": [
           {
            "aaxis": {
             "endlinecolor": "#2a3f5f",
             "gridcolor": "white",
             "linecolor": "white",
             "minorgridcolor": "white",
             "startlinecolor": "#2a3f5f"
            },
            "baxis": {
             "endlinecolor": "#2a3f5f",
             "gridcolor": "white",
             "linecolor": "white",
             "minorgridcolor": "white",
             "startlinecolor": "#2a3f5f"
            },
            "type": "carpet"
           }
          ],
          "choropleth": [
           {
            "colorbar": {
             "outlinewidth": 0,
             "ticks": ""
            },
            "type": "choropleth"
           }
          ],
          "contour": [
           {
            "colorbar": {
             "outlinewidth": 0,
             "ticks": ""
            },
            "colorscale": [
             [
              0,
              "#0d0887"
             ],
             [
              0.1111111111111111,
              "#46039f"
             ],
             [
              0.2222222222222222,
              "#7201a8"
             ],
             [
              0.3333333333333333,
              "#9c179e"
             ],
             [
              0.4444444444444444,
              "#bd3786"
             ],
             [
              0.5555555555555556,
              "#d8576b"
             ],
             [
              0.6666666666666666,
              "#ed7953"
             ],
             [
              0.7777777777777778,
              "#fb9f3a"
             ],
             [
              0.8888888888888888,
              "#fdca26"
             ],
             [
              1,
              "#f0f921"
             ]
            ],
            "type": "contour"
           }
          ],
          "contourcarpet": [
           {
            "colorbar": {
             "outlinewidth": 0,
             "ticks": ""
            },
            "type": "contourcarpet"
           }
          ],
          "heatmap": [
           {
            "colorbar": {
             "outlinewidth": 0,
             "ticks": ""
            },
            "colorscale": [
             [
              0,
              "#0d0887"
             ],
             [
              0.1111111111111111,
              "#46039f"
             ],
             [
              0.2222222222222222,
              "#7201a8"
             ],
             [
              0.3333333333333333,
              "#9c179e"
             ],
             [
              0.4444444444444444,
              "#bd3786"
             ],
             [
              0.5555555555555556,
              "#d8576b"
             ],
             [
              0.6666666666666666,
              "#ed7953"
             ],
             [
              0.7777777777777778,
              "#fb9f3a"
             ],
             [
              0.8888888888888888,
              "#fdca26"
             ],
             [
              1,
              "#f0f921"
             ]
            ],
            "type": "heatmap"
           }
          ],
          "heatmapgl": [
           {
            "colorbar": {
             "outlinewidth": 0,
             "ticks": ""
            },
            "colorscale": [
             [
              0,
              "#0d0887"
             ],
             [
              0.1111111111111111,
              "#46039f"
             ],
             [
              0.2222222222222222,
              "#7201a8"
             ],
             [
              0.3333333333333333,
              "#9c179e"
             ],
             [
              0.4444444444444444,
              "#bd3786"
             ],
             [
              0.5555555555555556,
              "#d8576b"
             ],
             [
              0.6666666666666666,
              "#ed7953"
             ],
             [
              0.7777777777777778,
              "#fb9f3a"
             ],
             [
              0.8888888888888888,
              "#fdca26"
             ],
             [
              1,
              "#f0f921"
             ]
            ],
            "type": "heatmapgl"
           }
          ],
          "histogram": [
           {
            "marker": {
             "pattern": {
              "fillmode": "overlay",
              "size": 10,
              "solidity": 0.2
             }
            },
            "type": "histogram"
           }
          ],
          "histogram2d": [
           {
            "colorbar": {
             "outlinewidth": 0,
             "ticks": ""
            },
            "colorscale": [
             [
              0,
              "#0d0887"
             ],
             [
              0.1111111111111111,
              "#46039f"
             ],
             [
              0.2222222222222222,
              "#7201a8"
             ],
             [
              0.3333333333333333,
              "#9c179e"
             ],
             [
              0.4444444444444444,
              "#bd3786"
             ],
             [
              0.5555555555555556,
              "#d8576b"
             ],
             [
              0.6666666666666666,
              "#ed7953"
             ],
             [
              0.7777777777777778,
              "#fb9f3a"
             ],
             [
              0.8888888888888888,
              "#fdca26"
             ],
             [
              1,
              "#f0f921"
             ]
            ],
            "type": "histogram2d"
           }
          ],
          "histogram2dcontour": [
           {
            "colorbar": {
             "outlinewidth": 0,
             "ticks": ""
            },
            "colorscale": [
             [
              0,
              "#0d0887"
             ],
             [
              0.1111111111111111,
              "#46039f"
             ],
             [
              0.2222222222222222,
              "#7201a8"
             ],
             [
              0.3333333333333333,
              "#9c179e"
             ],
             [
              0.4444444444444444,
              "#bd3786"
             ],
             [
              0.5555555555555556,
              "#d8576b"
             ],
             [
              0.6666666666666666,
              "#ed7953"
             ],
             [
              0.7777777777777778,
              "#fb9f3a"
             ],
             [
              0.8888888888888888,
              "#fdca26"
             ],
             [
              1,
              "#f0f921"
             ]
            ],
            "type": "histogram2dcontour"
           }
          ],
          "mesh3d": [
           {
            "colorbar": {
             "outlinewidth": 0,
             "ticks": ""
            },
            "type": "mesh3d"
           }
          ],
          "parcoords": [
           {
            "line": {
             "colorbar": {
              "outlinewidth": 0,
              "ticks": ""
             }
            },
            "type": "parcoords"
           }
          ],
          "pie": [
           {
            "automargin": true,
            "type": "pie"
           }
          ],
          "scatter": [
           {
            "fillpattern": {
             "fillmode": "overlay",
             "size": 10,
             "solidity": 0.2
            },
            "type": "scatter"
           }
          ],
          "scatter3d": [
           {
            "line": {
             "colorbar": {
              "outlinewidth": 0,
              "ticks": ""
             }
            },
            "marker": {
             "colorbar": {
              "outlinewidth": 0,
              "ticks": ""
             }
            },
            "type": "scatter3d"
           }
          ],
          "scattercarpet": [
           {
            "marker": {
             "colorbar": {
              "outlinewidth": 0,
              "ticks": ""
             }
            },
            "type": "scattercarpet"
           }
          ],
          "scattergeo": [
           {
            "marker": {
             "colorbar": {
              "outlinewidth": 0,
              "ticks": ""
             }
            },
            "type": "scattergeo"
           }
          ],
          "scattergl": [
           {
            "marker": {
             "colorbar": {
              "outlinewidth": 0,
              "ticks": ""
             }
            },
            "type": "scattergl"
           }
          ],
          "scattermapbox": [
           {
            "marker": {
             "colorbar": {
              "outlinewidth": 0,
              "ticks": ""
             }
            },
            "type": "scattermapbox"
           }
          ],
          "scatterpolar": [
           {
            "marker": {
             "colorbar": {
              "outlinewidth": 0,
              "ticks": ""
             }
            },
            "type": "scatterpolar"
           }
          ],
          "scatterpolargl": [
           {
            "marker": {
             "colorbar": {
              "outlinewidth": 0,
              "ticks": ""
             }
            },
            "type": "scatterpolargl"
           }
          ],
          "scatterternary": [
           {
            "marker": {
             "colorbar": {
              "outlinewidth": 0,
              "ticks": ""
             }
            },
            "type": "scatterternary"
           }
          ],
          "surface": [
           {
            "colorbar": {
             "outlinewidth": 0,
             "ticks": ""
            },
            "colorscale": [
             [
              0,
              "#0d0887"
             ],
             [
              0.1111111111111111,
              "#46039f"
             ],
             [
              0.2222222222222222,
              "#7201a8"
             ],
             [
              0.3333333333333333,
              "#9c179e"
             ],
             [
              0.4444444444444444,
              "#bd3786"
             ],
             [
              0.5555555555555556,
              "#d8576b"
             ],
             [
              0.6666666666666666,
              "#ed7953"
             ],
             [
              0.7777777777777778,
              "#fb9f3a"
             ],
             [
              0.8888888888888888,
              "#fdca26"
             ],
             [
              1,
              "#f0f921"
             ]
            ],
            "type": "surface"
           }
          ],
          "table": [
           {
            "cells": {
             "fill": {
              "color": "#EBF0F8"
             },
             "line": {
              "color": "white"
             }
            },
            "header": {
             "fill": {
              "color": "#C8D4E3"
             },
             "line": {
              "color": "white"
             }
            },
            "type": "table"
           }
          ]
         },
         "layout": {
          "annotationdefaults": {
           "arrowcolor": "#2a3f5f",
           "arrowhead": 0,
           "arrowwidth": 1
          },
          "autotypenumbers": "strict",
          "coloraxis": {
           "colorbar": {
            "outlinewidth": 0,
            "ticks": ""
           }
          },
          "colorscale": {
           "diverging": [
            [
             0,
             "#8e0152"
            ],
            [
             0.1,
             "#c51b7d"
            ],
            [
             0.2,
             "#de77ae"
            ],
            [
             0.3,
             "#f1b6da"
            ],
            [
             0.4,
             "#fde0ef"
            ],
            [
             0.5,
             "#f7f7f7"
            ],
            [
             0.6,
             "#e6f5d0"
            ],
            [
             0.7,
             "#b8e186"
            ],
            [
             0.8,
             "#7fbc41"
            ],
            [
             0.9,
             "#4d9221"
            ],
            [
             1,
             "#276419"
            ]
           ],
           "sequential": [
            [
             0,
             "#0d0887"
            ],
            [
             0.1111111111111111,
             "#46039f"
            ],
            [
             0.2222222222222222,
             "#7201a8"
            ],
            [
             0.3333333333333333,
             "#9c179e"
            ],
            [
             0.4444444444444444,
             "#bd3786"
            ],
            [
             0.5555555555555556,
             "#d8576b"
            ],
            [
             0.6666666666666666,
             "#ed7953"
            ],
            [
             0.7777777777777778,
             "#fb9f3a"
            ],
            [
             0.8888888888888888,
             "#fdca26"
            ],
            [
             1,
             "#f0f921"
            ]
           ],
           "sequentialminus": [
            [
             0,
             "#0d0887"
            ],
            [
             0.1111111111111111,
             "#46039f"
            ],
            [
             0.2222222222222222,
             "#7201a8"
            ],
            [
             0.3333333333333333,
             "#9c179e"
            ],
            [
             0.4444444444444444,
             "#bd3786"
            ],
            [
             0.5555555555555556,
             "#d8576b"
            ],
            [
             0.6666666666666666,
             "#ed7953"
            ],
            [
             0.7777777777777778,
             "#fb9f3a"
            ],
            [
             0.8888888888888888,
             "#fdca26"
            ],
            [
             1,
             "#f0f921"
            ]
           ]
          },
          "colorway": [
           "#636efa",
           "#EF553B",
           "#00cc96",
           "#ab63fa",
           "#FFA15A",
           "#19d3f3",
           "#FF6692",
           "#B6E880",
           "#FF97FF",
           "#FECB52"
          ],
          "font": {
           "color": "#2a3f5f"
          },
          "geo": {
           "bgcolor": "white",
           "lakecolor": "white",
           "landcolor": "#E5ECF6",
           "showlakes": true,
           "showland": true,
           "subunitcolor": "white"
          },
          "hoverlabel": {
           "align": "left"
          },
          "hovermode": "closest",
          "mapbox": {
           "style": "light"
          },
          "paper_bgcolor": "white",
          "plot_bgcolor": "#E5ECF6",
          "polar": {
           "angularaxis": {
            "gridcolor": "white",
            "linecolor": "white",
            "ticks": ""
           },
           "bgcolor": "#E5ECF6",
           "radialaxis": {
            "gridcolor": "white",
            "linecolor": "white",
            "ticks": ""
           }
          },
          "scene": {
           "xaxis": {
            "backgroundcolor": "#E5ECF6",
            "gridcolor": "white",
            "gridwidth": 2,
            "linecolor": "white",
            "showbackground": true,
            "ticks": "",
            "zerolinecolor": "white"
           },
           "yaxis": {
            "backgroundcolor": "#E5ECF6",
            "gridcolor": "white",
            "gridwidth": 2,
            "linecolor": "white",
            "showbackground": true,
            "ticks": "",
            "zerolinecolor": "white"
           },
           "zaxis": {
            "backgroundcolor": "#E5ECF6",
            "gridcolor": "white",
            "gridwidth": 2,
            "linecolor": "white",
            "showbackground": true,
            "ticks": "",
            "zerolinecolor": "white"
           }
          },
          "shapedefaults": {
           "line": {
            "color": "#2a3f5f"
           }
          },
          "ternary": {
           "aaxis": {
            "gridcolor": "white",
            "linecolor": "white",
            "ticks": ""
           },
           "baxis": {
            "gridcolor": "white",
            "linecolor": "white",
            "ticks": ""
           },
           "bgcolor": "#E5ECF6",
           "caxis": {
            "gridcolor": "white",
            "linecolor": "white",
            "ticks": ""
           }
          },
          "title": {
           "x": 0.05
          },
          "xaxis": {
           "automargin": true,
           "gridcolor": "white",
           "linecolor": "white",
           "ticks": "",
           "title": {
            "standoff": 15
           },
           "zerolinecolor": "white",
           "zerolinewidth": 2
          },
          "yaxis": {
           "automargin": true,
           "gridcolor": "white",
           "linecolor": "white",
           "ticks": "",
           "title": {
            "standoff": 15
           },
           "zerolinecolor": "white",
           "zerolinewidth": 2
          }
         }
        },
        "title": {
         "text": "1000 Adet Üstü Ürün Adlarına Göre Adetler"
        },
        "xaxis": {
         "anchor": "y",
         "categoryarray": [
          "ARMUT( Ankara )",
          "AVAKADO",
          "AYVA",
          "BROKOLİ",
          "BİBER (Cin)",
          "BİBER (Dolma)",
          "BİBER (Kıl)",
          "BİBER (Sivri)",
          "BİBER (Çarli)",
          "BİBER Salçalık (Kapya)",
          "DERE OTU (Bağ)",
          "DOMATES (Muhtelif)",
          "DOMATES (Salkım)",
          "DOMATES (Çeri)",
          "EKŞİ OT (Bağ)",
          "ELMA (Golden)",
          "ELMA (Muhtelif)",
          "ELMA (Starking)",
          "ERİK (Muhtelif)",
          "FASULYE (Muhtelif)",
          "FESLEĞEN(REYHAN)Bağ",
          "GREYFURT",
          "HAVUÇ",
          "HİNDİSTAN CEVİZİ(Adet)",
          "ISPANAK",
          "KABAK (Bal)",
          "KABAK (Beyaz)",
          "KABAK (Kara)",
          "KARNABAHAR",
          "KARPUZ (Muhtelif)",
          "KAVUN (Muhtelif)",
          "KEREVİZ",
          "KİVİ",
          "LAHANA (Beyaz)",
          "LAHANA (Mor)",
          "MANTAR (Kültür)",
          "MARUL (Aysberk)Adet",
          "MARUL (Mor)Adet",
          "MARUL (Muhtelif)Adet",
          "MAYDONOZ (Bağ)",
          "MUZ (Yerli)",
          "MUZ (İthal)",
          "NANE(Bağ)",
          "PATATES",
          "PATLICAN (Kemer)",
          "PATLICAN (Topak)",
          "PIRASA",
          "PORTAKAL (Muhtelif)",
          "ROKA(Bağ)",
          "SALATALIK (Muhtelif)",
          "SALATALIK (Silor)",
          "SARIMSAK (Kuru)",
          "SEMİZ OTU(Bağ)",
          "SOGAN  ( Yeşil )",
          "SOGAN (Kuru)",
          "TERE",
          "TURP (  Muhtelif )",
          "ÇİLEK",
          "ÜZÜM (Muhtelif)"
         ],
         "categoryorder": "array",
         "domain": [
          0,
          1
         ],
         "title": {
          "text": "urun_ad"
         }
        },
        "yaxis": {
         "anchor": "x",
         "domain": [
          0,
          1
         ],
         "title": {
          "text": "adet"
         }
        }
       }
      }
     },
     "metadata": {},
     "output_type": "display_data"
    }
   ],
   "source": [
    "# 1000 adet üstü olan ürünleri alıyoruz\n",
    "sonuclar_yuksek_adet = sonuclar[sonuclar['adet'] >= 1000]\n",
    "\n",
    "# Çubuk grafiği oluşturuyoruz\n",
    "fig = px.bar(sonuclar_yuksek_adet, x='urun_ad', y='adet', color='urun_ad', title='1000 Adet Üstü Ürün Adlarına Göre Adetler')\n",
    "\n",
    "# sonuclar_yuksek_adet.value_counts\n",
    "# Grafiği kaydediyoruz\n",
    "# fig.write_image('urun_adlarina_gore_1000_adet_ustu_olanlarin_grafigi.png')\n",
    "fig.show()"
   ]
  },
  {
   "cell_type": "markdown",
   "metadata": {},
   "source": [
    "# 1000 Uzerinde Verileri Olanlari Yazdirmak Icin Fonksiyon"
   ]
  },
  {
   "cell_type": "code",
   "execution_count": null,
   "metadata": {},
   "outputs": [
    {
     "name": "stdout",
     "output_type": "stream",
     "text": [
      "Urun Ad: MUZ (İthal), Adet: 1753\n",
      "Urun Ad: BİBER (Dolma), Adet: 1752\n",
      "Urun Ad: PATLICAN (Kemer), Adet: 1751\n",
      "Urun Ad: BİBER (Çarli), Adet: 1749\n",
      "Urun Ad: ISPANAK, Adet: 1743\n",
      "Urun Ad: BİBER (Sivri), Adet: 1738\n",
      "Urun Ad: NANE(Bağ), Adet: 1732\n",
      "Urun Ad: DERE OTU (Bağ), Adet: 1732\n",
      "Urun Ad: KİVİ, Adet: 1728\n",
      "Urun Ad: MUZ (Yerli), Adet: 1727\n",
      "Urun Ad: LAHANA (Mor), Adet: 1725\n",
      "Urun Ad: LAHANA (Beyaz), Adet: 1723\n",
      "Urun Ad: MAYDONOZ (Bağ), Adet: 1718\n",
      "Urun Ad: HAVUÇ, Adet: 1705\n",
      "Urun Ad: ELMA (Muhtelif), Adet: 1705\n",
      "Urun Ad: FASULYE (Muhtelif), Adet: 1696\n",
      "Urun Ad: DOMATES (Muhtelif), Adet: 1695\n",
      "Urun Ad: MANTAR (Kültür), Adet: 1693\n",
      "Urun Ad: HİNDİSTAN CEVİZİ(Adet), Adet: 1685\n",
      "Urun Ad: BİBER Salçalık (Kapya), Adet: 1680\n",
      "Urun Ad: DOMATES (Salkım), Adet: 1659\n",
      "Urun Ad: KARNABAHAR, Adet: 1654\n",
      "Urun Ad: BROKOLİ, Adet: 1645\n",
      "Urun Ad: MARUL (Aysberk)Adet, Adet: 1639\n",
      "Urun Ad: ÇİLEK, Adet: 1633\n",
      "Urun Ad: BİBER (Kıl), Adet: 1632\n",
      "Urun Ad: EKŞİ OT (Bağ), Adet: 1621\n",
      "Urun Ad: KABAK (Kara), Adet: 1611\n",
      "Urun Ad: AVAKADO, Adet: 1606\n",
      "Urun Ad: ARMUT( Ankara ), Adet: 1574\n",
      "Urun Ad: PATATES, Adet: 1566\n",
      "Urun Ad: PATLICAN (Topak), Adet: 1521\n",
      "Urun Ad: FESLEĞEN(REYHAN)Bağ, Adet: 1482\n",
      "Urun Ad: MARUL (Muhtelif)Adet, Adet: 1481\n",
      "Urun Ad: KABAK (Beyaz), Adet: 1469\n",
      "Urun Ad: BİBER (Cin), Adet: 1463\n",
      "Urun Ad: ROKA(Bağ), Adet: 1451\n",
      "Urun Ad: SEMİZ OTU(Bağ), Adet: 1445\n",
      "Urun Ad: SARIMSAK (Kuru), Adet: 1430\n",
      "Urun Ad: SALATALIK (Muhtelif), Adet: 1418\n",
      "Urun Ad: TERE, Adet: 1414\n",
      "Urun Ad: SALATALIK (Silor), Adet: 1410\n",
      "Urun Ad: SOGAN (Kuru), Adet: 1394\n",
      "Urun Ad: DOMATES (Çeri), Adet: 1374\n",
      "Urun Ad: PORTAKAL (Muhtelif), Adet: 1357\n",
      "Urun Ad: GREYFURT, Adet: 1352\n",
      "Urun Ad: ÜZÜM (Muhtelif), Adet: 1330\n",
      "Urun Ad: ERİK (Muhtelif), Adet: 1300\n",
      "Urun Ad: PIRASA, Adet: 1293\n",
      "Urun Ad: SOGAN  ( Yeşil ), Adet: 1270\n",
      "Urun Ad: KARPUZ (Muhtelif), Adet: 1266\n",
      "Urun Ad: MARUL (Mor)Adet, Adet: 1247\n",
      "Urun Ad: KAVUN (Muhtelif), Adet: 1214\n",
      "Urun Ad: KEREVİZ, Adet: 1181\n",
      "Urun Ad: ELMA (Starking), Adet: 1152\n",
      "Urun Ad: AYVA, Adet: 1145\n",
      "Urun Ad: ELMA (Golden), Adet: 1139\n",
      "Urun Ad: TURP (  Muhtelif ), Adet: 1095\n",
      "Urun Ad: KABAK (Bal), Adet: 1076\n"
     ]
    }
   ],
   "source": [
    "threshold = 1000\n",
    "\n",
    "# \"urun_ad\" sütunundaki benzersiz değerleri ve sayılarını kontrol edin\n",
    "unique_values = hal['urun_ad'].value_counts()\n",
    "\n",
    "# Eşik değerini aşmayanları filtreleyin\n",
    "below_threshold_values = unique_values[unique_values > threshold]\n",
    "\n",
    "# Eşik değerinin altında olan \"urun_ad\" değerlerini ve sayılarını ekrana yazdırın\n",
    "for urun_ad, count in below_threshold_values.items():\n",
    "    print(f\"Urun Ad: {urun_ad}, Adet: {count}\")\n",
    " "
   ]
  },
  {
   "cell_type": "code",
   "execution_count": null,
   "metadata": {},
   "outputs": [
    {
     "name": "stdout",
     "output_type": "stream",
     "text": [
      "                  urun_ad  adet  ortalama_fiyat\n",
      "0                  ANANAS   482       20.207469\n",
      "1          ARMUT (Deveci)   437        8.181808\n",
      "2        ARMUT (Muhtelif)   261       15.526820\n",
      "3    ARMUT (Santa Marina)   104       24.504808\n",
      "4         ARMUT( Ankara )  1574        1.581433\n",
      "..                    ...   ...             ...\n",
      "154       İNCİR ( Beyaz )   522        9.184004\n",
      "155       İNCİR ( Siyah )    15       54.233333\n",
      "156    ŞEFTALİ (Muhtelif)   718        5.813962\n",
      "157     ŞEFTALİ (Nektari)   579        3.219171\n",
      "158         ŞEFTALİ YERLİ     2        5.000000\n",
      "\n",
      "[159 rows x 3 columns]\n"
     ]
    }
   ],
   "source": [
    "sonuclar = hal.groupby('urun_ad').agg({'urun_ad': 'count', 'ortalama_fiyat': 'mean'})\n",
    "\n",
    "# Sütun adlarını düzenleyelim\n",
    "sonuclar.columns = ['adet', 'ortalama_fiyat']\n",
    "\n",
    "# 'urun_ad' sütununu da ekleyelim\n",
    "sonuclar['urun_ad'] = sonuclar.index\n",
    "\n",
    "# Sıralama için indeksi sıfırlayalım\n",
    "sonuclar.reset_index(drop=True, inplace=True)\n",
    "\n",
    "# Sütunları yeniden düzenleyelim\n",
    "sonuclar = sonuclar[['urun_ad', 'adet', 'ortalama_fiyat']]\n",
    "\n",
    "# Sonucu yazdıralım\n",
    "print(sonuclar)"
   ]
  },
  {
   "cell_type": "markdown",
   "metadata": {},
   "source": [
    "8 Kullanilacak Verinin Adet Grafigi"
   ]
  },
  {
   "cell_type": "code",
   "execution_count": null,
   "metadata": {},
   "outputs": [
    {
     "data": {
      "application/vnd.plotly.v1+json": {
       "config": {
        "plotlyServerURL": "https://plot.ly"
       },
       "data": [
        {
         "alignmentgroup": "True",
         "hovertemplate": "urun_ad=%{x}<br>adet=%{y}<extra></extra>",
         "legendgroup": "BİBER (Dolma)",
         "marker": {
          "color": "#636efa",
          "pattern": {
           "shape": ""
          }
         },
         "name": "BİBER (Dolma)",
         "offsetgroup": "BİBER (Dolma)",
         "orientation": "v",
         "showlegend": true,
         "textposition": "auto",
         "type": "bar",
         "x": [
          "BİBER (Dolma)"
         ],
         "xaxis": "x",
         "y": [
          1752
         ],
         "yaxis": "y"
        },
        {
         "alignmentgroup": "True",
         "hovertemplate": "urun_ad=%{x}<br>adet=%{y}<extra></extra>",
         "legendgroup": "BİBER (Çarli)",
         "marker": {
          "color": "#EF553B",
          "pattern": {
           "shape": ""
          }
         },
         "name": "BİBER (Çarli)",
         "offsetgroup": "BİBER (Çarli)",
         "orientation": "v",
         "showlegend": true,
         "textposition": "auto",
         "type": "bar",
         "x": [
          "BİBER (Çarli)"
         ],
         "xaxis": "x",
         "y": [
          1749
         ],
         "yaxis": "y"
        },
        {
         "alignmentgroup": "True",
         "hovertemplate": "urun_ad=%{x}<br>adet=%{y}<extra></extra>",
         "legendgroup": "ELMA (Muhtelif)",
         "marker": {
          "color": "#00cc96",
          "pattern": {
           "shape": ""
          }
         },
         "name": "ELMA (Muhtelif)",
         "offsetgroup": "ELMA (Muhtelif)",
         "orientation": "v",
         "showlegend": true,
         "textposition": "auto",
         "type": "bar",
         "x": [
          "ELMA (Muhtelif)"
         ],
         "xaxis": "x",
         "y": [
          1705
         ],
         "yaxis": "y"
        },
        {
         "alignmentgroup": "True",
         "hovertemplate": "urun_ad=%{x}<br>adet=%{y}<extra></extra>",
         "legendgroup": "ISPANAK",
         "marker": {
          "color": "#ab63fa",
          "pattern": {
           "shape": ""
          }
         },
         "name": "ISPANAK",
         "offsetgroup": "ISPANAK",
         "orientation": "v",
         "showlegend": true,
         "textposition": "auto",
         "type": "bar",
         "x": [
          "ISPANAK"
         ],
         "xaxis": "x",
         "y": [
          1743
         ],
         "yaxis": "y"
        },
        {
         "alignmentgroup": "True",
         "hovertemplate": "urun_ad=%{x}<br>adet=%{y}<extra></extra>",
         "legendgroup": "KİVİ",
         "marker": {
          "color": "#FFA15A",
          "pattern": {
           "shape": ""
          }
         },
         "name": "KİVİ",
         "offsetgroup": "KİVİ",
         "orientation": "v",
         "showlegend": true,
         "textposition": "auto",
         "type": "bar",
         "x": [
          "KİVİ"
         ],
         "xaxis": "x",
         "y": [
          1728
         ],
         "yaxis": "y"
        },
        {
         "alignmentgroup": "True",
         "hovertemplate": "urun_ad=%{x}<br>adet=%{y}<extra></extra>",
         "legendgroup": "MUZ (Yerli)",
         "marker": {
          "color": "#19d3f3",
          "pattern": {
           "shape": ""
          }
         },
         "name": "MUZ (Yerli)",
         "offsetgroup": "MUZ (Yerli)",
         "orientation": "v",
         "showlegend": true,
         "textposition": "auto",
         "type": "bar",
         "x": [
          "MUZ (Yerli)"
         ],
         "xaxis": "x",
         "y": [
          1727
         ],
         "yaxis": "y"
        },
        {
         "alignmentgroup": "True",
         "hovertemplate": "urun_ad=%{x}<br>adet=%{y}<extra></extra>",
         "legendgroup": "MUZ (İthal)",
         "marker": {
          "color": "#FF6692",
          "pattern": {
           "shape": ""
          }
         },
         "name": "MUZ (İthal)",
         "offsetgroup": "MUZ (İthal)",
         "orientation": "v",
         "showlegend": true,
         "textposition": "auto",
         "type": "bar",
         "x": [
          "MUZ (İthal)"
         ],
         "xaxis": "x",
         "y": [
          1753
         ],
         "yaxis": "y"
        },
        {
         "alignmentgroup": "True",
         "hovertemplate": "urun_ad=%{x}<br>adet=%{y}<extra></extra>",
         "legendgroup": "PATLICAN (Kemer)",
         "marker": {
          "color": "#B6E880",
          "pattern": {
           "shape": ""
          }
         },
         "name": "PATLICAN (Kemer)",
         "offsetgroup": "PATLICAN (Kemer)",
         "orientation": "v",
         "showlegend": true,
         "textposition": "auto",
         "type": "bar",
         "x": [
          "PATLICAN (Kemer)"
         ],
         "xaxis": "x",
         "y": [
          1751
         ],
         "yaxis": "y"
        }
       ],
       "layout": {
        "barmode": "relative",
        "legend": {
         "title": {
          "text": "urun_ad"
         },
         "tracegroupgap": 0
        },
        "template": {
         "data": {
          "bar": [
           {
            "error_x": {
             "color": "#2a3f5f"
            },
            "error_y": {
             "color": "#2a3f5f"
            },
            "marker": {
             "line": {
              "color": "#E5ECF6",
              "width": 0.5
             },
             "pattern": {
              "fillmode": "overlay",
              "size": 10,
              "solidity": 0.2
             }
            },
            "type": "bar"
           }
          ],
          "barpolar": [
           {
            "marker": {
             "line": {
              "color": "#E5ECF6",
              "width": 0.5
             },
             "pattern": {
              "fillmode": "overlay",
              "size": 10,
              "solidity": 0.2
             }
            },
            "type": "barpolar"
           }
          ],
          "carpet": [
           {
            "aaxis": {
             "endlinecolor": "#2a3f5f",
             "gridcolor": "white",
             "linecolor": "white",
             "minorgridcolor": "white",
             "startlinecolor": "#2a3f5f"
            },
            "baxis": {
             "endlinecolor": "#2a3f5f",
             "gridcolor": "white",
             "linecolor": "white",
             "minorgridcolor": "white",
             "startlinecolor": "#2a3f5f"
            },
            "type": "carpet"
           }
          ],
          "choropleth": [
           {
            "colorbar": {
             "outlinewidth": 0,
             "ticks": ""
            },
            "type": "choropleth"
           }
          ],
          "contour": [
           {
            "colorbar": {
             "outlinewidth": 0,
             "ticks": ""
            },
            "colorscale": [
             [
              0,
              "#0d0887"
             ],
             [
              0.1111111111111111,
              "#46039f"
             ],
             [
              0.2222222222222222,
              "#7201a8"
             ],
             [
              0.3333333333333333,
              "#9c179e"
             ],
             [
              0.4444444444444444,
              "#bd3786"
             ],
             [
              0.5555555555555556,
              "#d8576b"
             ],
             [
              0.6666666666666666,
              "#ed7953"
             ],
             [
              0.7777777777777778,
              "#fb9f3a"
             ],
             [
              0.8888888888888888,
              "#fdca26"
             ],
             [
              1,
              "#f0f921"
             ]
            ],
            "type": "contour"
           }
          ],
          "contourcarpet": [
           {
            "colorbar": {
             "outlinewidth": 0,
             "ticks": ""
            },
            "type": "contourcarpet"
           }
          ],
          "heatmap": [
           {
            "colorbar": {
             "outlinewidth": 0,
             "ticks": ""
            },
            "colorscale": [
             [
              0,
              "#0d0887"
             ],
             [
              0.1111111111111111,
              "#46039f"
             ],
             [
              0.2222222222222222,
              "#7201a8"
             ],
             [
              0.3333333333333333,
              "#9c179e"
             ],
             [
              0.4444444444444444,
              "#bd3786"
             ],
             [
              0.5555555555555556,
              "#d8576b"
             ],
             [
              0.6666666666666666,
              "#ed7953"
             ],
             [
              0.7777777777777778,
              "#fb9f3a"
             ],
             [
              0.8888888888888888,
              "#fdca26"
             ],
             [
              1,
              "#f0f921"
             ]
            ],
            "type": "heatmap"
           }
          ],
          "heatmapgl": [
           {
            "colorbar": {
             "outlinewidth": 0,
             "ticks": ""
            },
            "colorscale": [
             [
              0,
              "#0d0887"
             ],
             [
              0.1111111111111111,
              "#46039f"
             ],
             [
              0.2222222222222222,
              "#7201a8"
             ],
             [
              0.3333333333333333,
              "#9c179e"
             ],
             [
              0.4444444444444444,
              "#bd3786"
             ],
             [
              0.5555555555555556,
              "#d8576b"
             ],
             [
              0.6666666666666666,
              "#ed7953"
             ],
             [
              0.7777777777777778,
              "#fb9f3a"
             ],
             [
              0.8888888888888888,
              "#fdca26"
             ],
             [
              1,
              "#f0f921"
             ]
            ],
            "type": "heatmapgl"
           }
          ],
          "histogram": [
           {
            "marker": {
             "pattern": {
              "fillmode": "overlay",
              "size": 10,
              "solidity": 0.2
             }
            },
            "type": "histogram"
           }
          ],
          "histogram2d": [
           {
            "colorbar": {
             "outlinewidth": 0,
             "ticks": ""
            },
            "colorscale": [
             [
              0,
              "#0d0887"
             ],
             [
              0.1111111111111111,
              "#46039f"
             ],
             [
              0.2222222222222222,
              "#7201a8"
             ],
             [
              0.3333333333333333,
              "#9c179e"
             ],
             [
              0.4444444444444444,
              "#bd3786"
             ],
             [
              0.5555555555555556,
              "#d8576b"
             ],
             [
              0.6666666666666666,
              "#ed7953"
             ],
             [
              0.7777777777777778,
              "#fb9f3a"
             ],
             [
              0.8888888888888888,
              "#fdca26"
             ],
             [
              1,
              "#f0f921"
             ]
            ],
            "type": "histogram2d"
           }
          ],
          "histogram2dcontour": [
           {
            "colorbar": {
             "outlinewidth": 0,
             "ticks": ""
            },
            "colorscale": [
             [
              0,
              "#0d0887"
             ],
             [
              0.1111111111111111,
              "#46039f"
             ],
             [
              0.2222222222222222,
              "#7201a8"
             ],
             [
              0.3333333333333333,
              "#9c179e"
             ],
             [
              0.4444444444444444,
              "#bd3786"
             ],
             [
              0.5555555555555556,
              "#d8576b"
             ],
             [
              0.6666666666666666,
              "#ed7953"
             ],
             [
              0.7777777777777778,
              "#fb9f3a"
             ],
             [
              0.8888888888888888,
              "#fdca26"
             ],
             [
              1,
              "#f0f921"
             ]
            ],
            "type": "histogram2dcontour"
           }
          ],
          "mesh3d": [
           {
            "colorbar": {
             "outlinewidth": 0,
             "ticks": ""
            },
            "type": "mesh3d"
           }
          ],
          "parcoords": [
           {
            "line": {
             "colorbar": {
              "outlinewidth": 0,
              "ticks": ""
             }
            },
            "type": "parcoords"
           }
          ],
          "pie": [
           {
            "automargin": true,
            "type": "pie"
           }
          ],
          "scatter": [
           {
            "fillpattern": {
             "fillmode": "overlay",
             "size": 10,
             "solidity": 0.2
            },
            "type": "scatter"
           }
          ],
          "scatter3d": [
           {
            "line": {
             "colorbar": {
              "outlinewidth": 0,
              "ticks": ""
             }
            },
            "marker": {
             "colorbar": {
              "outlinewidth": 0,
              "ticks": ""
             }
            },
            "type": "scatter3d"
           }
          ],
          "scattercarpet": [
           {
            "marker": {
             "colorbar": {
              "outlinewidth": 0,
              "ticks": ""
             }
            },
            "type": "scattercarpet"
           }
          ],
          "scattergeo": [
           {
            "marker": {
             "colorbar": {
              "outlinewidth": 0,
              "ticks": ""
             }
            },
            "type": "scattergeo"
           }
          ],
          "scattergl": [
           {
            "marker": {
             "colorbar": {
              "outlinewidth": 0,
              "ticks": ""
             }
            },
            "type": "scattergl"
           }
          ],
          "scattermapbox": [
           {
            "marker": {
             "colorbar": {
              "outlinewidth": 0,
              "ticks": ""
             }
            },
            "type": "scattermapbox"
           }
          ],
          "scatterpolar": [
           {
            "marker": {
             "colorbar": {
              "outlinewidth": 0,
              "ticks": ""
             }
            },
            "type": "scatterpolar"
           }
          ],
          "scatterpolargl": [
           {
            "marker": {
             "colorbar": {
              "outlinewidth": 0,
              "ticks": ""
             }
            },
            "type": "scatterpolargl"
           }
          ],
          "scatterternary": [
           {
            "marker": {
             "colorbar": {
              "outlinewidth": 0,
              "ticks": ""
             }
            },
            "type": "scatterternary"
           }
          ],
          "surface": [
           {
            "colorbar": {
             "outlinewidth": 0,
             "ticks": ""
            },
            "colorscale": [
             [
              0,
              "#0d0887"
             ],
             [
              0.1111111111111111,
              "#46039f"
             ],
             [
              0.2222222222222222,
              "#7201a8"
             ],
             [
              0.3333333333333333,
              "#9c179e"
             ],
             [
              0.4444444444444444,
              "#bd3786"
             ],
             [
              0.5555555555555556,
              "#d8576b"
             ],
             [
              0.6666666666666666,
              "#ed7953"
             ],
             [
              0.7777777777777778,
              "#fb9f3a"
             ],
             [
              0.8888888888888888,
              "#fdca26"
             ],
             [
              1,
              "#f0f921"
             ]
            ],
            "type": "surface"
           }
          ],
          "table": [
           {
            "cells": {
             "fill": {
              "color": "#EBF0F8"
             },
             "line": {
              "color": "white"
             }
            },
            "header": {
             "fill": {
              "color": "#C8D4E3"
             },
             "line": {
              "color": "white"
             }
            },
            "type": "table"
           }
          ]
         },
         "layout": {
          "annotationdefaults": {
           "arrowcolor": "#2a3f5f",
           "arrowhead": 0,
           "arrowwidth": 1
          },
          "autotypenumbers": "strict",
          "coloraxis": {
           "colorbar": {
            "outlinewidth": 0,
            "ticks": ""
           }
          },
          "colorscale": {
           "diverging": [
            [
             0,
             "#8e0152"
            ],
            [
             0.1,
             "#c51b7d"
            ],
            [
             0.2,
             "#de77ae"
            ],
            [
             0.3,
             "#f1b6da"
            ],
            [
             0.4,
             "#fde0ef"
            ],
            [
             0.5,
             "#f7f7f7"
            ],
            [
             0.6,
             "#e6f5d0"
            ],
            [
             0.7,
             "#b8e186"
            ],
            [
             0.8,
             "#7fbc41"
            ],
            [
             0.9,
             "#4d9221"
            ],
            [
             1,
             "#276419"
            ]
           ],
           "sequential": [
            [
             0,
             "#0d0887"
            ],
            [
             0.1111111111111111,
             "#46039f"
            ],
            [
             0.2222222222222222,
             "#7201a8"
            ],
            [
             0.3333333333333333,
             "#9c179e"
            ],
            [
             0.4444444444444444,
             "#bd3786"
            ],
            [
             0.5555555555555556,
             "#d8576b"
            ],
            [
             0.6666666666666666,
             "#ed7953"
            ],
            [
             0.7777777777777778,
             "#fb9f3a"
            ],
            [
             0.8888888888888888,
             "#fdca26"
            ],
            [
             1,
             "#f0f921"
            ]
           ],
           "sequentialminus": [
            [
             0,
             "#0d0887"
            ],
            [
             0.1111111111111111,
             "#46039f"
            ],
            [
             0.2222222222222222,
             "#7201a8"
            ],
            [
             0.3333333333333333,
             "#9c179e"
            ],
            [
             0.4444444444444444,
             "#bd3786"
            ],
            [
             0.5555555555555556,
             "#d8576b"
            ],
            [
             0.6666666666666666,
             "#ed7953"
            ],
            [
             0.7777777777777778,
             "#fb9f3a"
            ],
            [
             0.8888888888888888,
             "#fdca26"
            ],
            [
             1,
             "#f0f921"
            ]
           ]
          },
          "colorway": [
           "#636efa",
           "#EF553B",
           "#00cc96",
           "#ab63fa",
           "#FFA15A",
           "#19d3f3",
           "#FF6692",
           "#B6E880",
           "#FF97FF",
           "#FECB52"
          ],
          "font": {
           "color": "#2a3f5f"
          },
          "geo": {
           "bgcolor": "white",
           "lakecolor": "white",
           "landcolor": "#E5ECF6",
           "showlakes": true,
           "showland": true,
           "subunitcolor": "white"
          },
          "hoverlabel": {
           "align": "left"
          },
          "hovermode": "closest",
          "mapbox": {
           "style": "light"
          },
          "paper_bgcolor": "white",
          "plot_bgcolor": "#E5ECF6",
          "polar": {
           "angularaxis": {
            "gridcolor": "white",
            "linecolor": "white",
            "ticks": ""
           },
           "bgcolor": "#E5ECF6",
           "radialaxis": {
            "gridcolor": "white",
            "linecolor": "white",
            "ticks": ""
           }
          },
          "scene": {
           "xaxis": {
            "backgroundcolor": "#E5ECF6",
            "gridcolor": "white",
            "gridwidth": 2,
            "linecolor": "white",
            "showbackground": true,
            "ticks": "",
            "zerolinecolor": "white"
           },
           "yaxis": {
            "backgroundcolor": "#E5ECF6",
            "gridcolor": "white",
            "gridwidth": 2,
            "linecolor": "white",
            "showbackground": true,
            "ticks": "",
            "zerolinecolor": "white"
           },
           "zaxis": {
            "backgroundcolor": "#E5ECF6",
            "gridcolor": "white",
            "gridwidth": 2,
            "linecolor": "white",
            "showbackground": true,
            "ticks": "",
            "zerolinecolor": "white"
           }
          },
          "shapedefaults": {
           "line": {
            "color": "#2a3f5f"
           }
          },
          "ternary": {
           "aaxis": {
            "gridcolor": "white",
            "linecolor": "white",
            "ticks": ""
           },
           "baxis": {
            "gridcolor": "white",
            "linecolor": "white",
            "ticks": ""
           },
           "bgcolor": "#E5ECF6",
           "caxis": {
            "gridcolor": "white",
            "linecolor": "white",
            "ticks": ""
           }
          },
          "title": {
           "x": 0.05
          },
          "xaxis": {
           "automargin": true,
           "gridcolor": "white",
           "linecolor": "white",
           "ticks": "",
           "title": {
            "standoff": 15
           },
           "zerolinecolor": "white",
           "zerolinewidth": 2
          },
          "yaxis": {
           "automargin": true,
           "gridcolor": "white",
           "linecolor": "white",
           "ticks": "",
           "title": {
            "standoff": 15
           },
           "zerolinecolor": "white",
           "zerolinewidth": 2
          }
         }
        },
        "title": {
         "text": "Bazi Ürün Adlarına Göre Adetler"
        },
        "xaxis": {
         "anchor": "y",
         "categoryarray": [
          "BİBER (Dolma)",
          "BİBER (Çarli)",
          "ELMA (Muhtelif)",
          "ISPANAK",
          "KİVİ",
          "MUZ (Yerli)",
          "MUZ (İthal)",
          "PATLICAN (Kemer)"
         ],
         "categoryorder": "array",
         "domain": [
          0,
          1
         ],
         "title": {
          "text": "urun_ad"
         }
        },
        "yaxis": {
         "anchor": "x",
         "domain": [
          0,
          1
         ],
         "title": {
          "text": "adet"
         }
        }
       }
      }
     },
     "metadata": {},
     "output_type": "display_data"
    }
   ],
   "source": [
    "# CSV dosyasını oku\n",
    "adet_grafigi = pd.read_csv(\"ozet_hal_verileri.csv\")\n",
    "\n",
    "# İlgili ürün adları\n",
    "hedef_urunler = ['MUZ (İthal)', 'KİVİ', 'MUZ (Yerli)', 'ELMA (Muhtelif)', 'BİBER (Dolma)', 'PATLICAN (Kemer)', 'BİBER (Çarli)', 'ISPANAK']\n",
    "\n",
    "# Belirli ürün adlarına ait satırları filtrele\n",
    "filtre = adet_grafigi['urun_ad'].isin(hedef_urunler)\n",
    "sonuclar = adet_grafigi[filtre]\n",
    "\n",
    "# Çubuk grafiği oluştur\n",
    "fig = px.bar(sonuclar, x='urun_ad', y='adet', color = 'urun_ad', title='Bazi Ürün Adlarına Göre Adetler')\n",
    "\n",
    "#Grafiği göster\n",
    "fig.show()\n",
    "\n",
    "# fig.write_image('bazi_urun_adlarina_gore_adetler.png')"
   ]
  },
  {
   "cell_type": "code",
   "execution_count": null,
   "metadata": {},
   "outputs": [
    {
     "data": {
      "application/vnd.plotly.v1+json": {
       "config": {
        "plotlyServerURL": "https://plot.ly"
       },
       "data": [
        {
         "alignmentgroup": "True",
         "hovertemplate": "urun_ad=%{x}<br>ortalama_fiyat=%{y}<extra></extra>",
         "legendgroup": "",
         "marker": {
          "color": "#636efa",
          "pattern": {
           "shape": ""
          }
         },
         "name": "",
         "offsetgroup": "",
         "orientation": "v",
         "showlegend": false,
         "textposition": "auto",
         "type": "bar",
         "x": [
          "ANANAS",
          "ARMUT (Deveci)",
          "ARMUT (Muhtelif)",
          "ARMUT (Santa Marina)",
          "ARMUT( Ankara )",
          "ASMA YAPRAĞI",
          "AVAKADO",
          "AYVA",
          "BAKLA",
          "BAMYA",
          "BARBUNYA",
          "BEZELYE (Araka)",
          "BROKOLİ",
          "BİBER (Cin)",
          "BİBER (Dolma)",
          "BİBER (II)",
          "BİBER (Köy)",
          "BİBER (Kıl)",
          "BİBER (Sivri)",
          "BİBER (Çarli)",
          "BİBER Dolma (Yerli)",
          "BİBER Kıl (Yerli)",
          "BİBER Salçalık (Kapya)",
          "BİBER Sivri (Yerli)",
          "BİBER Çarli (Yerli)",
          "CEVİZ",
          "DERE OTU (Bağ)",
          "DOMATES (II)",
          "DOMATES (Muhtelif)",
          "DOMATES (Salkım Kutu)",
          "DOMATES (Salkım)",
          "DOMATES (Salçalık)",
          "DOMATES (Yerli)",
          "DOMATES (köy)",
          "DOMATES (Çeri)",
          "DUT",
          "Domates 2",
          "EKŞİ OT (Bağ)",
          "ELMA (Amasya)",
          "ELMA (Arjantin)",
          "ELMA (Golden)",
          "ELMA (Granny Smith)",
          "ELMA (II)",
          "ELMA (Muhtelif)",
          "ELMA (Starking)",
          "ELMA (YERLİ) Muhtelif",
          "ELMA (YEŞİL)",
          "ELMA (İthal)",
          "ENGİNAR(Adet)",
          "ERİK ( Anjelika )",
          "ERİK (Can-Papaz)",
          "ERİK (Freze)",
          "ERİK (Muhtelif)",
          "FASULYE (Muhtelif)",
          "FASULYE (Yerli)",
          "FESLEĞEN(REYHAN)Bağ",
          "FINDIK TAZE",
          "GREYFURT",
          "HAVUÇ",
          "HIRTLAK",
          "HURMA ( Cennet )",
          "HİNDİSTAN CEVİZİ(Adet)",
          "ISPANAK",
          "KABAK (Bal)",
          "KABAK (Beyaz)",
          "KABAK (Kara)",
          "KABAK (Yerli)",
          "KARNABAHAR",
          "KARPUZ (Muhtelif)",
          "KARPUZ (İthal)",
          "KAVUN (Muhtelif)",
          "KAVUN (İthal)",
          "KAYISI (Muhtelif)",
          "KAYISI (Yerli)",
          "KEREVİZ",
          "KESTANE ",
          "KIZILCIK",
          "KİRAZ (Beyaz)",
          "KİRAZ (Muhtelif)",
          "KİRAZ (Napolyon )",
          "KİRAZ (Yerli)",
          "KİVİ",
          "KİVİ (İthal )",
          "LAHANA (Beyaz)",
          "LAHANA (Bürüksel)",
          "LAHANA (Mor)",
          "LİMON",
          "LİMON (File )",
          "LİMON (II)",
          "LİMON(yatak)",
          "MANDALİN (II)",
          "MANDALİN (King)",
          "MANDALİN (Muhtelif)",
          "MANDALİNA (satsuma)",
          "MANTAR (Kültür)",
          "MARUL (Aysberk)Adet",
          "MARUL (Mor)Adet",
          "MARUL (Muhtelif)Adet",
          "MARUL (Yerli)Adet",
          "MAYDONOZ (Bağ)",
          "MAYDONOZ (Yerli) Bağ",
          "MISIR (Taze)Adet",
          "MUZ (Yerli)",
          "MUZ (İthal)",
          "MUŞMULA (Döngel)",
          "NANE(Bağ)",
          "NAR ( Muhtelif )",
          "NAR çekirdeksiz",
          "NEKTARİ",
          "NOHUT (Taze)",
          "PANCAR (Kırmızı)",
          "PATATES",
          "PATATES ( 2.)",
          "PATATES (taze)",
          "PATLICAN (Kemer)",
          "PATLICAN (Topak)",
          "PATLICAN (Yerli)",
          "PAZI",
          "PIRASA",
          "PORTAKAL (Finike)",
          "PORTAKAL (II)",
          "PORTAKAL (Muhtelif)",
          "PORTAKAL (Sıkmalık )",
          "PORTAKAL (Washington)",
          "ROKA(Bağ)",
          "SALATALIK (II)",
          "SALATALIK (Kornişon)",
          "SALATALIK (Muhtelif)",
          "SALATALIK (Silor)",
          "SALATALIK (Yerli)",
          "SARIMSAK (Kuru)",
          "SARIMSAK (Taze)",
          "SEMİZ OTU(Bağ)",
          "SEMİZ OTU(Bağ) yerli",
          "SOGAN  ( Yeşil )",
          "SOGAN (Göğer)",
          "SOGAN (Kuru)",
          "SOGAN (Kırmızı)",
          "SOĞAN (II)",
          "TERE",
          "TERMİYE",
          "TURP (  Muhtelif )",
          "TURP KIRMIZI (yerli)",
          "VİŞNE",
          "VİŞNE (yerli)",
          "YENİ DÜNYA (Malta)",
          "YER ELMASI",
          "ZENCEFİL (Taze )",
          "soğan yeşil (yerli)",
          "ÇAĞLA",
          "ÇİLEK",
          "ÜZÜM (Muhtelif)",
          "ÜZÜM (Siyah)",
          "ÜZÜM (Çekirdeksiz)",
          "İNCİR ( Beyaz )",
          "İNCİR ( Siyah )",
          "ŞEFTALİ (Muhtelif)",
          "ŞEFTALİ (Nektari)",
          "ŞEFTALİ YERLİ"
         ],
         "xaxis": "x",
         "y": [
          20.20746887966805,
          8.181807780320366,
          15.526819923371647,
          24.504807692307693,
          1.5814326556543838,
          4.4524579560155235,
          5.1104452054794525,
          3.1067903930131004,
          1.9899730820995962,
          4.409366715758468,
          3.6387265135699374,
          1.9141716566866267,
          4.046306990881459,
          6.560338345864661,
          3.777813926940639,
          1.4342105263157894,
          5.379601226993865,
          5.501485906862745,
          3.6090563866513232,
          3.1815980560320183,
          1.625557103064067,
          2.7349834983498353,
          5.069500000000001,
          1.7536805555555557,
          1.7328877005347594,
          3.472289029535865,
          0.7935623556581987,
          6.375531914893617,
          2.771132743362832,
          25.685714285714287,
          3.7980409885473176,
          0.9483170731707317,
          1.28767217630854,
          11.886904761904763,
          5.445287481804949,
          5.602327150084316,
          6.25,
          1.257248611967921,
          3.3130710659898477,
          5.292857142857143,
          3.1814398595259,
          18.57281553398058,
          0.9743243243243244,
          2.910791788856305,
          3.2359071180555556,
          4,
          5,
          2.747025,
          2.7592757936507937,
          25.92953020134228,
          9.795075329566856,
          17,
          4.349584615384615,
          5.462942216981132,
          2.221174142480211,
          1.246923076923077,
          4.120689655172414,
          1.2867492603550295,
          1.7933460410557185,
          2.120955223880597,
          6.09007413509061,
          5.4178041543026705,
          2.3333849684452095,
          1.2669377323420075,
          2.8411572498298163,
          2.5424549968963377,
          1.0518856447688565,
          2.40006045949214,
          1.729881516587678,
          3.797916666666667,
          2.986779242174629,
          10.534090909090908,
          6.048902266288951,
          5.195945945945946,
          2.1128281117696868,
          12.341107871720117,
          4.5,
          1.0098969072164947,
          6.162389770723104,
          32.142857142857146,
          4.136524725274725,
          6.7341869212962955,
          108.33333333333333,
          1.2735954730121881,
          2.065438432835821,
          1.6739797101449274,
          4.619078014184397,
          9.586538461538462,
          2.412962962962963,
          9.115953947368421,
          1.7192307692307693,
          0.9276829268292683,
          2.570021299254526,
          9.277872340425533,
          8.944624926166568,
          6.953209273947529,
          6.888901363271851,
          6.0216914247130315,
          4.659391304347826,
          0.6226833527357393,
          0.6527108433734939,
          0.838963963963964,
          4.890315576143602,
          53.323294352538504,
          4.867729083665338,
          0.8149913394919169,
          8.280972222222223,
          2.9404355016538037,
          20.27857142857143,
          1.64321608040201,
          1.5422675521821632,
          2.803512132822478,
          1.045056818181818,
          3.914473684210526,
          2.771007995431182,
          3.128888888888889,
          1.1991967871485945,
          0.9103860294117647,
          2.064659706109822,
          3.898651960784314,
          0.6216666666666667,
          3.2614775239498894,
          9.070588235294117,
          1.0074144486692014,
          0.8459510682288076,
          0.9153846153846155,
          4.405357142857143,
          2.6148977433004235,
          3.465585106382979,
          1.263996138996139,
          12.296083916083917,
          3.464626288659794,
          1.7826643598615917,
          1.2825000000000002,
          4.6470669291338575,
          5.1450549450549445,
          1.866606886657102,
          3.590811965811966,
          0.8309523809523811,
          0.8836633663366337,
          3.5757914338919927,
          1.425159817351598,
          1.4791666666666667,
          18.5625,
          3.0569767441860463,
          8.092946927374301,
          2.278694581280788,
          63.819884726224785,
          3.550675675675676,
          10.170673076923077,
          8.16428352725046,
          7.33389097744361,
          7.263053949903661,
          6.964644012944984,
          9.184003831417625,
          54.233333333333334,
          5.813962395543176,
          3.2191709844559586,
          5
         ],
         "yaxis": "y"
        }
       ],
       "layout": {
        "barmode": "relative",
        "legend": {
         "tracegroupgap": 0
        },
        "template": {
         "data": {
          "bar": [
           {
            "error_x": {
             "color": "#2a3f5f"
            },
            "error_y": {
             "color": "#2a3f5f"
            },
            "marker": {
             "line": {
              "color": "#E5ECF6",
              "width": 0.5
             },
             "pattern": {
              "fillmode": "overlay",
              "size": 10,
              "solidity": 0.2
             }
            },
            "type": "bar"
           }
          ],
          "barpolar": [
           {
            "marker": {
             "line": {
              "color": "#E5ECF6",
              "width": 0.5
             },
             "pattern": {
              "fillmode": "overlay",
              "size": 10,
              "solidity": 0.2
             }
            },
            "type": "barpolar"
           }
          ],
          "carpet": [
           {
            "aaxis": {
             "endlinecolor": "#2a3f5f",
             "gridcolor": "white",
             "linecolor": "white",
             "minorgridcolor": "white",
             "startlinecolor": "#2a3f5f"
            },
            "baxis": {
             "endlinecolor": "#2a3f5f",
             "gridcolor": "white",
             "linecolor": "white",
             "minorgridcolor": "white",
             "startlinecolor": "#2a3f5f"
            },
            "type": "carpet"
           }
          ],
          "choropleth": [
           {
            "colorbar": {
             "outlinewidth": 0,
             "ticks": ""
            },
            "type": "choropleth"
           }
          ],
          "contour": [
           {
            "colorbar": {
             "outlinewidth": 0,
             "ticks": ""
            },
            "colorscale": [
             [
              0,
              "#0d0887"
             ],
             [
              0.1111111111111111,
              "#46039f"
             ],
             [
              0.2222222222222222,
              "#7201a8"
             ],
             [
              0.3333333333333333,
              "#9c179e"
             ],
             [
              0.4444444444444444,
              "#bd3786"
             ],
             [
              0.5555555555555556,
              "#d8576b"
             ],
             [
              0.6666666666666666,
              "#ed7953"
             ],
             [
              0.7777777777777778,
              "#fb9f3a"
             ],
             [
              0.8888888888888888,
              "#fdca26"
             ],
             [
              1,
              "#f0f921"
             ]
            ],
            "type": "contour"
           }
          ],
          "contourcarpet": [
           {
            "colorbar": {
             "outlinewidth": 0,
             "ticks": ""
            },
            "type": "contourcarpet"
           }
          ],
          "heatmap": [
           {
            "colorbar": {
             "outlinewidth": 0,
             "ticks": ""
            },
            "colorscale": [
             [
              0,
              "#0d0887"
             ],
             [
              0.1111111111111111,
              "#46039f"
             ],
             [
              0.2222222222222222,
              "#7201a8"
             ],
             [
              0.3333333333333333,
              "#9c179e"
             ],
             [
              0.4444444444444444,
              "#bd3786"
             ],
             [
              0.5555555555555556,
              "#d8576b"
             ],
             [
              0.6666666666666666,
              "#ed7953"
             ],
             [
              0.7777777777777778,
              "#fb9f3a"
             ],
             [
              0.8888888888888888,
              "#fdca26"
             ],
             [
              1,
              "#f0f921"
             ]
            ],
            "type": "heatmap"
           }
          ],
          "heatmapgl": [
           {
            "colorbar": {
             "outlinewidth": 0,
             "ticks": ""
            },
            "colorscale": [
             [
              0,
              "#0d0887"
             ],
             [
              0.1111111111111111,
              "#46039f"
             ],
             [
              0.2222222222222222,
              "#7201a8"
             ],
             [
              0.3333333333333333,
              "#9c179e"
             ],
             [
              0.4444444444444444,
              "#bd3786"
             ],
             [
              0.5555555555555556,
              "#d8576b"
             ],
             [
              0.6666666666666666,
              "#ed7953"
             ],
             [
              0.7777777777777778,
              "#fb9f3a"
             ],
             [
              0.8888888888888888,
              "#fdca26"
             ],
             [
              1,
              "#f0f921"
             ]
            ],
            "type": "heatmapgl"
           }
          ],
          "histogram": [
           {
            "marker": {
             "pattern": {
              "fillmode": "overlay",
              "size": 10,
              "solidity": 0.2
             }
            },
            "type": "histogram"
           }
          ],
          "histogram2d": [
           {
            "colorbar": {
             "outlinewidth": 0,
             "ticks": ""
            },
            "colorscale": [
             [
              0,
              "#0d0887"
             ],
             [
              0.1111111111111111,
              "#46039f"
             ],
             [
              0.2222222222222222,
              "#7201a8"
             ],
             [
              0.3333333333333333,
              "#9c179e"
             ],
             [
              0.4444444444444444,
              "#bd3786"
             ],
             [
              0.5555555555555556,
              "#d8576b"
             ],
             [
              0.6666666666666666,
              "#ed7953"
             ],
             [
              0.7777777777777778,
              "#fb9f3a"
             ],
             [
              0.8888888888888888,
              "#fdca26"
             ],
             [
              1,
              "#f0f921"
             ]
            ],
            "type": "histogram2d"
           }
          ],
          "histogram2dcontour": [
           {
            "colorbar": {
             "outlinewidth": 0,
             "ticks": ""
            },
            "colorscale": [
             [
              0,
              "#0d0887"
             ],
             [
              0.1111111111111111,
              "#46039f"
             ],
             [
              0.2222222222222222,
              "#7201a8"
             ],
             [
              0.3333333333333333,
              "#9c179e"
             ],
             [
              0.4444444444444444,
              "#bd3786"
             ],
             [
              0.5555555555555556,
              "#d8576b"
             ],
             [
              0.6666666666666666,
              "#ed7953"
             ],
             [
              0.7777777777777778,
              "#fb9f3a"
             ],
             [
              0.8888888888888888,
              "#fdca26"
             ],
             [
              1,
              "#f0f921"
             ]
            ],
            "type": "histogram2dcontour"
           }
          ],
          "mesh3d": [
           {
            "colorbar": {
             "outlinewidth": 0,
             "ticks": ""
            },
            "type": "mesh3d"
           }
          ],
          "parcoords": [
           {
            "line": {
             "colorbar": {
              "outlinewidth": 0,
              "ticks": ""
             }
            },
            "type": "parcoords"
           }
          ],
          "pie": [
           {
            "automargin": true,
            "type": "pie"
           }
          ],
          "scatter": [
           {
            "fillpattern": {
             "fillmode": "overlay",
             "size": 10,
             "solidity": 0.2
            },
            "type": "scatter"
           }
          ],
          "scatter3d": [
           {
            "line": {
             "colorbar": {
              "outlinewidth": 0,
              "ticks": ""
             }
            },
            "marker": {
             "colorbar": {
              "outlinewidth": 0,
              "ticks": ""
             }
            },
            "type": "scatter3d"
           }
          ],
          "scattercarpet": [
           {
            "marker": {
             "colorbar": {
              "outlinewidth": 0,
              "ticks": ""
             }
            },
            "type": "scattercarpet"
           }
          ],
          "scattergeo": [
           {
            "marker": {
             "colorbar": {
              "outlinewidth": 0,
              "ticks": ""
             }
            },
            "type": "scattergeo"
           }
          ],
          "scattergl": [
           {
            "marker": {
             "colorbar": {
              "outlinewidth": 0,
              "ticks": ""
             }
            },
            "type": "scattergl"
           }
          ],
          "scattermapbox": [
           {
            "marker": {
             "colorbar": {
              "outlinewidth": 0,
              "ticks": ""
             }
            },
            "type": "scattermapbox"
           }
          ],
          "scatterpolar": [
           {
            "marker": {
             "colorbar": {
              "outlinewidth": 0,
              "ticks": ""
             }
            },
            "type": "scatterpolar"
           }
          ],
          "scatterpolargl": [
           {
            "marker": {
             "colorbar": {
              "outlinewidth": 0,
              "ticks": ""
             }
            },
            "type": "scatterpolargl"
           }
          ],
          "scatterternary": [
           {
            "marker": {
             "colorbar": {
              "outlinewidth": 0,
              "ticks": ""
             }
            },
            "type": "scatterternary"
           }
          ],
          "surface": [
           {
            "colorbar": {
             "outlinewidth": 0,
             "ticks": ""
            },
            "colorscale": [
             [
              0,
              "#0d0887"
             ],
             [
              0.1111111111111111,
              "#46039f"
             ],
             [
              0.2222222222222222,
              "#7201a8"
             ],
             [
              0.3333333333333333,
              "#9c179e"
             ],
             [
              0.4444444444444444,
              "#bd3786"
             ],
             [
              0.5555555555555556,
              "#d8576b"
             ],
             [
              0.6666666666666666,
              "#ed7953"
             ],
             [
              0.7777777777777778,
              "#fb9f3a"
             ],
             [
              0.8888888888888888,
              "#fdca26"
             ],
             [
              1,
              "#f0f921"
             ]
            ],
            "type": "surface"
           }
          ],
          "table": [
           {
            "cells": {
             "fill": {
              "color": "#EBF0F8"
             },
             "line": {
              "color": "white"
             }
            },
            "header": {
             "fill": {
              "color": "#C8D4E3"
             },
             "line": {
              "color": "white"
             }
            },
            "type": "table"
           }
          ]
         },
         "layout": {
          "annotationdefaults": {
           "arrowcolor": "#2a3f5f",
           "arrowhead": 0,
           "arrowwidth": 1
          },
          "autotypenumbers": "strict",
          "coloraxis": {
           "colorbar": {
            "outlinewidth": 0,
            "ticks": ""
           }
          },
          "colorscale": {
           "diverging": [
            [
             0,
             "#8e0152"
            ],
            [
             0.1,
             "#c51b7d"
            ],
            [
             0.2,
             "#de77ae"
            ],
            [
             0.3,
             "#f1b6da"
            ],
            [
             0.4,
             "#fde0ef"
            ],
            [
             0.5,
             "#f7f7f7"
            ],
            [
             0.6,
             "#e6f5d0"
            ],
            [
             0.7,
             "#b8e186"
            ],
            [
             0.8,
             "#7fbc41"
            ],
            [
             0.9,
             "#4d9221"
            ],
            [
             1,
             "#276419"
            ]
           ],
           "sequential": [
            [
             0,
             "#0d0887"
            ],
            [
             0.1111111111111111,
             "#46039f"
            ],
            [
             0.2222222222222222,
             "#7201a8"
            ],
            [
             0.3333333333333333,
             "#9c179e"
            ],
            [
             0.4444444444444444,
             "#bd3786"
            ],
            [
             0.5555555555555556,
             "#d8576b"
            ],
            [
             0.6666666666666666,
             "#ed7953"
            ],
            [
             0.7777777777777778,
             "#fb9f3a"
            ],
            [
             0.8888888888888888,
             "#fdca26"
            ],
            [
             1,
             "#f0f921"
            ]
           ],
           "sequentialminus": [
            [
             0,
             "#0d0887"
            ],
            [
             0.1111111111111111,
             "#46039f"
            ],
            [
             0.2222222222222222,
             "#7201a8"
            ],
            [
             0.3333333333333333,
             "#9c179e"
            ],
            [
             0.4444444444444444,
             "#bd3786"
            ],
            [
             0.5555555555555556,
             "#d8576b"
            ],
            [
             0.6666666666666666,
             "#ed7953"
            ],
            [
             0.7777777777777778,
             "#fb9f3a"
            ],
            [
             0.8888888888888888,
             "#fdca26"
            ],
            [
             1,
             "#f0f921"
            ]
           ]
          },
          "colorway": [
           "#636efa",
           "#EF553B",
           "#00cc96",
           "#ab63fa",
           "#FFA15A",
           "#19d3f3",
           "#FF6692",
           "#B6E880",
           "#FF97FF",
           "#FECB52"
          ],
          "font": {
           "color": "#2a3f5f"
          },
          "geo": {
           "bgcolor": "white",
           "lakecolor": "white",
           "landcolor": "#E5ECF6",
           "showlakes": true,
           "showland": true,
           "subunitcolor": "white"
          },
          "hoverlabel": {
           "align": "left"
          },
          "hovermode": "closest",
          "mapbox": {
           "style": "light"
          },
          "paper_bgcolor": "white",
          "plot_bgcolor": "#E5ECF6",
          "polar": {
           "angularaxis": {
            "gridcolor": "white",
            "linecolor": "white",
            "ticks": ""
           },
           "bgcolor": "#E5ECF6",
           "radialaxis": {
            "gridcolor": "white",
            "linecolor": "white",
            "ticks": ""
           }
          },
          "scene": {
           "xaxis": {
            "backgroundcolor": "#E5ECF6",
            "gridcolor": "white",
            "gridwidth": 2,
            "linecolor": "white",
            "showbackground": true,
            "ticks": "",
            "zerolinecolor": "white"
           },
           "yaxis": {
            "backgroundcolor": "#E5ECF6",
            "gridcolor": "white",
            "gridwidth": 2,
            "linecolor": "white",
            "showbackground": true,
            "ticks": "",
            "zerolinecolor": "white"
           },
           "zaxis": {
            "backgroundcolor": "#E5ECF6",
            "gridcolor": "white",
            "gridwidth": 2,
            "linecolor": "white",
            "showbackground": true,
            "ticks": "",
            "zerolinecolor": "white"
           }
          },
          "shapedefaults": {
           "line": {
            "color": "#2a3f5f"
           }
          },
          "ternary": {
           "aaxis": {
            "gridcolor": "white",
            "linecolor": "white",
            "ticks": ""
           },
           "baxis": {
            "gridcolor": "white",
            "linecolor": "white",
            "ticks": ""
           },
           "bgcolor": "#E5ECF6",
           "caxis": {
            "gridcolor": "white",
            "linecolor": "white",
            "ticks": ""
           }
          },
          "title": {
           "x": 0.05
          },
          "xaxis": {
           "automargin": true,
           "gridcolor": "white",
           "linecolor": "white",
           "ticks": "",
           "title": {
            "standoff": 15
           },
           "zerolinecolor": "white",
           "zerolinewidth": 2
          },
          "yaxis": {
           "automargin": true,
           "gridcolor": "white",
           "linecolor": "white",
           "ticks": "",
           "title": {
            "standoff": 15
           },
           "zerolinecolor": "white",
           "zerolinewidth": 2
          }
         }
        },
        "title": {
         "text": "Ürün Adlarına Göre Ortalama Fiyatlar"
        },
        "xaxis": {
         "anchor": "y",
         "domain": [
          0,
          1
         ],
         "title": {
          "text": "urun_ad"
         }
        },
        "yaxis": {
         "anchor": "x",
         "domain": [
          0,
          1
         ],
         "title": {
          "text": "ortalama_fiyat"
         }
        }
       }
      }
     },
     "metadata": {},
     "output_type": "display_data"
    }
   ],
   "source": [
    "# Gruplama ve ortalama hesaplama işlemi\n",
    "sonuclar = hal.groupby('urun_ad').agg({'urun_ad': 'count', 'ortalama_fiyat': 'mean'})\n",
    "\n",
    "# Sütun adlarını düzenleyelim\n",
    "sonuclar.columns = ['adet', 'ortalama_fiyat']\n",
    "\n",
    "# 'urun_ad' sütununu da ekleyelim\n",
    "sonuclar['urun_ad'] = sonuclar.index\n",
    "\n",
    "# Sıralama için indeksi sıfırlayalım\n",
    "sonuclar.reset_index(drop=True, inplace=True)\n",
    "\n",
    "# Sütunları yeniden düzenleyelim\n",
    "sonuclar = sonuclar[['urun_ad', 'adet', 'ortalama_fiyat']]\n",
    "\n",
    "# Çubuk grafiği oluşturalım\n",
    "fig = px.bar(sonuclar, x='urun_ad', y='ortalama_fiyat', title='Ürün Adlarına Göre Ortalama Fiyatlar')\n",
    "\n",
    "\n",
    "fig.show()"
   ]
  },
  {
   "cell_type": "markdown",
   "metadata": {},
   "source": [
    "AYKIRI GOZLEM BOXPLOT GRAFIGI\n"
   ]
  },
  {
   "cell_type": "code",
   "execution_count": null,
   "metadata": {},
   "outputs": [
    {
     "data": {
      "text/plain": [
       "0    20.207469\n",
       "1     8.181808\n",
       "2    15.526820\n",
       "3    24.504808\n",
       "4     1.581433\n",
       "Name: ortalama_fiyat, dtype: float64"
      ]
     },
     "execution_count": 99,
     "metadata": {},
     "output_type": "execute_result"
    }
   ],
   "source": [
    "df_table = adet_grafigi[\"ortalama_fiyat\"]\n",
    "df_table.head()"
   ]
  },
  {
   "cell_type": "code",
   "execution_count": null,
   "metadata": {},
   "outputs": [
    {
     "name": "stdout",
     "output_type": "stream",
     "text": [
      "4             ARMUT( Ankara )\n",
      "6                     AVAKADO\n",
      "7                        AYVA\n",
      "12                    BROKOLİ\n",
      "13                BİBER (Cin)\n",
      "14              BİBER (Dolma)\n",
      "17                BİBER (Kıl)\n",
      "18              BİBER (Sivri)\n",
      "19              BİBER (Çarli)\n",
      "22     BİBER Salçalık (Kapya)\n",
      "26             DERE OTU (Bağ)\n",
      "28         DOMATES (Muhtelif)\n",
      "30           DOMATES (Salkım)\n",
      "34             DOMATES (Çeri)\n",
      "37              EKŞİ OT (Bağ)\n",
      "40              ELMA (Golden)\n",
      "43            ELMA (Muhtelif)\n",
      "44            ELMA (Starking)\n",
      "52            ERİK (Muhtelif)\n",
      "53         FASULYE (Muhtelif)\n",
      "55        FESLEĞEN(REYHAN)Bağ\n",
      "57                   GREYFURT\n",
      "58                      HAVUÇ\n",
      "61     HİNDİSTAN CEVİZİ(Adet)\n",
      "62                    ISPANAK\n",
      "63                KABAK (Bal)\n",
      "64              KABAK (Beyaz)\n",
      "65               KABAK (Kara)\n",
      "67                 KARNABAHAR\n",
      "68          KARPUZ (Muhtelif)\n",
      "70           KAVUN (Muhtelif)\n",
      "74                    KEREVİZ\n",
      "81                       KİVİ\n",
      "83             LAHANA (Beyaz)\n",
      "85               LAHANA (Mor)\n",
      "94            MANTAR (Kültür)\n",
      "95        MARUL (Aysberk)Adet\n",
      "96            MARUL (Mor)Adet\n",
      "97       MARUL (Muhtelif)Adet\n",
      "99             MAYDONOZ (Bağ)\n",
      "102               MUZ (Yerli)\n",
      "103               MUZ (İthal)\n",
      "105                 NANE(Bağ)\n",
      "111                   PATATES\n",
      "114          PATLICAN (Kemer)\n",
      "115          PATLICAN (Topak)\n",
      "118                    PIRASA\n",
      "121       PORTAKAL (Muhtelif)\n",
      "124                 ROKA(Bağ)\n",
      "127      SALATALIK (Muhtelif)\n",
      "128         SALATALIK (Silor)\n",
      "130           SARIMSAK (Kuru)\n",
      "132            SEMİZ OTU(Bağ)\n",
      "134          SOGAN  ( Yeşil )\n",
      "136              SOGAN (Kuru)\n",
      "139                      TERE\n",
      "141        TURP (  Muhtelif )\n",
      "150                     ÇİLEK\n",
      "151           ÜZÜM (Muhtelif)\n",
      "Name: urun_ad, dtype: object\n"
     ]
    }
   ],
   "source": [
    "sonuclar_yuksek_adet = sonuclar[sonuclar['adet'] >= 1000]['urun_ad']\n",
    "print(sonuclar_yuksek_adet)\n",
    "\n",
    "binden_yuksekler = hal[hal['urun_ad'].isin(sonuclar_yuksek_adet)]\n",
    "\n",
    "binden_yuksekler.to_csv('binden_yuksekler.csv', index=False)\n"
   ]
  },
  {
   "cell_type": "markdown",
   "metadata": {},
   "source": [
    "# 1000'den Dusuk Urunler Icin Adet Grafigi"
   ]
  },
  {
   "cell_type": "code",
   "execution_count": null,
   "metadata": {},
   "outputs": [],
   "source": [
    "# CSV dosyasını oku\n",
    "dusuk = pd.read_csv(\"binden_dusukler.csv\")\n",
    "\n",
    "# Belirli ürün adlarına ait satırları filtrele\n",
    "filtre = adet_grafigi['urun_ad'].isin(hedef_urunler)\n",
    "sonuclar = adet_grafigi[filtre]\n",
    "\n",
    "# Çubuk grafiği oluştur\n",
    "fig = px.bar(sonuclar, x='urun_ad', y='adet', color = 'urun_ad', title='Bazi Ürün Adlarına Göre Adetler')\n",
    "\n",
    "#Grafiği göster\n",
    "fig.show()\n",
    "\n",
    "# fig.write_image('bazi_urun_adlarina_gore_adetler.png')"
   ]
  },
  {
   "cell_type": "code",
   "execution_count": 64,
   "metadata": {},
   "outputs": [
    {
     "name": "stdout",
     "output_type": "stream",
     "text": [
      "0                    ANANAS\n",
      "1            ARMUT (Deveci)\n",
      "2          ARMUT (Muhtelif)\n",
      "3      ARMUT (Santa Marina)\n",
      "5              ASMA YAPRAĞI\n",
      "               ...         \n",
      "154         İNCİR ( Beyaz )\n",
      "155         İNCİR ( Siyah )\n",
      "156      ŞEFTALİ (Muhtelif)\n",
      "157       ŞEFTALİ (Nektari)\n",
      "158           ŞEFTALİ YERLİ\n",
      "Name: urun_ad, Length: 100, dtype: object\n"
     ]
    }
   ],
   "source": [
    "sonuclar_dusuk_adet = sonuclar[sonuclar['adet'] <= 1000]['urun_ad']\n",
    "print(sonuclar_dusuk_adet)\n",
    "\n",
    "binden_dusukler = hal[hal['urun_ad'].isin(sonuclar_dusuk_adet)]\n",
    "\n",
    "binden_dusukler.to_csv('binden_dusukler.csv', index=False)"
   ]
  },
  {
   "cell_type": "code",
   "execution_count": null,
   "metadata": {},
   "outputs": [
    {
     "name": "stdout",
     "output_type": "stream",
     "text": [
      "Unique Değerler:\n",
      "['ARMUT( Ankara )' 'AVAKADO' 'AYVA' 'BROKOLİ' 'BİBER (Cin)'\n",
      " 'BİBER (Dolma)' 'BİBER (Kıl)' 'BİBER (Sivri)' 'BİBER (Çarli)'\n",
      " 'BİBER Salçalık (Kapya)' 'DERE OTU (Bağ)' 'DOMATES (Muhtelif)'\n",
      " 'DOMATES (Salkım)' 'DOMATES (Çeri)' 'EKŞİ OT (Bağ)' 'ELMA (Golden)'\n",
      " 'ELMA (Muhtelif)' 'ELMA (Starking)' 'ERİK (Muhtelif)'\n",
      " 'FASULYE (Muhtelif)' 'FESLEĞEN(REYHAN)Bağ' 'GREYFURT' 'HAVUÇ'\n",
      " 'HİNDİSTAN CEVİZİ(Adet)' 'ISPANAK' 'KABAK (Bal)' 'KABAK (Beyaz)'\n",
      " 'KABAK (Kara)' 'KARNABAHAR' 'KARPUZ (Muhtelif)' 'KAVUN (Muhtelif)'\n",
      " 'KEREVİZ' 'KİVİ' 'LAHANA (Beyaz)' 'LAHANA (Mor)' 'MANTAR (Kültür)'\n",
      " 'MARUL (Aysberk)Adet' 'MARUL (Mor)Adet' 'MARUL (Muhtelif)Adet'\n",
      " 'MAYDONOZ (Bağ)' 'MUZ (Yerli)' 'MUZ (İthal)' 'NANE(Bağ)' 'PATATES'\n",
      " 'PATLICAN (Kemer)' 'PATLICAN (Topak)' 'PIRASA' 'PORTAKAL (Muhtelif)'\n",
      " 'ROKA(Bağ)' 'SALATALIK (Muhtelif)' 'SALATALIK (Silor)' 'SARIMSAK (Kuru)'\n",
      " 'SEMİZ OTU(Bağ)' 'SOGAN  ( Yeşil )' 'SOGAN (Kuru)' 'TERE'\n",
      " 'TURP (  Muhtelif )' 'ÇİLEK' 'ÜZÜM (Muhtelif)']\n",
      "\n",
      "Değer Sayıları:\n",
      "urun_ad\n",
      "ARMUT( Ankara )           1\n",
      "PATLICAN (Kemer)          1\n",
      "KİVİ                      1\n",
      "LAHANA (Beyaz)            1\n",
      "LAHANA (Mor)              1\n",
      "MANTAR (Kültür)           1\n",
      "MARUL (Aysberk)Adet       1\n",
      "MARUL (Mor)Adet           1\n",
      "MARUL (Muhtelif)Adet      1\n",
      "MAYDONOZ (Bağ)            1\n",
      "MUZ (Yerli)               1\n",
      "MUZ (İthal)               1\n",
      "NANE(Bağ)                 1\n",
      "PATATES                   1\n",
      "PATLICAN (Topak)          1\n",
      "KAVUN (Muhtelif)          1\n",
      "PIRASA                    1\n",
      "PORTAKAL (Muhtelif)       1\n",
      "ROKA(Bağ)                 1\n",
      "SALATALIK (Muhtelif)      1\n",
      "SALATALIK (Silor)         1\n",
      "SARIMSAK (Kuru)           1\n",
      "SEMİZ OTU(Bağ)            1\n",
      "SOGAN  ( Yeşil )          1\n",
      "SOGAN (Kuru)              1\n",
      "TERE                      1\n",
      "TURP (  Muhtelif )        1\n",
      "ÇİLEK                     1\n",
      "KEREVİZ                   1\n",
      "KARPUZ (Muhtelif)         1\n",
      "AVAKADO                   1\n",
      "EKŞİ OT (Bağ)             1\n",
      "AYVA                      1\n",
      "BROKOLİ                   1\n",
      "BİBER (Cin)               1\n",
      "BİBER (Dolma)             1\n",
      "BİBER (Kıl)               1\n",
      "BİBER (Sivri)             1\n",
      "BİBER (Çarli)             1\n",
      "BİBER Salçalık (Kapya)    1\n",
      "DERE OTU (Bağ)            1\n",
      "DOMATES (Muhtelif)        1\n",
      "DOMATES (Salkım)          1\n",
      "DOMATES (Çeri)            1\n",
      "ELMA (Golden)             1\n",
      "KARNABAHAR                1\n",
      "ELMA (Muhtelif)           1\n",
      "ELMA (Starking)           1\n",
      "ERİK (Muhtelif)           1\n",
      "FASULYE (Muhtelif)        1\n",
      "FESLEĞEN(REYHAN)Bağ       1\n",
      "GREYFURT                  1\n",
      "HAVUÇ                     1\n",
      "HİNDİSTAN CEVİZİ(Adet)    1\n",
      "ISPANAK                   1\n",
      "KABAK (Bal)               1\n",
      "KABAK (Beyaz)             1\n",
      "KABAK (Kara)              1\n",
      "ÜZÜM (Muhtelif)           1\n",
      "Name: count, dtype: int64\n"
     ]
    }
   ],
   "source": [
    "sonuclar_yuksek_adet = sonuclar[sonuclar['adet'] >= 1000]['urun_ad']\n",
    "unique_values = sonuclar_yuksek_adet.unique()\n",
    "value_counts = sonuclar_yuksek_adet.value_counts()\n",
    "\n",
    "print(\"Unique Değerler:\")\n",
    "print(unique_values)\n",
    "\n",
    "print(\"\\nDeğer Sayıları:\")\n",
    "print(value_counts)"
   ]
  },
  {
   "cell_type": "code",
   "execution_count": null,
   "metadata": {},
   "outputs": [
    {
     "name": "stdout",
     "output_type": "stream",
     "text": [
      "Farklı ürün adı sayısı: 59\n"
     ]
    }
   ],
   "source": [
    "urun_adlari = [\n",
    "    'ARMUT( Ankara )', 'AVAKADO', 'AYVA', 'BROKOLİ', 'BİBER (Cin)',\n",
    "    'BİBER (Dolma)', 'BİBER (Kıl)', 'BİBER (Sivri)', 'BİBER (Çarli)',\n",
    "    'BİBER Salçalık (Kapya)', 'DERE OTU (Bağ)', 'DOMATES (Muhtelif)',\n",
    "    'DOMATES (Salkım)', 'DOMATES (Çeri)', 'EKŞİ OT (Bağ)', 'ELMA (Golden)',\n",
    "    'ELMA (Muhtelif)', 'ELMA (Starking)', 'ERİK (Muhtelif)',\n",
    "    'FASULYE (Muhtelif)', 'FESLEĞEN(REYHAN)Bağ', 'GREYFURT', 'HAVUÇ',\n",
    "    'HİNDİSTAN CEVİZİ(Adet)', 'ISPANAK', 'KABAK (Bal)', 'KABAK (Beyaz)',\n",
    "    'KABAK (Kara)', 'KARNABAHAR', 'KARPUZ (Muhtelif)', 'KAVUN (Muhtelif)',\n",
    "    'KEREVİZ', 'KİVİ', 'LAHANA (Beyaz)', 'LAHANA (Mor)', 'MANTAR (Kültür)',\n",
    "    'MARUL (Aysberk)Adet', 'MARUL (Mor)Adet', 'MARUL (Muhtelif)Adet',\n",
    "    'MAYDONOZ (Bağ)', 'MUZ (Yerli)', 'MUZ (İthal)', 'NANE(Bağ)', 'PATATES',\n",
    "    'PATLICAN (Kemer)', 'PATLICAN (Topak)', 'PIRASA', 'PORTAKAL (Muhtelif)',\n",
    "    'ROKA(Bağ)', 'SALATALIK (Muhtelif)', 'SALATALIK (Silor)', 'SARIMSAK (Kuru)',\n",
    "    'SEMİZ OTU(Bağ)', 'SOGAN  ( Yeşil )', 'SOGAN (Kuru)', 'TERE',\n",
    "    'TURP (  Muhtelif )', 'ÇİLEK', 'ÜZÜM (Muhtelif)'\n",
    "]\n",
    "\n",
    "# Kaç farklı ürün adı olduğunu bulma\n",
    "farkli_urun_sayisi = len(set(urun_adlari))\n",
    "\n",
    "print(f\"Farklı ürün adı sayısı: {farkli_urun_sayisi}\")"
   ]
  }
 ],
 "metadata": {
  "kernelspec": {
   "display_name": "Python 3",
   "language": "python",
   "name": "python3"
  },
  "language_info": {
   "codemirror_mode": {
    "name": "ipython",
    "version": 3
   },
   "file_extension": ".py",
   "mimetype": "text/x-python",
   "name": "python",
   "nbconvert_exporter": "python",
   "pygments_lexer": "ipython3",
   "version": "3.9.0"
  }
 },
 "nbformat": 4,
 "nbformat_minor": 2
}
