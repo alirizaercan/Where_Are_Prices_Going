{
 "cells": [
  {
   "cell_type": "code",
   "execution_count": 1,
   "metadata": {},
   "outputs": [],
   "source": [
    "import numpy as np\n",
    "import pandas as pd\n",
    "import matplotlib.pyplot as plt\n",
    "import seaborn as sns\n",
    "from collections import Counter"
   ]
  },
  {
   "cell_type": "code",
   "execution_count": 19,
   "metadata": {},
   "outputs": [
    {
     "data": {
      "text/html": [
       "<div>\n",
       "<style scoped>\n",
       "    .dataframe tbody tr th:only-of-type {\n",
       "        vertical-align: middle;\n",
       "    }\n",
       "\n",
       "    .dataframe tbody tr th {\n",
       "        vertical-align: top;\n",
       "    }\n",
       "\n",
       "    .dataframe thead th {\n",
       "        text-align: right;\n",
       "    }\n",
       "</style>\n",
       "<table border=\"1\" class=\"dataframe\">\n",
       "  <thead>\n",
       "    <tr style=\"text-align: right;\">\n",
       "      <th></th>\n",
       "      <th>_id</th>\n",
       "      <th>tarih</th>\n",
       "      <th>urun_ad</th>\n",
       "      <th>birim</th>\n",
       "      <th>tur</th>\n",
       "      <th>en_dusuk_fiyat</th>\n",
       "      <th>en_yuksek_fiyat</th>\n",
       "      <th>ortalama_fiyat</th>\n",
       "    </tr>\n",
       "  </thead>\n",
       "  <tbody>\n",
       "    <tr>\n",
       "      <th>0</th>\n",
       "      <td>635</td>\n",
       "      <td>2004-06-24T00:00:00</td>\n",
       "      <td>KİRAZ (Beyaz)</td>\n",
       "      <td>Kg</td>\n",
       "      <td>1</td>\n",
       "      <td>0.0</td>\n",
       "      <td>0.20</td>\n",
       "      <td>0.100</td>\n",
       "    </tr>\n",
       "    <tr>\n",
       "      <th>1</th>\n",
       "      <td>674</td>\n",
       "      <td>2004-06-29T00:00:00</td>\n",
       "      <td>KİRAZ (Beyaz)</td>\n",
       "      <td>Kg</td>\n",
       "      <td>1</td>\n",
       "      <td>0.0</td>\n",
       "      <td>0.16</td>\n",
       "      <td>0.080</td>\n",
       "    </tr>\n",
       "    <tr>\n",
       "      <th>2</th>\n",
       "      <td>715</td>\n",
       "      <td>2004-07-01T00:00:00</td>\n",
       "      <td>KİRAZ (Beyaz)</td>\n",
       "      <td>Kg</td>\n",
       "      <td>1</td>\n",
       "      <td>0.0</td>\n",
       "      <td>0.20</td>\n",
       "      <td>0.100</td>\n",
       "    </tr>\n",
       "    <tr>\n",
       "      <th>3</th>\n",
       "      <td>751</td>\n",
       "      <td>2004-07-05T00:00:00</td>\n",
       "      <td>KİRAZ (Beyaz)</td>\n",
       "      <td>Kg</td>\n",
       "      <td>1</td>\n",
       "      <td>0.0</td>\n",
       "      <td>0.17</td>\n",
       "      <td>0.085</td>\n",
       "    </tr>\n",
       "    <tr>\n",
       "      <th>4</th>\n",
       "      <td>792</td>\n",
       "      <td>2004-07-08T00:00:00</td>\n",
       "      <td>KİRAZ (Beyaz)</td>\n",
       "      <td>Kg</td>\n",
       "      <td>1</td>\n",
       "      <td>0.0</td>\n",
       "      <td>0.23</td>\n",
       "      <td>0.115</td>\n",
       "    </tr>\n",
       "    <tr>\n",
       "      <th>...</th>\n",
       "      <td>...</td>\n",
       "      <td>...</td>\n",
       "      <td>...</td>\n",
       "      <td>...</td>\n",
       "      <td>...</td>\n",
       "      <td>...</td>\n",
       "      <td>...</td>\n",
       "      <td>...</td>\n",
       "    </tr>\n",
       "    <tr>\n",
       "      <th>2694</th>\n",
       "      <td>121806</td>\n",
       "      <td>2023-12-25T00:00:00</td>\n",
       "      <td>ERİK ( Anjelika )</td>\n",
       "      <td>Kg</td>\n",
       "      <td>1</td>\n",
       "      <td>45.0</td>\n",
       "      <td>65.00</td>\n",
       "      <td>55.000</td>\n",
       "    </tr>\n",
       "    <tr>\n",
       "      <th>2695</th>\n",
       "      <td>121811</td>\n",
       "      <td>2023-12-25T00:00:00</td>\n",
       "      <td>LİMON (File )</td>\n",
       "      <td>Kg</td>\n",
       "      <td>1</td>\n",
       "      <td>7.0</td>\n",
       "      <td>12.00</td>\n",
       "      <td>9.500</td>\n",
       "    </tr>\n",
       "    <tr>\n",
       "      <th>2696</th>\n",
       "      <td>121815</td>\n",
       "      <td>2023-12-25T00:00:00</td>\n",
       "      <td>PORTAKAL (Sıkmalık )</td>\n",
       "      <td>Kg</td>\n",
       "      <td>1</td>\n",
       "      <td>5.0</td>\n",
       "      <td>10.00</td>\n",
       "      <td>7.500</td>\n",
       "    </tr>\n",
       "    <tr>\n",
       "      <th>2697</th>\n",
       "      <td>121820</td>\n",
       "      <td>2023-12-25T00:00:00</td>\n",
       "      <td>KİVİ (İthal )</td>\n",
       "      <td>Kg</td>\n",
       "      <td>1</td>\n",
       "      <td>60.0</td>\n",
       "      <td>90.00</td>\n",
       "      <td>75.000</td>\n",
       "    </tr>\n",
       "    <tr>\n",
       "      <th>2698</th>\n",
       "      <td>121836</td>\n",
       "      <td>2023-12-25T00:00:00</td>\n",
       "      <td>ELMA (Arjantin)</td>\n",
       "      <td>Kg</td>\n",
       "      <td>1</td>\n",
       "      <td>20.0</td>\n",
       "      <td>32.00</td>\n",
       "      <td>26.000</td>\n",
       "    </tr>\n",
       "  </tbody>\n",
       "</table>\n",
       "<p>2699 rows × 8 columns</p>\n",
       "</div>"
      ],
      "text/plain": [
       "         _id                tarih               urun_ad birim  tur  \\\n",
       "0        635  2004-06-24T00:00:00         KİRAZ (Beyaz)    Kg    1   \n",
       "1        674  2004-06-29T00:00:00         KİRAZ (Beyaz)    Kg    1   \n",
       "2        715  2004-07-01T00:00:00         KİRAZ (Beyaz)    Kg    1   \n",
       "3        751  2004-07-05T00:00:00         KİRAZ (Beyaz)    Kg    1   \n",
       "4        792  2004-07-08T00:00:00         KİRAZ (Beyaz)    Kg    1   \n",
       "...      ...                  ...                   ...   ...  ...   \n",
       "2694  121806  2023-12-25T00:00:00     ERİK ( Anjelika )    Kg    1   \n",
       "2695  121811  2023-12-25T00:00:00         LİMON (File )    Kg    1   \n",
       "2696  121815  2023-12-25T00:00:00  PORTAKAL (Sıkmalık )    Kg    1   \n",
       "2697  121820  2023-12-25T00:00:00         KİVİ (İthal )    Kg    1   \n",
       "2698  121836  2023-12-25T00:00:00       ELMA (Arjantin)    Kg    1   \n",
       "\n",
       "      en_dusuk_fiyat  en_yuksek_fiyat  ortalama_fiyat  \n",
       "0                0.0             0.20           0.100  \n",
       "1                0.0             0.16           0.080  \n",
       "2                0.0             0.20           0.100  \n",
       "3                0.0             0.17           0.085  \n",
       "4                0.0             0.23           0.115  \n",
       "...              ...              ...             ...  \n",
       "2694            45.0            65.00          55.000  \n",
       "2695             7.0            12.00           9.500  \n",
       "2696             5.0            10.00           7.500  \n",
       "2697            60.0            90.00          75.000  \n",
       "2698            20.0            32.00          26.000  \n",
       "\n",
       "[2699 rows x 8 columns]"
      ]
     },
     "execution_count": 19,
     "metadata": {},
     "output_type": "execute_result"
    }
   ],
   "source": [
    "nonuseful = pd.read_csv(\"kullanilmayacak_hal_fiyatlari.csv\")\n",
    "nonuseful"
   ]
  },
  {
   "cell_type": "code",
   "execution_count": 20,
   "metadata": {},
   "outputs": [
    {
     "data": {
      "text/plain": [
       "_id                  int64\n",
       "tarih               object\n",
       "urun_ad             object\n",
       "birim               object\n",
       "tur                  int64\n",
       "en_dusuk_fiyat     float64\n",
       "en_yuksek_fiyat    float64\n",
       "ortalama_fiyat     float64\n",
       "dtype: object"
      ]
     },
     "execution_count": 20,
     "metadata": {},
     "output_type": "execute_result"
    }
   ],
   "source": [
    "nonuseful.dtypes"
   ]
  },
  {
   "cell_type": "code",
   "execution_count": 21,
   "metadata": {},
   "outputs": [
    {
     "data": {
      "text/html": [
       "<div>\n",
       "<style scoped>\n",
       "    .dataframe tbody tr th:only-of-type {\n",
       "        vertical-align: middle;\n",
       "    }\n",
       "\n",
       "    .dataframe tbody tr th {\n",
       "        vertical-align: top;\n",
       "    }\n",
       "\n",
       "    .dataframe thead th {\n",
       "        text-align: right;\n",
       "    }\n",
       "</style>\n",
       "<table border=\"1\" class=\"dataframe\">\n",
       "  <thead>\n",
       "    <tr style=\"text-align: right;\">\n",
       "      <th></th>\n",
       "      <th>count</th>\n",
       "      <th>mean</th>\n",
       "      <th>std</th>\n",
       "      <th>min</th>\n",
       "      <th>25%</th>\n",
       "      <th>50%</th>\n",
       "      <th>75%</th>\n",
       "      <th>max</th>\n",
       "    </tr>\n",
       "  </thead>\n",
       "  <tbody>\n",
       "    <tr>\n",
       "      <th>_id</th>\n",
       "      <td>2699.0</td>\n",
       "      <td>81462.429048</td>\n",
       "      <td>34502.477732</td>\n",
       "      <td>635.0</td>\n",
       "      <td>53799.5</td>\n",
       "      <td>88179.0</td>\n",
       "      <td>114060.5</td>\n",
       "      <td>121836.0</td>\n",
       "    </tr>\n",
       "    <tr>\n",
       "      <th>tur</th>\n",
       "      <td>2699.0</td>\n",
       "      <td>0.629492</td>\n",
       "      <td>0.483030</td>\n",
       "      <td>0.0</td>\n",
       "      <td>0.0</td>\n",
       "      <td>1.0</td>\n",
       "      <td>1.0</td>\n",
       "      <td>1.0</td>\n",
       "    </tr>\n",
       "    <tr>\n",
       "      <th>en_dusuk_fiyat</th>\n",
       "      <td>2699.0</td>\n",
       "      <td>7.727858</td>\n",
       "      <td>14.591948</td>\n",
       "      <td>0.0</td>\n",
       "      <td>1.0</td>\n",
       "      <td>2.5</td>\n",
       "      <td>10.0</td>\n",
       "      <td>110.0</td>\n",
       "    </tr>\n",
       "    <tr>\n",
       "      <th>en_yuksek_fiyat</th>\n",
       "      <td>2699.0</td>\n",
       "      <td>12.496054</td>\n",
       "      <td>19.212245</td>\n",
       "      <td>0.0</td>\n",
       "      <td>2.0</td>\n",
       "      <td>5.0</td>\n",
       "      <td>16.0</td>\n",
       "      <td>130.0</td>\n",
       "    </tr>\n",
       "    <tr>\n",
       "      <th>ortalama_fiyat</th>\n",
       "      <td>2699.0</td>\n",
       "      <td>10.111956</td>\n",
       "      <td>16.817672</td>\n",
       "      <td>0.0</td>\n",
       "      <td>1.5</td>\n",
       "      <td>3.5</td>\n",
       "      <td>12.5</td>\n",
       "      <td>120.0</td>\n",
       "    </tr>\n",
       "  </tbody>\n",
       "</table>\n",
       "</div>"
      ],
      "text/plain": [
       "                  count          mean           std    min      25%      50%  \\\n",
       "_id              2699.0  81462.429048  34502.477732  635.0  53799.5  88179.0   \n",
       "tur              2699.0      0.629492      0.483030    0.0      0.0      1.0   \n",
       "en_dusuk_fiyat   2699.0      7.727858     14.591948    0.0      1.0      2.5   \n",
       "en_yuksek_fiyat  2699.0     12.496054     19.212245    0.0      2.0      5.0   \n",
       "ortalama_fiyat   2699.0     10.111956     16.817672    0.0      1.5      3.5   \n",
       "\n",
       "                      75%       max  \n",
       "_id              114060.5  121836.0  \n",
       "tur                   1.0       1.0  \n",
       "en_dusuk_fiyat       10.0     110.0  \n",
       "en_yuksek_fiyat      16.0     130.0  \n",
       "ortalama_fiyat       12.5     120.0  "
      ]
     },
     "execution_count": 21,
     "metadata": {},
     "output_type": "execute_result"
    }
   ],
   "source": [
    "nonuseful.describe().T"
   ]
  },
  {
   "cell_type": "code",
   "execution_count": 22,
   "metadata": {},
   "outputs": [
    {
     "data": {
      "text/plain": [
       "(2699, 8)"
      ]
     },
     "execution_count": 22,
     "metadata": {},
     "output_type": "execute_result"
    }
   ],
   "source": [
    "nonuseful.shape"
   ]
  },
  {
   "cell_type": "code",
   "execution_count": 23,
   "metadata": {},
   "outputs": [
    {
     "name": "stdout",
     "output_type": "stream",
     "text": [
      "Satır Sayısı: 2699\n"
     ]
    }
   ],
   "source": [
    "satir_sayisi = nonuseful.shape[0]\n",
    "\n",
    "print(\"Satır Sayısı:\", satir_sayisi)"
   ]
  },
  {
   "cell_type": "code",
   "execution_count": 24,
   "metadata": {},
   "outputs": [
    {
     "name": "stdout",
     "output_type": "stream",
     "text": [
      "\n",
      "Fiyatlar Ortalama:\n",
      "birim  urun_ad              \n",
      "Demet  SEMİZ OTU(Bağ) yerli       1.282500\n",
      "Kg     ARMUT (Santa Marina)      24.504808\n",
      "       BİBER (II)                 1.434211\n",
      "       BİBER Çarli (Yerli)        1.732888\n",
      "       DOMATES (Salkım Kutu)     25.685714\n",
      "       Domates 2                  6.250000\n",
      "       ELMA (Arjantin)            5.292857\n",
      "       ELMA (Granny Smith)       18.572816\n",
      "       ELMA (II)                  0.974324\n",
      "       ELMA (YERLİ) Muhtelif      4.000000\n",
      "       ELMA (YEŞİL)               5.000000\n",
      "       ERİK ( Anjelika )         25.929530\n",
      "       ERİK (Freze)              17.000000\n",
      "       FINDIK TAZE                4.120690\n",
      "       KARPUZ (İthal)             3.797917\n",
      "       KAVUN (İthal)             10.534091\n",
      "       KAYISI (Yerli)             5.195946\n",
      "       KIZILCIK                   4.500000\n",
      "       KİRAZ (Beyaz)              1.009897\n",
      "       KİRAZ (Napolyon )         32.142857\n",
      "       KİVİ (İthal )            108.333333\n",
      "       LİMON (File )              9.586538\n",
      "       LİMON (II)                 2.412963\n",
      "       MANDALİN (II)              1.719231\n",
      "       NEKTARİ                   20.278571\n",
      "       NOHUT (Taze)               1.643216\n",
      "       PATATES (taze)             3.914474\n",
      "       PORTAKAL (II)              0.621667\n",
      "       PORTAKAL (Sıkmalık )       9.070588\n",
      "       SALATALIK (II)             0.915385\n",
      "       SOGAN (Göğer)              5.145055\n",
      "       SOĞAN (II)                 0.830952\n",
      "       TURP KIRMIZI (yerli)       1.479167\n",
      "       VİŞNE                     18.562500\n",
      "       VİŞNE (yerli)              3.056977\n",
      "       soğan yeşil (yerli)        3.550676\n",
      "       ÇAĞLA                     10.170673\n",
      "       İNCİR ( Siyah )           54.233333\n",
      "       ŞEFTALİ YERLİ              5.000000\n",
      "Name: ortalama_fiyat, dtype: float64\n"
     ]
    }
   ],
   "source": [
    "# \"ortalama_fiyat\" sütunu var mı kontrol et\n",
    "if 'ortalama_fiyat' in nonuseful.columns:\n",
    "    # \"birim\" ve \"urun_ad\" sütunlarına göre fiyatları toplayın\n",
    "    # fiyatlar_toplam = nonuseful.groupby([\"birim\", \"urun_ad\"])[\"ortalama_fiyat\"].sum()\n",
    "\n",
    "    # \"birim\" ve \"urun_ad\" sütunlarına göre fiyatların ortalamasını alın\n",
    "    fiyatlar_ortalama = nonuseful.groupby([\"birim\", \"urun_ad\"])[\"ortalama_fiyat\"].mean()\n",
    "\n",
    "    # Sonuçları yazdırın\n",
    "    # print(\"Fiyatlar Toplam:\")\n",
    "    # print(fiyatlar_toplam)\n",
    "\n",
    "    print(\"\\nFiyatlar Ortalama:\")\n",
    "    print(fiyatlar_ortalama)\n",
    "else:\n",
    "    print(\"Veri setinde 'ortalama_fiyat' sütunu bulunamadı.\")"
   ]
  },
  {
   "cell_type": "markdown",
   "metadata": {},
   "source": [
    "KULLANILMAMIS VERILERIN ADET VE AD GRAFIGI"
   ]
  },
  {
   "cell_type": "code",
   "execution_count": 25,
   "metadata": {},
   "outputs": [
    {
     "name": "stdout",
     "output_type": "stream",
     "text": [
      "Urun Ad: NOHUT (Taze), Adet: 199\n",
      "Urun Ad: KİRAZ (Beyaz), Adet: 194\n",
      "Urun Ad: BİBER Çarli (Yerli), Adet: 187\n",
      "Urun Ad: SOGAN (Göğer), Adet: 182\n",
      "Urun Ad: FINDIK TAZE, Adet: 174\n",
      "Urun Ad: VİŞNE (yerli), Adet: 172\n",
      "Urun Ad: ERİK ( Anjelika ), Adet: 149\n",
      "Urun Ad: NEKTARİ, Adet: 140\n",
      "Urun Ad: ELMA (II), Adet: 111\n",
      "Urun Ad: ELMA (Arjantin), Adet: 105\n",
      "Urun Ad: ÇAĞLA, Adet: 104\n",
      "Urun Ad: LİMON (File ), Adet: 104\n",
      "Urun Ad: ARMUT (Santa Marina), Adet: 104\n",
      "Urun Ad: ELMA (Granny Smith), Adet: 103\n",
      "Urun Ad: PORTAKAL (Sıkmalık ), Adet: 85\n",
      "Urun Ad: soğan yeşil (yerli), Adet: 74\n",
      "Urun Ad: DOMATES (Salkım Kutu), Adet: 70\n",
      "Urun Ad: KİVİ (İthal ), Adet: 45\n",
      "Urun Ad: SEMİZ OTU(Bağ) yerli, Adet: 40\n",
      "Urun Ad: PATATES (taze), Adet: 38\n",
      "Urun Ad: BİBER (II), Adet: 38\n",
      "Urun Ad: KAYISI (Yerli), Adet: 37\n",
      "Urun Ad: PORTAKAL (II), Adet: 30\n",
      "Urun Ad: LİMON (II), Adet: 27\n",
      "Urun Ad: SALATALIK (II), Adet: 26\n",
      "Urun Ad: TURP KIRMIZI (yerli), Adet: 24\n",
      "Urun Ad: KARPUZ (İthal), Adet: 24\n",
      "Urun Ad: KAVUN (İthal), Adet: 22\n",
      "Urun Ad: KİRAZ (Napolyon ), Adet: 21\n",
      "Urun Ad: SOĞAN (II), Adet: 21\n",
      "Urun Ad: İNCİR ( Siyah ), Adet: 15\n",
      "Urun Ad: MANDALİN (II), Adet: 13\n",
      "Urun Ad: VİŞNE, Adet: 8\n",
      "Urun Ad: ELMA (YERLİ) Muhtelif, Adet: 3\n",
      "Urun Ad: KIZILCIK, Adet: 3\n",
      "Urun Ad: ŞEFTALİ YERLİ, Adet: 2\n",
      "Urun Ad: Domates 2, Adet: 2\n",
      "Urun Ad: ERİK (Freze), Adet: 2\n",
      "Urun Ad: ELMA (YEŞİL), Adet: 1\n"
     ]
    }
   ],
   "source": [
    "threshold = 0\n",
    "\n",
    "# \"urun_ad\" sütunundaki benzersiz değerleri ve sayılarını kontrol edin\n",
    "unique_values = nonuseful['urun_ad'].value_counts()\n",
    "\n",
    "# Eşik değerini aşmayanları filtreleyin\n",
    "below_threshold_values = unique_values[unique_values > threshold]\n",
    "\n",
    "# Eşik değerinin altında olan \"urun_ad\" değerlerini ve sayılarını ekrana yazdırın\n",
    "for urun_ad, count in below_threshold_values.items():\n",
    "    print(f\"Urun Ad: {urun_ad}, Adet: {count}\")\n",
    "\n"
   ]
  },
  {
   "cell_type": "code",
   "execution_count": 26,
   "metadata": {},
   "outputs": [
    {
     "name": "stdout",
     "output_type": "stream",
     "text": [
      "                  urun_ad  adet  ortalama_fiyat\n",
      "0    ARMUT (Santa Marina)   104       24.504808\n",
      "1              BİBER (II)    38        1.434211\n",
      "2     BİBER Çarli (Yerli)   187        1.732888\n",
      "3   DOMATES (Salkım Kutu)    70       25.685714\n",
      "4               Domates 2     2        6.250000\n",
      "5         ELMA (Arjantin)   105        5.292857\n",
      "6     ELMA (Granny Smith)   103       18.572816\n",
      "7               ELMA (II)   111        0.974324\n",
      "8   ELMA (YERLİ) Muhtelif     3        4.000000\n",
      "9            ELMA (YEŞİL)     1        5.000000\n",
      "10      ERİK ( Anjelika )   149       25.929530\n",
      "11           ERİK (Freze)     2       17.000000\n",
      "12            FINDIK TAZE   174        4.120690\n",
      "13         KARPUZ (İthal)    24        3.797917\n",
      "14          KAVUN (İthal)    22       10.534091\n",
      "15         KAYISI (Yerli)    37        5.195946\n",
      "16               KIZILCIK     3        4.500000\n",
      "17          KİRAZ (Beyaz)   194        1.009897\n",
      "18      KİRAZ (Napolyon )    21       32.142857\n",
      "19          KİVİ (İthal )    45      108.333333\n",
      "20          LİMON (File )   104        9.586538\n",
      "21             LİMON (II)    27        2.412963\n",
      "22          MANDALİN (II)    13        1.719231\n",
      "23                NEKTARİ   140       20.278571\n",
      "24           NOHUT (Taze)   199        1.643216\n",
      "25         PATATES (taze)    38        3.914474\n",
      "26          PORTAKAL (II)    30        0.621667\n",
      "27   PORTAKAL (Sıkmalık )    85        9.070588\n",
      "28         SALATALIK (II)    26        0.915385\n",
      "29   SEMİZ OTU(Bağ) yerli    40        1.282500\n",
      "30          SOGAN (Göğer)   182        5.145055\n",
      "31             SOĞAN (II)    21        0.830952\n",
      "32   TURP KIRMIZI (yerli)    24        1.479167\n",
      "33                  VİŞNE     8       18.562500\n",
      "34          VİŞNE (yerli)   172        3.056977\n",
      "35    soğan yeşil (yerli)    74        3.550676\n",
      "36                  ÇAĞLA   104       10.170673\n",
      "37        İNCİR ( Siyah )    15       54.233333\n",
      "38          ŞEFTALİ YERLİ     2        5.000000\n"
     ]
    }
   ],
   "source": [
    "sonuclar = nonuseful.groupby('urun_ad').agg({'urun_ad': 'count', 'ortalama_fiyat': 'mean'})\n",
    "\n",
    "# Sütun adlarını düzenleyelim\n",
    "sonuclar.columns = ['adet', 'ortalama_fiyat']\n",
    "\n",
    "# 'urun_ad' sütununu da ekleyelim\n",
    "sonuclar['urun_ad'] = sonuclar.index\n",
    "\n",
    "# Sıralama için indeksi sıfırlayalım\n",
    "sonuclar.reset_index(drop=True, inplace=True)\n",
    "\n",
    "# Sütunları yeniden düzenleyelim\n",
    "sonuclar = sonuclar[['urun_ad', 'adet', 'ortalama_fiyat']]\n",
    "\n",
    "# Sonucu yazdıralım\n",
    "print(sonuclar)"
   ]
  },
  {
   "cell_type": "code",
   "execution_count": 27,
   "metadata": {},
   "outputs": [],
   "source": [
    "sonuclar.to_csv(\"nonuseful_hal_fiyatlari.csv\", index=False)"
   ]
  },
  {
   "cell_type": "code",
   "execution_count": 34,
   "metadata": {},
   "outputs": [
    {
     "data": {
      "application/vnd.plotly.v1+json": {
       "config": {
        "plotlyServerURL": "https://plot.ly"
       },
       "data": [
        {
         "alignmentgroup": "True",
         "hovertemplate": "urun_ad=%{x}<br>adet=%{y}<extra></extra>",
         "legendgroup": "ARMUT (Santa Marina)",
         "marker": {
          "color": "#636efa",
          "pattern": {
           "shape": ""
          }
         },
         "name": "ARMUT (Santa Marina)",
         "offsetgroup": "ARMUT (Santa Marina)",
         "orientation": "v",
         "showlegend": true,
         "textposition": "auto",
         "type": "bar",
         "x": [
          "ARMUT (Santa Marina)"
         ],
         "xaxis": "x",
         "y": [
          104
         ],
         "yaxis": "y"
        },
        {
         "alignmentgroup": "True",
         "hovertemplate": "urun_ad=%{x}<br>adet=%{y}<extra></extra>",
         "legendgroup": "BİBER (II)",
         "marker": {
          "color": "#EF553B",
          "pattern": {
           "shape": ""
          }
         },
         "name": "BİBER (II)",
         "offsetgroup": "BİBER (II)",
         "orientation": "v",
         "showlegend": true,
         "textposition": "auto",
         "type": "bar",
         "x": [
          "BİBER (II)"
         ],
         "xaxis": "x",
         "y": [
          38
         ],
         "yaxis": "y"
        },
        {
         "alignmentgroup": "True",
         "hovertemplate": "urun_ad=%{x}<br>adet=%{y}<extra></extra>",
         "legendgroup": "BİBER Çarli (Yerli)",
         "marker": {
          "color": "#00cc96",
          "pattern": {
           "shape": ""
          }
         },
         "name": "BİBER Çarli (Yerli)",
         "offsetgroup": "BİBER Çarli (Yerli)",
         "orientation": "v",
         "showlegend": true,
         "textposition": "auto",
         "type": "bar",
         "x": [
          "BİBER Çarli (Yerli)"
         ],
         "xaxis": "x",
         "y": [
          187
         ],
         "yaxis": "y"
        },
        {
         "alignmentgroup": "True",
         "hovertemplate": "urun_ad=%{x}<br>adet=%{y}<extra></extra>",
         "legendgroup": "DOMATES (Salkım Kutu)",
         "marker": {
          "color": "#ab63fa",
          "pattern": {
           "shape": ""
          }
         },
         "name": "DOMATES (Salkım Kutu)",
         "offsetgroup": "DOMATES (Salkım Kutu)",
         "orientation": "v",
         "showlegend": true,
         "textposition": "auto",
         "type": "bar",
         "x": [
          "DOMATES (Salkım Kutu)"
         ],
         "xaxis": "x",
         "y": [
          70
         ],
         "yaxis": "y"
        },
        {
         "alignmentgroup": "True",
         "hovertemplate": "urun_ad=%{x}<br>adet=%{y}<extra></extra>",
         "legendgroup": "Domates 2",
         "marker": {
          "color": "#FFA15A",
          "pattern": {
           "shape": ""
          }
         },
         "name": "Domates 2",
         "offsetgroup": "Domates 2",
         "orientation": "v",
         "showlegend": true,
         "textposition": "auto",
         "type": "bar",
         "x": [
          "Domates 2"
         ],
         "xaxis": "x",
         "y": [
          2
         ],
         "yaxis": "y"
        },
        {
         "alignmentgroup": "True",
         "hovertemplate": "urun_ad=%{x}<br>adet=%{y}<extra></extra>",
         "legendgroup": "ELMA (Arjantin)",
         "marker": {
          "color": "#19d3f3",
          "pattern": {
           "shape": ""
          }
         },
         "name": "ELMA (Arjantin)",
         "offsetgroup": "ELMA (Arjantin)",
         "orientation": "v",
         "showlegend": true,
         "textposition": "auto",
         "type": "bar",
         "x": [
          "ELMA (Arjantin)"
         ],
         "xaxis": "x",
         "y": [
          105
         ],
         "yaxis": "y"
        },
        {
         "alignmentgroup": "True",
         "hovertemplate": "urun_ad=%{x}<br>adet=%{y}<extra></extra>",
         "legendgroup": "ELMA (Granny Smith)",
         "marker": {
          "color": "#FF6692",
          "pattern": {
           "shape": ""
          }
         },
         "name": "ELMA (Granny Smith)",
         "offsetgroup": "ELMA (Granny Smith)",
         "orientation": "v",
         "showlegend": true,
         "textposition": "auto",
         "type": "bar",
         "x": [
          "ELMA (Granny Smith)"
         ],
         "xaxis": "x",
         "y": [
          103
         ],
         "yaxis": "y"
        },
        {
         "alignmentgroup": "True",
         "hovertemplate": "urun_ad=%{x}<br>adet=%{y}<extra></extra>",
         "legendgroup": "ELMA (II)",
         "marker": {
          "color": "#B6E880",
          "pattern": {
           "shape": ""
          }
         },
         "name": "ELMA (II)",
         "offsetgroup": "ELMA (II)",
         "orientation": "v",
         "showlegend": true,
         "textposition": "auto",
         "type": "bar",
         "x": [
          "ELMA (II)"
         ],
         "xaxis": "x",
         "y": [
          111
         ],
         "yaxis": "y"
        },
        {
         "alignmentgroup": "True",
         "hovertemplate": "urun_ad=%{x}<br>adet=%{y}<extra></extra>",
         "legendgroup": "ELMA (YERLİ) Muhtelif",
         "marker": {
          "color": "#FF97FF",
          "pattern": {
           "shape": ""
          }
         },
         "name": "ELMA (YERLİ) Muhtelif",
         "offsetgroup": "ELMA (YERLİ) Muhtelif",
         "orientation": "v",
         "showlegend": true,
         "textposition": "auto",
         "type": "bar",
         "x": [
          "ELMA (YERLİ) Muhtelif"
         ],
         "xaxis": "x",
         "y": [
          3
         ],
         "yaxis": "y"
        },
        {
         "alignmentgroup": "True",
         "hovertemplate": "urun_ad=%{x}<br>adet=%{y}<extra></extra>",
         "legendgroup": "ELMA (YEŞİL)",
         "marker": {
          "color": "#FECB52",
          "pattern": {
           "shape": ""
          }
         },
         "name": "ELMA (YEŞİL)",
         "offsetgroup": "ELMA (YEŞİL)",
         "orientation": "v",
         "showlegend": true,
         "textposition": "auto",
         "type": "bar",
         "x": [
          "ELMA (YEŞİL)"
         ],
         "xaxis": "x",
         "y": [
          1
         ],
         "yaxis": "y"
        },
        {
         "alignmentgroup": "True",
         "hovertemplate": "urun_ad=%{x}<br>adet=%{y}<extra></extra>",
         "legendgroup": "ERİK ( Anjelika )",
         "marker": {
          "color": "#636efa",
          "pattern": {
           "shape": ""
          }
         },
         "name": "ERİK ( Anjelika )",
         "offsetgroup": "ERİK ( Anjelika )",
         "orientation": "v",
         "showlegend": true,
         "textposition": "auto",
         "type": "bar",
         "x": [
          "ERİK ( Anjelika )"
         ],
         "xaxis": "x",
         "y": [
          149
         ],
         "yaxis": "y"
        },
        {
         "alignmentgroup": "True",
         "hovertemplate": "urun_ad=%{x}<br>adet=%{y}<extra></extra>",
         "legendgroup": "ERİK (Freze)",
         "marker": {
          "color": "#EF553B",
          "pattern": {
           "shape": ""
          }
         },
         "name": "ERİK (Freze)",
         "offsetgroup": "ERİK (Freze)",
         "orientation": "v",
         "showlegend": true,
         "textposition": "auto",
         "type": "bar",
         "x": [
          "ERİK (Freze)"
         ],
         "xaxis": "x",
         "y": [
          2
         ],
         "yaxis": "y"
        },
        {
         "alignmentgroup": "True",
         "hovertemplate": "urun_ad=%{x}<br>adet=%{y}<extra></extra>",
         "legendgroup": "FINDIK TAZE",
         "marker": {
          "color": "#00cc96",
          "pattern": {
           "shape": ""
          }
         },
         "name": "FINDIK TAZE",
         "offsetgroup": "FINDIK TAZE",
         "orientation": "v",
         "showlegend": true,
         "textposition": "auto",
         "type": "bar",
         "x": [
          "FINDIK TAZE"
         ],
         "xaxis": "x",
         "y": [
          174
         ],
         "yaxis": "y"
        },
        {
         "alignmentgroup": "True",
         "hovertemplate": "urun_ad=%{x}<br>adet=%{y}<extra></extra>",
         "legendgroup": "KARPUZ (İthal)",
         "marker": {
          "color": "#ab63fa",
          "pattern": {
           "shape": ""
          }
         },
         "name": "KARPUZ (İthal)",
         "offsetgroup": "KARPUZ (İthal)",
         "orientation": "v",
         "showlegend": true,
         "textposition": "auto",
         "type": "bar",
         "x": [
          "KARPUZ (İthal)"
         ],
         "xaxis": "x",
         "y": [
          24
         ],
         "yaxis": "y"
        },
        {
         "alignmentgroup": "True",
         "hovertemplate": "urun_ad=%{x}<br>adet=%{y}<extra></extra>",
         "legendgroup": "KAVUN (İthal)",
         "marker": {
          "color": "#FFA15A",
          "pattern": {
           "shape": ""
          }
         },
         "name": "KAVUN (İthal)",
         "offsetgroup": "KAVUN (İthal)",
         "orientation": "v",
         "showlegend": true,
         "textposition": "auto",
         "type": "bar",
         "x": [
          "KAVUN (İthal)"
         ],
         "xaxis": "x",
         "y": [
          22
         ],
         "yaxis": "y"
        },
        {
         "alignmentgroup": "True",
         "hovertemplate": "urun_ad=%{x}<br>adet=%{y}<extra></extra>",
         "legendgroup": "KAYISI (Yerli)",
         "marker": {
          "color": "#19d3f3",
          "pattern": {
           "shape": ""
          }
         },
         "name": "KAYISI (Yerli)",
         "offsetgroup": "KAYISI (Yerli)",
         "orientation": "v",
         "showlegend": true,
         "textposition": "auto",
         "type": "bar",
         "x": [
          "KAYISI (Yerli)"
         ],
         "xaxis": "x",
         "y": [
          37
         ],
         "yaxis": "y"
        },
        {
         "alignmentgroup": "True",
         "hovertemplate": "urun_ad=%{x}<br>adet=%{y}<extra></extra>",
         "legendgroup": "KIZILCIK",
         "marker": {
          "color": "#FF6692",
          "pattern": {
           "shape": ""
          }
         },
         "name": "KIZILCIK",
         "offsetgroup": "KIZILCIK",
         "orientation": "v",
         "showlegend": true,
         "textposition": "auto",
         "type": "bar",
         "x": [
          "KIZILCIK"
         ],
         "xaxis": "x",
         "y": [
          3
         ],
         "yaxis": "y"
        },
        {
         "alignmentgroup": "True",
         "hovertemplate": "urun_ad=%{x}<br>adet=%{y}<extra></extra>",
         "legendgroup": "KİRAZ (Beyaz)",
         "marker": {
          "color": "#B6E880",
          "pattern": {
           "shape": ""
          }
         },
         "name": "KİRAZ (Beyaz)",
         "offsetgroup": "KİRAZ (Beyaz)",
         "orientation": "v",
         "showlegend": true,
         "textposition": "auto",
         "type": "bar",
         "x": [
          "KİRAZ (Beyaz)"
         ],
         "xaxis": "x",
         "y": [
          194
         ],
         "yaxis": "y"
        },
        {
         "alignmentgroup": "True",
         "hovertemplate": "urun_ad=%{x}<br>adet=%{y}<extra></extra>",
         "legendgroup": "KİRAZ (Napolyon )",
         "marker": {
          "color": "#FF97FF",
          "pattern": {
           "shape": ""
          }
         },
         "name": "KİRAZ (Napolyon )",
         "offsetgroup": "KİRAZ (Napolyon )",
         "orientation": "v",
         "showlegend": true,
         "textposition": "auto",
         "type": "bar",
         "x": [
          "KİRAZ (Napolyon )"
         ],
         "xaxis": "x",
         "y": [
          21
         ],
         "yaxis": "y"
        },
        {
         "alignmentgroup": "True",
         "hovertemplate": "urun_ad=%{x}<br>adet=%{y}<extra></extra>",
         "legendgroup": "KİVİ (İthal )",
         "marker": {
          "color": "#FECB52",
          "pattern": {
           "shape": ""
          }
         },
         "name": "KİVİ (İthal )",
         "offsetgroup": "KİVİ (İthal )",
         "orientation": "v",
         "showlegend": true,
         "textposition": "auto",
         "type": "bar",
         "x": [
          "KİVİ (İthal )"
         ],
         "xaxis": "x",
         "y": [
          45
         ],
         "yaxis": "y"
        },
        {
         "alignmentgroup": "True",
         "hovertemplate": "urun_ad=%{x}<br>adet=%{y}<extra></extra>",
         "legendgroup": "LİMON (File )",
         "marker": {
          "color": "#636efa",
          "pattern": {
           "shape": ""
          }
         },
         "name": "LİMON (File )",
         "offsetgroup": "LİMON (File )",
         "orientation": "v",
         "showlegend": true,
         "textposition": "auto",
         "type": "bar",
         "x": [
          "LİMON (File )"
         ],
         "xaxis": "x",
         "y": [
          104
         ],
         "yaxis": "y"
        },
        {
         "alignmentgroup": "True",
         "hovertemplate": "urun_ad=%{x}<br>adet=%{y}<extra></extra>",
         "legendgroup": "LİMON (II)",
         "marker": {
          "color": "#EF553B",
          "pattern": {
           "shape": ""
          }
         },
         "name": "LİMON (II)",
         "offsetgroup": "LİMON (II)",
         "orientation": "v",
         "showlegend": true,
         "textposition": "auto",
         "type": "bar",
         "x": [
          "LİMON (II)"
         ],
         "xaxis": "x",
         "y": [
          27
         ],
         "yaxis": "y"
        },
        {
         "alignmentgroup": "True",
         "hovertemplate": "urun_ad=%{x}<br>adet=%{y}<extra></extra>",
         "legendgroup": "MANDALİN (II)",
         "marker": {
          "color": "#00cc96",
          "pattern": {
           "shape": ""
          }
         },
         "name": "MANDALİN (II)",
         "offsetgroup": "MANDALİN (II)",
         "orientation": "v",
         "showlegend": true,
         "textposition": "auto",
         "type": "bar",
         "x": [
          "MANDALİN (II)"
         ],
         "xaxis": "x",
         "y": [
          13
         ],
         "yaxis": "y"
        },
        {
         "alignmentgroup": "True",
         "hovertemplate": "urun_ad=%{x}<br>adet=%{y}<extra></extra>",
         "legendgroup": "NEKTARİ",
         "marker": {
          "color": "#ab63fa",
          "pattern": {
           "shape": ""
          }
         },
         "name": "NEKTARİ",
         "offsetgroup": "NEKTARİ",
         "orientation": "v",
         "showlegend": true,
         "textposition": "auto",
         "type": "bar",
         "x": [
          "NEKTARİ"
         ],
         "xaxis": "x",
         "y": [
          140
         ],
         "yaxis": "y"
        },
        {
         "alignmentgroup": "True",
         "hovertemplate": "urun_ad=%{x}<br>adet=%{y}<extra></extra>",
         "legendgroup": "NOHUT (Taze)",
         "marker": {
          "color": "#FFA15A",
          "pattern": {
           "shape": ""
          }
         },
         "name": "NOHUT (Taze)",
         "offsetgroup": "NOHUT (Taze)",
         "orientation": "v",
         "showlegend": true,
         "textposition": "auto",
         "type": "bar",
         "x": [
          "NOHUT (Taze)"
         ],
         "xaxis": "x",
         "y": [
          199
         ],
         "yaxis": "y"
        },
        {
         "alignmentgroup": "True",
         "hovertemplate": "urun_ad=%{x}<br>adet=%{y}<extra></extra>",
         "legendgroup": "PATATES (taze)",
         "marker": {
          "color": "#19d3f3",
          "pattern": {
           "shape": ""
          }
         },
         "name": "PATATES (taze)",
         "offsetgroup": "PATATES (taze)",
         "orientation": "v",
         "showlegend": true,
         "textposition": "auto",
         "type": "bar",
         "x": [
          "PATATES (taze)"
         ],
         "xaxis": "x",
         "y": [
          38
         ],
         "yaxis": "y"
        },
        {
         "alignmentgroup": "True",
         "hovertemplate": "urun_ad=%{x}<br>adet=%{y}<extra></extra>",
         "legendgroup": "PORTAKAL (II)",
         "marker": {
          "color": "#FF6692",
          "pattern": {
           "shape": ""
          }
         },
         "name": "PORTAKAL (II)",
         "offsetgroup": "PORTAKAL (II)",
         "orientation": "v",
         "showlegend": true,
         "textposition": "auto",
         "type": "bar",
         "x": [
          "PORTAKAL (II)"
         ],
         "xaxis": "x",
         "y": [
          30
         ],
         "yaxis": "y"
        },
        {
         "alignmentgroup": "True",
         "hovertemplate": "urun_ad=%{x}<br>adet=%{y}<extra></extra>",
         "legendgroup": "PORTAKAL (Sıkmalık )",
         "marker": {
          "color": "#B6E880",
          "pattern": {
           "shape": ""
          }
         },
         "name": "PORTAKAL (Sıkmalık )",
         "offsetgroup": "PORTAKAL (Sıkmalık )",
         "orientation": "v",
         "showlegend": true,
         "textposition": "auto",
         "type": "bar",
         "x": [
          "PORTAKAL (Sıkmalık )"
         ],
         "xaxis": "x",
         "y": [
          85
         ],
         "yaxis": "y"
        },
        {
         "alignmentgroup": "True",
         "hovertemplate": "urun_ad=%{x}<br>adet=%{y}<extra></extra>",
         "legendgroup": "SALATALIK (II)",
         "marker": {
          "color": "#FF97FF",
          "pattern": {
           "shape": ""
          }
         },
         "name": "SALATALIK (II)",
         "offsetgroup": "SALATALIK (II)",
         "orientation": "v",
         "showlegend": true,
         "textposition": "auto",
         "type": "bar",
         "x": [
          "SALATALIK (II)"
         ],
         "xaxis": "x",
         "y": [
          26
         ],
         "yaxis": "y"
        },
        {
         "alignmentgroup": "True",
         "hovertemplate": "urun_ad=%{x}<br>adet=%{y}<extra></extra>",
         "legendgroup": "SEMİZ OTU(Bağ) yerli",
         "marker": {
          "color": "#FECB52",
          "pattern": {
           "shape": ""
          }
         },
         "name": "SEMİZ OTU(Bağ) yerli",
         "offsetgroup": "SEMİZ OTU(Bağ) yerli",
         "orientation": "v",
         "showlegend": true,
         "textposition": "auto",
         "type": "bar",
         "x": [
          "SEMİZ OTU(Bağ) yerli"
         ],
         "xaxis": "x",
         "y": [
          40
         ],
         "yaxis": "y"
        },
        {
         "alignmentgroup": "True",
         "hovertemplate": "urun_ad=%{x}<br>adet=%{y}<extra></extra>",
         "legendgroup": "SOGAN (Göğer)",
         "marker": {
          "color": "#636efa",
          "pattern": {
           "shape": ""
          }
         },
         "name": "SOGAN (Göğer)",
         "offsetgroup": "SOGAN (Göğer)",
         "orientation": "v",
         "showlegend": true,
         "textposition": "auto",
         "type": "bar",
         "x": [
          "SOGAN (Göğer)"
         ],
         "xaxis": "x",
         "y": [
          182
         ],
         "yaxis": "y"
        },
        {
         "alignmentgroup": "True",
         "hovertemplate": "urun_ad=%{x}<br>adet=%{y}<extra></extra>",
         "legendgroup": "SOĞAN (II)",
         "marker": {
          "color": "#EF553B",
          "pattern": {
           "shape": ""
          }
         },
         "name": "SOĞAN (II)",
         "offsetgroup": "SOĞAN (II)",
         "orientation": "v",
         "showlegend": true,
         "textposition": "auto",
         "type": "bar",
         "x": [
          "SOĞAN (II)"
         ],
         "xaxis": "x",
         "y": [
          21
         ],
         "yaxis": "y"
        },
        {
         "alignmentgroup": "True",
         "hovertemplate": "urun_ad=%{x}<br>adet=%{y}<extra></extra>",
         "legendgroup": "TURP KIRMIZI (yerli)",
         "marker": {
          "color": "#00cc96",
          "pattern": {
           "shape": ""
          }
         },
         "name": "TURP KIRMIZI (yerli)",
         "offsetgroup": "TURP KIRMIZI (yerli)",
         "orientation": "v",
         "showlegend": true,
         "textposition": "auto",
         "type": "bar",
         "x": [
          "TURP KIRMIZI (yerli)"
         ],
         "xaxis": "x",
         "y": [
          24
         ],
         "yaxis": "y"
        },
        {
         "alignmentgroup": "True",
         "hovertemplate": "urun_ad=%{x}<br>adet=%{y}<extra></extra>",
         "legendgroup": "VİŞNE",
         "marker": {
          "color": "#ab63fa",
          "pattern": {
           "shape": ""
          }
         },
         "name": "VİŞNE",
         "offsetgroup": "VİŞNE",
         "orientation": "v",
         "showlegend": true,
         "textposition": "auto",
         "type": "bar",
         "x": [
          "VİŞNE"
         ],
         "xaxis": "x",
         "y": [
          8
         ],
         "yaxis": "y"
        },
        {
         "alignmentgroup": "True",
         "hovertemplate": "urun_ad=%{x}<br>adet=%{y}<extra></extra>",
         "legendgroup": "VİŞNE (yerli)",
         "marker": {
          "color": "#FFA15A",
          "pattern": {
           "shape": ""
          }
         },
         "name": "VİŞNE (yerli)",
         "offsetgroup": "VİŞNE (yerli)",
         "orientation": "v",
         "showlegend": true,
         "textposition": "auto",
         "type": "bar",
         "x": [
          "VİŞNE (yerli)"
         ],
         "xaxis": "x",
         "y": [
          172
         ],
         "yaxis": "y"
        },
        {
         "alignmentgroup": "True",
         "hovertemplate": "urun_ad=%{x}<br>adet=%{y}<extra></extra>",
         "legendgroup": "soğan yeşil (yerli)",
         "marker": {
          "color": "#19d3f3",
          "pattern": {
           "shape": ""
          }
         },
         "name": "soğan yeşil (yerli)",
         "offsetgroup": "soğan yeşil (yerli)",
         "orientation": "v",
         "showlegend": true,
         "textposition": "auto",
         "type": "bar",
         "x": [
          "soğan yeşil (yerli)"
         ],
         "xaxis": "x",
         "y": [
          74
         ],
         "yaxis": "y"
        },
        {
         "alignmentgroup": "True",
         "hovertemplate": "urun_ad=%{x}<br>adet=%{y}<extra></extra>",
         "legendgroup": "ÇAĞLA",
         "marker": {
          "color": "#FF6692",
          "pattern": {
           "shape": ""
          }
         },
         "name": "ÇAĞLA",
         "offsetgroup": "ÇAĞLA",
         "orientation": "v",
         "showlegend": true,
         "textposition": "auto",
         "type": "bar",
         "x": [
          "ÇAĞLA"
         ],
         "xaxis": "x",
         "y": [
          104
         ],
         "yaxis": "y"
        },
        {
         "alignmentgroup": "True",
         "hovertemplate": "urun_ad=%{x}<br>adet=%{y}<extra></extra>",
         "legendgroup": "İNCİR ( Siyah )",
         "marker": {
          "color": "#B6E880",
          "pattern": {
           "shape": ""
          }
         },
         "name": "İNCİR ( Siyah )",
         "offsetgroup": "İNCİR ( Siyah )",
         "orientation": "v",
         "showlegend": true,
         "textposition": "auto",
         "type": "bar",
         "x": [
          "İNCİR ( Siyah )"
         ],
         "xaxis": "x",
         "y": [
          15
         ],
         "yaxis": "y"
        },
        {
         "alignmentgroup": "True",
         "hovertemplate": "urun_ad=%{x}<br>adet=%{y}<extra></extra>",
         "legendgroup": "ŞEFTALİ YERLİ",
         "marker": {
          "color": "#FF97FF",
          "pattern": {
           "shape": ""
          }
         },
         "name": "ŞEFTALİ YERLİ",
         "offsetgroup": "ŞEFTALİ YERLİ",
         "orientation": "v",
         "showlegend": true,
         "textposition": "auto",
         "type": "bar",
         "x": [
          "ŞEFTALİ YERLİ"
         ],
         "xaxis": "x",
         "y": [
          2
         ],
         "yaxis": "y"
        }
       ],
       "layout": {
        "barmode": "relative",
        "legend": {
         "title": {
          "text": "urun_ad"
         },
         "tracegroupgap": 0
        },
        "template": {
         "data": {
          "bar": [
           {
            "error_x": {
             "color": "#2a3f5f"
            },
            "error_y": {
             "color": "#2a3f5f"
            },
            "marker": {
             "line": {
              "color": "#E5ECF6",
              "width": 0.5
             },
             "pattern": {
              "fillmode": "overlay",
              "size": 10,
              "solidity": 0.2
             }
            },
            "type": "bar"
           }
          ],
          "barpolar": [
           {
            "marker": {
             "line": {
              "color": "#E5ECF6",
              "width": 0.5
             },
             "pattern": {
              "fillmode": "overlay",
              "size": 10,
              "solidity": 0.2
             }
            },
            "type": "barpolar"
           }
          ],
          "carpet": [
           {
            "aaxis": {
             "endlinecolor": "#2a3f5f",
             "gridcolor": "white",
             "linecolor": "white",
             "minorgridcolor": "white",
             "startlinecolor": "#2a3f5f"
            },
            "baxis": {
             "endlinecolor": "#2a3f5f",
             "gridcolor": "white",
             "linecolor": "white",
             "minorgridcolor": "white",
             "startlinecolor": "#2a3f5f"
            },
            "type": "carpet"
           }
          ],
          "choropleth": [
           {
            "colorbar": {
             "outlinewidth": 0,
             "ticks": ""
            },
            "type": "choropleth"
           }
          ],
          "contour": [
           {
            "colorbar": {
             "outlinewidth": 0,
             "ticks": ""
            },
            "colorscale": [
             [
              0,
              "#0d0887"
             ],
             [
              0.1111111111111111,
              "#46039f"
             ],
             [
              0.2222222222222222,
              "#7201a8"
             ],
             [
              0.3333333333333333,
              "#9c179e"
             ],
             [
              0.4444444444444444,
              "#bd3786"
             ],
             [
              0.5555555555555556,
              "#d8576b"
             ],
             [
              0.6666666666666666,
              "#ed7953"
             ],
             [
              0.7777777777777778,
              "#fb9f3a"
             ],
             [
              0.8888888888888888,
              "#fdca26"
             ],
             [
              1,
              "#f0f921"
             ]
            ],
            "type": "contour"
           }
          ],
          "contourcarpet": [
           {
            "colorbar": {
             "outlinewidth": 0,
             "ticks": ""
            },
            "type": "contourcarpet"
           }
          ],
          "heatmap": [
           {
            "colorbar": {
             "outlinewidth": 0,
             "ticks": ""
            },
            "colorscale": [
             [
              0,
              "#0d0887"
             ],
             [
              0.1111111111111111,
              "#46039f"
             ],
             [
              0.2222222222222222,
              "#7201a8"
             ],
             [
              0.3333333333333333,
              "#9c179e"
             ],
             [
              0.4444444444444444,
              "#bd3786"
             ],
             [
              0.5555555555555556,
              "#d8576b"
             ],
             [
              0.6666666666666666,
              "#ed7953"
             ],
             [
              0.7777777777777778,
              "#fb9f3a"
             ],
             [
              0.8888888888888888,
              "#fdca26"
             ],
             [
              1,
              "#f0f921"
             ]
            ],
            "type": "heatmap"
           }
          ],
          "heatmapgl": [
           {
            "colorbar": {
             "outlinewidth": 0,
             "ticks": ""
            },
            "colorscale": [
             [
              0,
              "#0d0887"
             ],
             [
              0.1111111111111111,
              "#46039f"
             ],
             [
              0.2222222222222222,
              "#7201a8"
             ],
             [
              0.3333333333333333,
              "#9c179e"
             ],
             [
              0.4444444444444444,
              "#bd3786"
             ],
             [
              0.5555555555555556,
              "#d8576b"
             ],
             [
              0.6666666666666666,
              "#ed7953"
             ],
             [
              0.7777777777777778,
              "#fb9f3a"
             ],
             [
              0.8888888888888888,
              "#fdca26"
             ],
             [
              1,
              "#f0f921"
             ]
            ],
            "type": "heatmapgl"
           }
          ],
          "histogram": [
           {
            "marker": {
             "pattern": {
              "fillmode": "overlay",
              "size": 10,
              "solidity": 0.2
             }
            },
            "type": "histogram"
           }
          ],
          "histogram2d": [
           {
            "colorbar": {
             "outlinewidth": 0,
             "ticks": ""
            },
            "colorscale": [
             [
              0,
              "#0d0887"
             ],
             [
              0.1111111111111111,
              "#46039f"
             ],
             [
              0.2222222222222222,
              "#7201a8"
             ],
             [
              0.3333333333333333,
              "#9c179e"
             ],
             [
              0.4444444444444444,
              "#bd3786"
             ],
             [
              0.5555555555555556,
              "#d8576b"
             ],
             [
              0.6666666666666666,
              "#ed7953"
             ],
             [
              0.7777777777777778,
              "#fb9f3a"
             ],
             [
              0.8888888888888888,
              "#fdca26"
             ],
             [
              1,
              "#f0f921"
             ]
            ],
            "type": "histogram2d"
           }
          ],
          "histogram2dcontour": [
           {
            "colorbar": {
             "outlinewidth": 0,
             "ticks": ""
            },
            "colorscale": [
             [
              0,
              "#0d0887"
             ],
             [
              0.1111111111111111,
              "#46039f"
             ],
             [
              0.2222222222222222,
              "#7201a8"
             ],
             [
              0.3333333333333333,
              "#9c179e"
             ],
             [
              0.4444444444444444,
              "#bd3786"
             ],
             [
              0.5555555555555556,
              "#d8576b"
             ],
             [
              0.6666666666666666,
              "#ed7953"
             ],
             [
              0.7777777777777778,
              "#fb9f3a"
             ],
             [
              0.8888888888888888,
              "#fdca26"
             ],
             [
              1,
              "#f0f921"
             ]
            ],
            "type": "histogram2dcontour"
           }
          ],
          "mesh3d": [
           {
            "colorbar": {
             "outlinewidth": 0,
             "ticks": ""
            },
            "type": "mesh3d"
           }
          ],
          "parcoords": [
           {
            "line": {
             "colorbar": {
              "outlinewidth": 0,
              "ticks": ""
             }
            },
            "type": "parcoords"
           }
          ],
          "pie": [
           {
            "automargin": true,
            "type": "pie"
           }
          ],
          "scatter": [
           {
            "fillpattern": {
             "fillmode": "overlay",
             "size": 10,
             "solidity": 0.2
            },
            "type": "scatter"
           }
          ],
          "scatter3d": [
           {
            "line": {
             "colorbar": {
              "outlinewidth": 0,
              "ticks": ""
             }
            },
            "marker": {
             "colorbar": {
              "outlinewidth": 0,
              "ticks": ""
             }
            },
            "type": "scatter3d"
           }
          ],
          "scattercarpet": [
           {
            "marker": {
             "colorbar": {
              "outlinewidth": 0,
              "ticks": ""
             }
            },
            "type": "scattercarpet"
           }
          ],
          "scattergeo": [
           {
            "marker": {
             "colorbar": {
              "outlinewidth": 0,
              "ticks": ""
             }
            },
            "type": "scattergeo"
           }
          ],
          "scattergl": [
           {
            "marker": {
             "colorbar": {
              "outlinewidth": 0,
              "ticks": ""
             }
            },
            "type": "scattergl"
           }
          ],
          "scattermapbox": [
           {
            "marker": {
             "colorbar": {
              "outlinewidth": 0,
              "ticks": ""
             }
            },
            "type": "scattermapbox"
           }
          ],
          "scatterpolar": [
           {
            "marker": {
             "colorbar": {
              "outlinewidth": 0,
              "ticks": ""
             }
            },
            "type": "scatterpolar"
           }
          ],
          "scatterpolargl": [
           {
            "marker": {
             "colorbar": {
              "outlinewidth": 0,
              "ticks": ""
             }
            },
            "type": "scatterpolargl"
           }
          ],
          "scatterternary": [
           {
            "marker": {
             "colorbar": {
              "outlinewidth": 0,
              "ticks": ""
             }
            },
            "type": "scatterternary"
           }
          ],
          "surface": [
           {
            "colorbar": {
             "outlinewidth": 0,
             "ticks": ""
            },
            "colorscale": [
             [
              0,
              "#0d0887"
             ],
             [
              0.1111111111111111,
              "#46039f"
             ],
             [
              0.2222222222222222,
              "#7201a8"
             ],
             [
              0.3333333333333333,
              "#9c179e"
             ],
             [
              0.4444444444444444,
              "#bd3786"
             ],
             [
              0.5555555555555556,
              "#d8576b"
             ],
             [
              0.6666666666666666,
              "#ed7953"
             ],
             [
              0.7777777777777778,
              "#fb9f3a"
             ],
             [
              0.8888888888888888,
              "#fdca26"
             ],
             [
              1,
              "#f0f921"
             ]
            ],
            "type": "surface"
           }
          ],
          "table": [
           {
            "cells": {
             "fill": {
              "color": "#EBF0F8"
             },
             "line": {
              "color": "white"
             }
            },
            "header": {
             "fill": {
              "color": "#C8D4E3"
             },
             "line": {
              "color": "white"
             }
            },
            "type": "table"
           }
          ]
         },
         "layout": {
          "annotationdefaults": {
           "arrowcolor": "#2a3f5f",
           "arrowhead": 0,
           "arrowwidth": 1
          },
          "autotypenumbers": "strict",
          "coloraxis": {
           "colorbar": {
            "outlinewidth": 0,
            "ticks": ""
           }
          },
          "colorscale": {
           "diverging": [
            [
             0,
             "#8e0152"
            ],
            [
             0.1,
             "#c51b7d"
            ],
            [
             0.2,
             "#de77ae"
            ],
            [
             0.3,
             "#f1b6da"
            ],
            [
             0.4,
             "#fde0ef"
            ],
            [
             0.5,
             "#f7f7f7"
            ],
            [
             0.6,
             "#e6f5d0"
            ],
            [
             0.7,
             "#b8e186"
            ],
            [
             0.8,
             "#7fbc41"
            ],
            [
             0.9,
             "#4d9221"
            ],
            [
             1,
             "#276419"
            ]
           ],
           "sequential": [
            [
             0,
             "#0d0887"
            ],
            [
             0.1111111111111111,
             "#46039f"
            ],
            [
             0.2222222222222222,
             "#7201a8"
            ],
            [
             0.3333333333333333,
             "#9c179e"
            ],
            [
             0.4444444444444444,
             "#bd3786"
            ],
            [
             0.5555555555555556,
             "#d8576b"
            ],
            [
             0.6666666666666666,
             "#ed7953"
            ],
            [
             0.7777777777777778,
             "#fb9f3a"
            ],
            [
             0.8888888888888888,
             "#fdca26"
            ],
            [
             1,
             "#f0f921"
            ]
           ],
           "sequentialminus": [
            [
             0,
             "#0d0887"
            ],
            [
             0.1111111111111111,
             "#46039f"
            ],
            [
             0.2222222222222222,
             "#7201a8"
            ],
            [
             0.3333333333333333,
             "#9c179e"
            ],
            [
             0.4444444444444444,
             "#bd3786"
            ],
            [
             0.5555555555555556,
             "#d8576b"
            ],
            [
             0.6666666666666666,
             "#ed7953"
            ],
            [
             0.7777777777777778,
             "#fb9f3a"
            ],
            [
             0.8888888888888888,
             "#fdca26"
            ],
            [
             1,
             "#f0f921"
            ]
           ]
          },
          "colorway": [
           "#636efa",
           "#EF553B",
           "#00cc96",
           "#ab63fa",
           "#FFA15A",
           "#19d3f3",
           "#FF6692",
           "#B6E880",
           "#FF97FF",
           "#FECB52"
          ],
          "font": {
           "color": "#2a3f5f"
          },
          "geo": {
           "bgcolor": "white",
           "lakecolor": "white",
           "landcolor": "#E5ECF6",
           "showlakes": true,
           "showland": true,
           "subunitcolor": "white"
          },
          "hoverlabel": {
           "align": "left"
          },
          "hovermode": "closest",
          "mapbox": {
           "style": "light"
          },
          "paper_bgcolor": "white",
          "plot_bgcolor": "#E5ECF6",
          "polar": {
           "angularaxis": {
            "gridcolor": "white",
            "linecolor": "white",
            "ticks": ""
           },
           "bgcolor": "#E5ECF6",
           "radialaxis": {
            "gridcolor": "white",
            "linecolor": "white",
            "ticks": ""
           }
          },
          "scene": {
           "xaxis": {
            "backgroundcolor": "#E5ECF6",
            "gridcolor": "white",
            "gridwidth": 2,
            "linecolor": "white",
            "showbackground": true,
            "ticks": "",
            "zerolinecolor": "white"
           },
           "yaxis": {
            "backgroundcolor": "#E5ECF6",
            "gridcolor": "white",
            "gridwidth": 2,
            "linecolor": "white",
            "showbackground": true,
            "ticks": "",
            "zerolinecolor": "white"
           },
           "zaxis": {
            "backgroundcolor": "#E5ECF6",
            "gridcolor": "white",
            "gridwidth": 2,
            "linecolor": "white",
            "showbackground": true,
            "ticks": "",
            "zerolinecolor": "white"
           }
          },
          "shapedefaults": {
           "line": {
            "color": "#2a3f5f"
           }
          },
          "ternary": {
           "aaxis": {
            "gridcolor": "white",
            "linecolor": "white",
            "ticks": ""
           },
           "baxis": {
            "gridcolor": "white",
            "linecolor": "white",
            "ticks": ""
           },
           "bgcolor": "#E5ECF6",
           "caxis": {
            "gridcolor": "white",
            "linecolor": "white",
            "ticks": ""
           }
          },
          "title": {
           "x": 0.05
          },
          "xaxis": {
           "automargin": true,
           "gridcolor": "white",
           "linecolor": "white",
           "ticks": "",
           "title": {
            "standoff": 15
           },
           "zerolinecolor": "white",
           "zerolinewidth": 2
          },
          "yaxis": {
           "automargin": true,
           "gridcolor": "white",
           "linecolor": "white",
           "ticks": "",
           "title": {
            "standoff": 15
           },
           "zerolinecolor": "white",
           "zerolinewidth": 2
          }
         }
        },
        "title": {
         "text": "Ürün Adlarına Göre Kullanilmayan Urun Adetler"
        },
        "xaxis": {
         "anchor": "y",
         "categoryarray": [
          "ARMUT (Santa Marina)",
          "BİBER (II)",
          "BİBER Çarli (Yerli)",
          "DOMATES (Salkım Kutu)",
          "Domates 2",
          "ELMA (Arjantin)",
          "ELMA (Granny Smith)",
          "ELMA (II)",
          "ELMA (YERLİ) Muhtelif",
          "ELMA (YEŞİL)",
          "ERİK ( Anjelika )",
          "ERİK (Freze)",
          "FINDIK TAZE",
          "KARPUZ (İthal)",
          "KAVUN (İthal)",
          "KAYISI (Yerli)",
          "KIZILCIK",
          "KİRAZ (Beyaz)",
          "KİRAZ (Napolyon )",
          "KİVİ (İthal )",
          "LİMON (File )",
          "LİMON (II)",
          "MANDALİN (II)",
          "NEKTARİ",
          "NOHUT (Taze)",
          "PATATES (taze)",
          "PORTAKAL (II)",
          "PORTAKAL (Sıkmalık )",
          "SALATALIK (II)",
          "SEMİZ OTU(Bağ) yerli",
          "SOGAN (Göğer)",
          "SOĞAN (II)",
          "TURP KIRMIZI (yerli)",
          "VİŞNE",
          "VİŞNE (yerli)",
          "soğan yeşil (yerli)",
          "ÇAĞLA",
          "İNCİR ( Siyah )",
          "ŞEFTALİ YERLİ"
         ],
         "categoryorder": "array",
         "domain": [
          0,
          1
         ],
         "title": {
          "text": "urun_ad"
         }
        },
        "yaxis": {
         "anchor": "x",
         "domain": [
          0,
          1
         ],
         "title": {
          "text": "adet"
         }
        }
       }
      }
     },
     "metadata": {},
     "output_type": "display_data"
    }
   ],
   "source": [
    "# Gruplama ve ortalama hesaplama işlemi\n",
    "import plotly_express as px\n",
    "not_useful = pd.read_csv(\"nonuseful_hal_fiyatlari.csv\")\n",
    "\n",
    "sonuclar = nonuseful.groupby('urun_ad').agg({'urun_ad': 'count', 'ortalama_fiyat': 'mean'})\n",
    "\n",
    "# Sütun adlarını düzenleyelim\n",
    "sonuclar.columns = ['adet', 'ortalama_fiyat']\n",
    "\n",
    "# 'urun_ad' sütununu da ekleyelim\n",
    "sonuclar['urun_ad'] = sonuclar.index\n",
    "\n",
    "# Sıralama için indeksi sıfırlayalım\n",
    "sonuclar.reset_index(drop=True, inplace=True)\n",
    "\n",
    "# Sütunları yeniden düzenleyelim\n",
    "sonuclar = sonuclar[['urun_ad', 'adet', 'ortalama_fiyat']]\n",
    "\n",
    "# Çubuk grafiği oluşturalım\n",
    "fig = px.bar(sonuclar, x='urun_ad', y='adet', color='urun_ad', title='Ürün Adlarına Göre Kullanilmayan Urun Adetler')\n",
    "\n",
    "\n",
    "fig.show()\n",
    "# fig.write_image('urun_adlarina_gore_kullanilmayan_urun_adet_grafigi.png')"
   ]
  }
 ],
 "metadata": {
  "kernelspec": {
   "display_name": "Python 3",
   "language": "python",
   "name": "python3"
  },
  "language_info": {
   "codemirror_mode": {
    "name": "ipython",
    "version": 3
   },
   "file_extension": ".py",
   "mimetype": "text/x-python",
   "name": "python",
   "nbconvert_exporter": "python",
   "pygments_lexer": "ipython3",
   "version": "3.9.0"
  }
 },
 "nbformat": 4,
 "nbformat_minor": 2
}
